{
 "metadata": {
  "language": "Julia",
  "name": "",
  "signature": "sha256:c07f671c9eb52156e07ce2a17d6633bd738619c6e5af5f0b52b004f37cba7a4d"
 },
 "nbformat": 3,
 "nbformat_minor": 0,
 "worksheets": [
  {
   "cells": [
    {
     "cell_type": "heading",
     "level": 2,
     "metadata": {},
     "source": [
      "P\u00e9ndulo de Foucault"
     ]
    },
    {
     "cell_type": "markdown",
     "metadata": {},
     "source": [
      "***L. Felipe G\u00f3mez L\u00f3pez***\n",
      "\n",
      "***Guillermo Xchell Calva Garc\u00eda***\n",
      "\n",
      "*Universidad Nacional \u00c1utonoma de M\u00e9xico, Facultad de Ciencias*"
     ]
    },
    {
     "cell_type": "heading",
     "level": 3,
     "metadata": {},
     "source": [
      "1. Transformaci\u00f3n de coordenadas para sistemas de referencia no inerciales"
     ]
    },
    {
     "cell_type": "markdown",
     "metadata": {},
     "source": [
      "La primera Ley de Newton define un Sistema Inercial (SI) y la segunda Ley de Newton $\\vec{F} = \\frac{d^2\\vec{p}}{dt^2}$ es unicamente v\u00e1lida para un SI. Las ecuaciones de movimiento de una particula son las mismas para un SI que para todo aquel sistema de referencia que se mueve con velocidad constante respecto a \u00e9ste. Si la regla de transformaci\u00f3n entre los dos sistemas es la de Galileo,\n",
      "\n",
      "$$\\vec{r} = \\vec{r}' + \\vec{u}t$$\n",
      "\n",
      "$$t = t'$$\n",
      "\n",
      "la segunda Ley de Newton es invariante ante esta transformaci\u00f3n, esto es,\n",
      "\n",
      "$$\\vec{F} = m \\frac{d^2 \\vec{r}}{dt^2} = m \\frac{d^2 \\vec{r'}}{dt^2}$$\n",
      "\n",
      "y ambos sistemas son SI y por tanto miden la misma aceleeraci\u00f3n. Esto ya no es valido cuando el segundo sistema ya no se mueve con velocidad constante (movimiento acelerado) con respecto al primero."
     ]
    },
    {
     "cell_type": "markdown",
     "metadata": {},
     "source": [
      "Cuando el sistema no es un SI, la seguunda Ley de Newton debe modificarse. Consideremos un sistema inercial de referencia S y un sistema S' que se mueve con respecto al primero, el segundo sistema puede acelerarse y rotar (SNI).\n",
      "Sea $\\vec{r}(t)$ la posici\u00f3n de una part\u00edcula medida desde S (SI) al tiempo $t$, y $\\vec{r}'(t)$ la posici\u00f3n de la misma part\u00edcula medida desde S' al mismo tiempo t (restringido al caso cl\u00e1sico donde $\\Delta t = \\Delta t'$). Entonces ambas posiciones estan relacionadas por\n",
      "\n",
      "$$\\vec{r}(t) = \\vec{R}(t) + \\vec{r'}(t)$$\n",
      "\n",
      "donde $\\vec{R}(t)$ corresponde al vector de posici\u00f3n del origen S' medido desde el sistema S, de tal forma que la primera derivada es\n",
      "\n",
      "$$\\dot{\\vec{r}} = \\dot{\\vec{R}} + \\dot{\\vec{r'}}$$\n",
      "\n",
      "descomponiendo al vector $\\vec{r}$ \n",
      "\n",
      "$$\\dot{\\vec{r'}} = x'\\hat{i'} + y' \\hat{j'} + z' \\hat{k'}$$\n",
      "\n",
      "donde $\\hat{i'}$, $\\hat{j'}$, $\\hat{k'}$ son los vectores unitarios en las direcciones $x'$, $y'$, $z'$ respectivamente, del sistema S'. De esta forma obtenemos que\n",
      "\n",
      "$$\\dot{\\vec{r}} = \\dot{\\vec{R}} + \\dot{x}'\\hat{i'} + \\dot{y}' \\hat{j'} + \\dot{z}' \\hat{k'} + x'\\frac{d \\hat{i'}}{dt} + y' \\frac{d\\hat{j'}}{dt} + z' \\frac{d\\hat{k'}}{dt}$$"
     ]
    },
    {
     "cell_type": "markdown",
     "metadata": {},
     "source": [
      "Definimos $\\{\\dot{\\vec{r'}}\\}_{SNI} := \\dot{x}'\\hat{i'} + \\dot{y}' \\hat{j'} + \\dot{z}' \\hat{k'}$ que es la velocidad de la part\u00edcula medida desde S', entonces la expresi\u00f3n anterior la podemos reescribir como\n",
      "\n",
      "$$\\dot{\\vec{r}} = \\dot{\\vec{R}} + \\left\\{ \\dot{\\vec{r'}} \\right\\}_{SNI}+ x'\\frac{d \\hat{i'}}{dt} + y' \\frac{d\\hat{j'}}{dt} + z' \\frac{d\\hat{k'}}{dt}$$\n",
      "\n",
      "los terminos restantes corresponden a la rotaci\u00f3n del sistema S'."
     ]
    },
    {
     "cell_type": "markdown",
     "metadata": {},
     "source": [
      "Cualquier rotaci\u00f3n esta identificada por el vector de velocidad angular $\\vec{\\omega}$. Las derivadas con respecto al tiempo de los vectores base pueden ser calculados de la siguiente manera: escrinimos la velocidad angular como\n",
      "\n",
      "$$\\vec{\\omega} = \\omega \\hat{n}$$\n",
      "\n",
      "donde $\\hat{n}$ es el eje instant\u00e1neo de giro, entonces debido a que $\\hat{n}$ es unitario , en una primera aproximaci\u00f3n obtenemos para $\\Delta \\hat{i'}$\n",
      "\n",
      "$$|\\Delta\\hat{i'}| = \\Delta\\theta \\sin{\\alpha}$$\n",
      "\n",
      "y el valor absoluto de la derivada temporal es:\n",
      "\n",
      "$$|\\frac{d\\hat{i'}}{dt}| = \\omega\\sin{\\alpha}$$\n",
      "\n",
      "$$\\omega = \\frac{d\\theta}{dt}$$\n",
      "\n",
      "observamos que la direcci\u00f3n de este vector tiene que ser tanto perpendicular a $\\hat{i'}$ como a $\\vec{\\omega}$, entonces utilizando la definici\u00f3n de producto vectorial podemos escribir que\n",
      "\n",
      "$$\\frac{d\\hat{i'}}{dt} = \\vec{\\omega} \\times \\hat{i'}$$\n",
      "\n",
      "An\u00e1logamente para los otros vectores unitarios, obtenemos\n",
      "\n",
      "$$\\frac{d\\hat{j'}}{dt} = \\vec{\\omega} \\times \\hat{j'}$$\n",
      "\n",
      "$$\\frac{d\\hat{k'}}{dt} = \\vec{\\omega} \\times \\hat{k'}$$\n",
      "\n",
      "Finalmente podemos reescribir la ecuaci\u00f3n que relaciona a S y S' como\n",
      "\n",
      "$$\\dot{\\vec{r}} = \\dot{\\vec{R}} + \\left\\{ \\dot{\\vec{r'}} \\right\\}_{SNI} + \\vec{\\omega} \\times \\vec{r'}$$"
     ]
    },
    {
     "cell_type": "markdown",
     "metadata": {},
     "source": [
      "Observamos que hay un operador que asociado a la derivada temporal en el SNI, que es\n",
      "\n",
      "$$\\frac{d}{dt} = \\left\\{\\frac{d}{dt}\\right\\}_{SNI} + \\vec{\\omega} \\times$$\n",
      "\n",
      "Aplicando dos veces este operador ahora se puede obtener la aceleraci\u00f3n\n",
      "\n",
      "$$\\frac{d}{dt} \\left( \\dot{\\vec{r}} - \\dot{\\vec{R}} \\right) = \\left[ \\left\\{\\frac{d}{dt}\\right\\}_{SNI} + \\vec{\\omega} \\times \\right] \\left[ \\left\\{\\frac{d}{dt}\\right\\}_{SNI} + \\vec{\\omega} \\times \\right] \\vec{r'}$$\n",
      "\n",
      "simplificando\n",
      "\n",
      "$$\\ddot{\\vec{r}} - \\ddot{\\vec{R}} = \\left\\{ \\frac{d^2 \\vec{r'}}{dt^2} \\right\\}_{SNI} + 2\\vec{\\omega} \\times \\left\\{\\frac{d\\vec{r'}}{dt}\\right\\}_{SNI} + \\left\\{ \\frac{d\\vec{\\omega}}{dt}\\right\\}_{SNI} \\times \\vec{r'} + \\vec{\\omega} \\times (\\vec{\\omega} \\times \\vec{r'})$$"
     ]
    },
    {
     "cell_type": "markdown",
     "metadata": {},
     "source": [
      "si definimos  $\\vec{A} := \\vec{\\ddot{R}}$ que es la aceleraci\u00f3n lineal del sistema S' medida desde S, entonces reescribimos\n",
      "\n",
      "$$\\ddot{\\vec{r}} = \\vec{A} + \\{ \\ddot{\\vec{r}} \\}_{SNI} + 2\\vec{\\omega} \\times \\{ \\dot{\\vec{r'}} \\}_{SNI} + \\{\\dot{\\vec{\\omega}} \\}_{SNI} \\times \\vec{r'} + \\vec{\\omega} \\times (\\vec{\\omega} \\times \\vec{r'})$$\n",
      "\n",
      "Ahora podemos escribir la segunda Ley de Newton para sistemas no inerciales\n",
      "\n",
      "$$\\vec{F} = m\\vec{A} + m\\{ \\ddot{\\vec{r}} \\}_{SNI} + 2m\\vec{\\omega} \\times \\{ \\dot{\\vec{r'}} \\}_{SNI} + m\\{\\dot{\\vec{\\omega}} \\}_{SNI} \\times \\vec{r'} + m\\vec{\\omega} \\times (\\vec{\\omega} \\times \\vec{r'})$$\n",
      "\n",
      "o equivalentemente \n",
      "\n",
      "$$\\boxed{m\\{ \\ddot{\\vec{r}} \\}_{SNI} = \\vec{F} - m\\vec{A} - 2m\\vec{\\omega} \\times \\{ \\dot{\\vec{r'}} \\}_{SNI} - m\\{\\dot{\\vec{\\omega}} \\}_{SNI} \\times \\vec{r'} - m\\vec{\\omega} \\times (\\vec{\\omega} \\times \\vec{r'})}$$"
     ]
    },
    {
     "cell_type": "markdown",
     "metadata": {},
     "source": [
      "Observamos que la ecuaci\u00f3n de movimiento para el sistema no inercial se modifica; a la fuerza aplicada $\\vec{F}$ deben a\u00f1adirse terminos no inerciales:\n",
      "\n",
      "- $-m\\vec{A}$ es la fuerza inercial debida a la aceleraci\u00f3n $\\left(\\ddot{\\vec{R}}\\right)$ del sistema en movimiento.\n",
      "- $-2m\\vec{\\omega} \\times \\{ \\dot{\\vec{r'}} \\}_{SNI}$ representa a la llamada fuerza de **Coriolis**; esta es una fuerza perpendicular al eje de rotaci\u00f3n y proporcional a la velocidad de la part\u00edcula en  el sistema no inercial, tiende a desviar a la part\u00edcula de su movimiento.\n",
      "- $- m\\{\\dot{\\vec{\\omega}} \\}_{SNI} \\times \\vec{r'}$ se llama azimutal o transversal , n\u00f3tese que $\\{\\vec{\\dot{\\omega}}\\}_{SNI} = \\vec{\\dot{\\omega}}$, esta fuerza s\u00f3lo existe cuando hay aceleraci\u00f3n angular y es transversal al eje de rotaci\u00f3n.\n",
      "- $- m\\vec{\\omega} \\times (\\vec{\\omega} \\times \\vec{r'})$ es la fuerza centr\u00edfuga que apunta siempre hacia afuera del eje de rotaci\u00f3n y perpendicular a \u00e9ste."
     ]
    },
    {
     "cell_type": "heading",
     "level": 3,
     "metadata": {},
     "source": [
      "2. Lagrangiano para un sistema de referencia no inercial"
     ]
    },
    {
     "cell_type": "markdown",
     "metadata": {},
     "source": [
      "Para un sistema de referencia inercial usamos el lagrangiano, por ejemplo, para un p\u00e9ndulo\n",
      "\n",
      "$$L_0 = K - U$$\n",
      "\n",
      "$$L_0 = \\frac{1}{2}m\\vec{v} - U$$\n",
      "\n",
      "Sia hora consideramos un SNI, la base de la soluci\u00f3n es la misma, el principio de m\u00ednima acci\u00f3n, ya que no depende del sistema de referencia que se escoja. Las ecuaciones de Euler-Lagrange\n",
      "\n",
      "$$\\frac{d}{dt}\\left(\\frac{\\partial L}{\\partial\\vec{v}} \\right)= \\frac{\\partial L}{\\partial\\vec{r}}$$\n",
      "\n",
      "a\u00fan son v\u00e1lidas, pero la forma del lagrangiano ya no es la misma, es necesario hacer una tranformaci\u00f3n de la funci\u00f3n $L_0$.\n",
      "\n",
      "Haremos la transformaci\u00f3n en dos pasos. Primero consideramos el sistema de referencia S' que se mueve translacionalmente con velocidad $V(t)$ relativa al sistema de referencia inercial S.. La velocidad de $v$ y $v'$ de la part\u00edcula en ambos sistemas de referencia respectivamente est\u00e1n relacionados por\n",
      "\n",
      "$$\\vec{v} = \\vec{v}' + \\vec{V}(t)$$\n",
      "\n",
      "sustituyendo en la ecuaci\u00f3n del Lagrangiano\n",
      "\n",
      "$$L' = \\frac{1}{2}m\\vec{v}'^2 + m\\vec{v}'\\cdot\\vec{V} + \\frac{1}{2}m\\vec{V}^2-U$$"
     ]
    },
    {
     "cell_type": "markdown",
     "metadata": {},
     "source": [
      "Ahora notamos que  $V^2(t)$ es una funci\u00f3n dada del tiempo, y puede escribirse como la derivada total de $t$ de alguna otra funci\u00f3n; por tanto el tercer termino de $L'$ lo podemos omitir. Despu\u00e9s, $\\vec{v}' = \\frac{d\\vec{r}'}{dt}$. Por lo tanto\n",
      "\n",
      "$$m\\vec{V}'(t)\\cdot\\vec{v}' = m\\vec{V}\\cdot\\frac{\\vec{r}'}{dt} = \\frac{d(m\\vec{V}\\cdot\\vec{r}')}{dt} - m\\vec{r}'\\cdot \\frac{d\\vec{v}}{dt} $$\n",
      "\n",
      "Sustituyendo en el lagrangiano y omitiendo de nuevo la derivada total con respecto al tiempo, obtenemos:\n",
      "\n",
      "$$L' = \\frac{1}{2}mv'^2 - m\\vec{A}(t)\\cdot\\vec{r}' - U$$\n",
      "\n",
      "donde $\\vec{A} := \\frac{\\vec{V}}{dt}$. La ecuacion de Euler-Lagrange derivada de la ecuaci\u00f3n anterior es \n",
      "\n",
      "$$m\\frac{d\\vec{v}'}{dt} = -\\frac{\\partial U}{\\partial \\vec{r}'} - m\\vec{A}(t)$$.\n",
      "\n",
      "Por tanto un sistema acelerado tranlacionalmente de un sistema de referencia no inerial, tiene efectos sobre las ecuaciones de movimiento de la particula, como la acci\u00f3n de un campo uniforme  de fuerza igual a la masa de la part\u00edcula multiplicada por la aceleraci\u00f3n $\\vec{A}(t)$, en direcci\u00f3n opuesta a \u00e9sta aceleraci\u00f3n."
     ]
    },
    {
     "cell_type": "markdown",
     "metadata": {},
     "source": [
      "Para la segunda parte ahora consideramos que S'' coincide en el origen con S', pero que S'' rota con velocidad angular $\\vec{\\Omega}(t)$. Entonces ahora S'' presenta un movimiento rotacional y translacional respecto al sistema de referencia S.\n",
      "La velocidad $\\vec{v}'$ de la part\u00edcula respecto a S' se compone de la velocidad $\\vec{v}''$ respeecto a S'' y la velocidad $\\vec{\\Omega}\\times\\vec{r}$ de su rotaci\u00f3n con S''\n",
      "\n",
      "$$\\vec{v}' = \\vec{v}'' + \\Omega\\times\\vec{r''}$$\n",
      "\n",
      "dado que el radio dvector $\\vec{r}''$ y \\vec{r}'$ en los sistemas de referencia S'' y S' coinciden. Sustituyendo en la \u00faltima ecuaci\u00f3n del lagrangiano que obtuvimos\n",
      "\n",
      "$$\\boxed{L = \\frac{1}{2}mv^2 + m\\vec{v}\\cdot\\Omega\\times\\vec{r}'' + \\frac{1}{2}m(\\Omega\\times\\vec{r}'')^2 - m\\vec{A}\\cdot\\vec{r}'' - U} $$\n",
      "\n",
      "Esta es la forma m\u00e1s general del lagrangiano de una part\u00edcula en un arbitrario, no necesariamente inercial, sistema de referencia. La rotaci\u00f3n del sistema influye en un termino linear en la velocidad de la part\u00edcula en el lagrangiano.\n",
      "\n",
      "Si consideramos un caso especial de un sistema de referencia que rota uniformemente y no tiene aceleracion translacional: $\\vec{\\Omega} = cte$ $\\vec{A} = 0$, obtenemos el lagrangiano\n",
      "\n",
      "$$\\boxed{L = \\frac{1}{2}mv^2 + m\\vec{v}\\cdot\\vec{\\Omega}\\times\\vec{r} + \\frac{1}{2}m(\\vec{\\Omega}\\times\\vec{r})^2-U}$$"
     ]
    },
    {
     "cell_type": "code",
     "collapsed": false,
     "input": [
      "using PyCall\n",
      "using SymPy\n",
      "using PyPlot\n",
      "\n",
      "@pyimport matplotlib.animation as anim"
     ],
     "language": "python",
     "metadata": {},
     "outputs": [
      {
       "output_type": "stream",
       "stream": "stderr",
       "text": [
        "Warning: imported binding for transpose overwritten in module __anon__\n",
        "INFO: Loading help data...\n"
       ]
      }
     ],
     "prompt_number": 1
    },
    {
     "cell_type": "code",
     "collapsed": false,
     "input": [
      "function rk4(q0,v0,t0,tf,h,f_q,f_v)\n",
      "    q=Vector{Float32}[]\n",
      "    v=Vector{Float32}[]\n",
      "    t=Float32[]\n",
      "    for ti in t0:h:tf\n",
      "        k1= f_v(q0,v0,ti)\n",
      "        k2 = f_v(q0+0.5*h*k1,v0+0.5*h*k1,ti+0.5*h)\n",
      "        k3 = f_v(q0+0.5*h*k2,v0+0.5*h*k2,ti+0.5*h)\n",
      "        k4 = f_v(q0+h*k3,v0+h*k3,ti+h)\n",
      "        v_nueva = v0 + (h/6)*(k1+(2*k2) + (2*k3) + k4)\n",
      "        \n",
      "        m1 = f_q(q0,v_nueva,ti)\n",
      "        m2 = f_q(q0+0.5*h*m1,v_nueva+0.5*h*m1,ti+0.5*h)\n",
      "        m3 = f_q(q0+0.5*h*m2,v_nueva+0.5*h*m2,ti+0.5*h)\n",
      "        m4 = f_q(q0+h*m3,v_nueva+h*m3,ti+h)\n",
      "        q_nueva = q0 + (h/6)*(m1+(2*m2) + (2*m3) + m4)\n",
      "        q0=q_nueva\n",
      "        v0=v_nueva\n",
      "        push!(t,ti)\n",
      "        push!(q,q0)\n",
      "        push!(v,v0)\n",
      "        \n",
      "         end\n",
      "    t,hcat(q...)',hcat(v...)'\n",
      "end"
     ],
     "language": "python",
     "metadata": {},
     "outputs": []
    },
    {
     "cell_type": "code",
     "collapsed": false,
     "input": [
      "\u03b8 = SymFunction(\"\\\\theta\")\n",
      "\u03b4 = SymFunction(\"\\\\delta\")\n",
      "m, \u03a9, g, \u2113,\u03b1,t = sym\"m,\\Omega,g,\\ell,\\alpha,t\"\n",
      "\u03c90 = sqrt(g/\u2113)\n",
      "\u03b2 = \u03a9*cos(\u03b1);"
     ],
     "language": "python",
     "metadata": {},
     "outputs": [],
     "prompt_number": 42
    },
    {
     "cell_type": "code",
     "collapsed": false,
     "input": [
      "\u03a9x = -\u03a9*cos(\u03b1)\n",
      "\u03a9z = \u03a9*sin(\u03b1)\n",
      "\u03a9\u0304 = [\u03a9x,0,\u03a9z]\n",
      "Eq(sym\"\\bar{\\Omega}\",\u03a9\u0304)"
     ],
     "language": "python",
     "metadata": {},
     "outputs": [
      {
       "latex": [
        "$$\\bar{\\Omega} = \\left[\\begin{matrix}- \\Omega \\cos{\\left (\\alpha \\right )}\\\\0\\\\\\Omega \\sin{\\left (\\alpha \\right )}\\end{matrix}\\right]$$"
       ],
       "metadata": {},
       "output_type": "pyout",
       "prompt_number": 44,
       "text": [
        "\\bar{\\Omega} = [-\\Omega*cos(\\alpha)]\n",
        "               [                   ]\n",
        "               [         0         ]\n",
        "               [                   ]\n",
        "               [\\Omega*sin(\\alpha) ]"
       ]
      }
     ],
     "prompt_number": 44
    },
    {
     "cell_type": "code",
     "collapsed": false,
     "input": [
      "\u03b4\u0307 = SymFunction(\"\\\\dot{\\\\delta}\")\n",
      "\u03b8\u0307 = SymFunction(\"\\\\dot{\\\\theta}\")\n",
      "\n",
      "\u03b4\u0308 = SymFunction(\"\\\\ddot{\\\\delta}\")\n",
      "\u03b8\u0308 = SymFunction(\"\\\\ddot{\\\\theta}\")"
     ],
     "language": "python",
     "metadata": {},
     "outputs": [
      {
       "metadata": {},
       "output_type": "pyout",
       "prompt_number": 16,
       "text": [
        "(anonymous function)"
       ]
      }
     ],
     "prompt_number": 16
    },
    {
     "cell_type": "code",
     "collapsed": false,
     "input": [
      "x_esf = \u2113*sin(\u03b4(t))*cos(\u03b8(t))\n",
      "y_esf = \u2113*sin(\u03b4(t))*sin(\u03b8(t))\n",
      "z_esf = \u2113 - \u2113*cos(\u03b4(t));"
     ],
     "language": "python",
     "metadata": {},
     "outputs": [],
     "prompt_number": 6
    },
    {
     "cell_type": "code",
     "collapsed": false,
     "input": [
      "r\u0304\u2082 = [x_esf,y_esf,z_esf]\n",
      "rotacion = [sin(\u03b1) 0 cos(\u03b1);0 1 0;-cos(\u03b1) 0 sin(\u03b1)]\n",
      "r\u0304\u0307\u2082 = rotacion *r\u0304\u2082\n",
      "v\u0304\u0307\u2082 = diff(r\u0304\u0307\u2082,t)\n",
      "\u03a9\u0304r\u0304\u2082 = \u00d7(\u03a9\u0304,r\u0304\u2082)\n",
      "Eq(sym\"\\bar{\\Omega}\\times{\\bar{r}_2}\", \u03a9\u0304r\u0304\u2082)"
     ],
     "language": "python",
     "metadata": {},
     "outputs": [
      {
       "latex": [
        "$$\\bar{\\Omega}\\times{\\bar{r}_{2}} = \\left[\\begin{matrix}- \\Omega \\ell \\sin{\\left (\\alpha \\right )} \\sin{\\left (\\delta{\\left (t \\right )} \\right )} \\sin{\\left (\\theta{\\left (t \\right )} \\right )}\\\\\\Omega \\ell \\sin{\\left (\\alpha \\right )} \\sin{\\left (\\delta{\\left (t \\right )} \\right )} \\cos{\\left (\\theta{\\left (t \\right )} \\right )} + \\Omega \\left(- \\ell \\cos{\\left (\\delta{\\left (t \\right )} \\right )} + \\ell\\right) \\cos{\\left (\\alpha \\right )}\\\\- \\Omega \\ell \\sin{\\left (\\delta{\\left (t \\right )} \\right )} \\sin{\\left (\\theta{\\left (t \\right )} \\right )} \\cos{\\left (\\alpha \\right )}\\end{matrix}\\right]$$"
       ],
       "metadata": {},
       "output_type": "pyout",
       "prompt_number": 48,
       "text": [
        "\\bar{\\Omega}\\times{\\bar{r}_2} = [                         -\\Omega*\\ell*sin(\\al\n",
        "                                [                                             \n",
        "                                [\\Omega*\\ell*sin(\\alpha)*sin(\\delta(t))*cos(\\t\n",
        "                                [                                             \n",
        "                                [                         -\\Omega*\\ell*sin(\\de\n",
        "\n",
        "pha)*sin(\\delta(t))*sin(\\theta(t))                         ]\n",
        "                                                           ]\n",
        "heta(t)) + \\Omega*(-\\ell*cos(\\delta(t)) + \\ell)*cos(\\alpha)]\n",
        "                                                           ]\n",
        "lta(t))*sin(\\theta(t))*cos(\\alpha)                         ]"
       ]
      }
     ],
     "prompt_number": 48
    },
    {
     "cell_type": "code",
     "collapsed": false,
     "input": [
      "v\u0304\u2083 = diff(r\u0304\u2082,t)\n",
      "v\u0304\u2083 = subs(v\u0304\u2083,diff(\u03b8(t),t),\u03b8\u0307(t))\n",
      "v\u0304\u2083 = subs(v\u0304\u2083,diff(\u03b4(t),t),\u03b4\u0307(t))\n",
      "Eq(sym\"\\bar{v}_3\",v\u0304\u2083)"
     ],
     "language": "python",
     "metadata": {},
     "outputs": [
      {
       "latex": [
        "$$\\bar{v}_{3} = \\left[\\begin{matrix}\\ell \\dot{\\delta}{\\left (t \\right )} \\cos{\\left (\\delta{\\left (t \\right )} \\right )} \\cos{\\left (\\theta{\\left (t \\right )} \\right )} - \\ell \\dot{\\theta}{\\left (t \\right )} \\sin{\\left (\\delta{\\left (t \\right )} \\right )} \\sin{\\left (\\theta{\\left (t \\right )} \\right )}\\\\\\ell \\dot{\\delta}{\\left (t \\right )} \\sin{\\left (\\theta{\\left (t \\right )} \\right )} \\cos{\\left (\\delta{\\left (t \\right )} \\right )} + \\ell \\dot{\\theta}{\\left (t \\right )} \\sin{\\left (\\delta{\\left (t \\right )} \\right )} \\cos{\\left (\\theta{\\left (t \\right )} \\right )}\\\\\\ell \\dot{\\delta}{\\left (t \\right )} \\sin{\\left (\\delta{\\left (t \\right )} \\right )}\\end{matrix}\\right]$$"
       ],
       "metadata": {},
       "output_type": "pyout",
       "prompt_number": 50,
       "text": [
        "\\bar{v}_3 = [\\ell*\\dot{\\delta}(t)*cos(\\delta(t))*cos(\\theta(t)) - \\ell*\\dot{\\t\n",
        "            [                                                                 \n",
        "            [\\ell*\\dot{\\delta}(t)*sin(\\theta(t))*cos(\\delta(t)) + \\ell*\\dot{\\t\n",
        "            [                                                                 \n",
        "            [                                  \\ell*\\dot{\\delta}(t)*sin(\\delta\n",
        "\n",
        "heta}(t)*sin(\\delta(t))*sin(\\theta(t))]\n",
        "                                      ]\n",
        "heta}(t)*sin(\\delta(t))*cos(\\theta(t))]\n",
        "                                      ]\n",
        "(t))                                  ]"
       ]
      }
     ],
     "prompt_number": 50
    },
    {
     "cell_type": "code",
     "collapsed": false,
     "input": [
      "coreolis = (m*v3_vec[1])*\u03a9r2[1] + (m*v3_vec[2])*\u03a9r2[2] + (m*v3_vec[3])*\u03a9r2[3];\n",
      "\n",
      "centrifuga = m/2 * ((\u03a9r2[1]*\u03a9r2[1]) + (\u03a9r2[2]*\u03a9r2[2]) + (\u03a9r2[3]*\u03a9r2[3]) );"
     ],
     "language": "python",
     "metadata": {},
     "outputs": [],
     "prompt_number": 9
    },
    {
     "cell_type": "code",
     "collapsed": false,
     "input": [
      "L3 = m/2*(v3_vec[1]*v3_vec[1] + v3_vec[2]*v3_vec[2] + v3_vec[3]*v3_vec[3]) + coreolis + centrifuga - (m*g*z_esf);\n",
      "L3 = simplify(L3);"
     ],
     "language": "python",
     "metadata": {},
     "outputs": [],
     "prompt_number": 11
    },
    {
     "cell_type": "code",
     "collapsed": false,
     "input": [
      "F\u03b82=diff(L3,\u03b8(t))\n",
      "F\u03b43=diff(L3,\u03b4(t))\n",
      "\n",
      "P\u03b82=diff(L3,diff(\u03b8(t),t))\n",
      "P\u03b43=diff(L3,diff(\u03b4(t),t))\n",
      "\n",
      "Eq_\u03b43=diff(P\u03b43,t) - F\u03b43\n",
      "Eq_\u03b43=simplify(Eq_\u03b43)\n",
      "\n",
      "Eq_\u03b82=diff(P\u03b82,t) - F\u03b82\n",
      "Eq_\u03b82=simplify(Eq_\u03b82);"
     ],
     "language": "python",
     "metadata": {},
     "outputs": [],
     "prompt_number": 12
    },
    {
     "cell_type": "code",
     "collapsed": false,
     "input": [
      "Eq_\u03b43 = subs(Eq_\u03b43,diff(\u03b4(t),t,2),\u03b4pp);\n",
      "Eq_\u03b43 = subs(Eq_\u03b43,diff(\u03b4(t),t,1),\u03b4p);\n",
      "Eq_\u03b43 = subs(Eq_\u03b43,diff(\u03b8(t),t,2),\u03b8pp);\n",
      "Eq_\u03b43 = subs(Eq_\u03b43,diff(\u03b8(t),t,1),\u03b8p);\n",
      "\n",
      "Eq_\u03b82 = subs(Eq_\u03b82,diff(\u03b4(t),t,2),\u03b4pp);\n",
      "Eq_\u03b82 = subs(Eq_\u03b82,diff(\u03b4(t),t,1),\u03b4p);\n",
      "Eq_\u03b82 = subs(Eq_\u03b82,diff(\u03b8(t),t,2),\u03b8pp);\n",
      "Eq_\u03b82 = subs(Eq_\u03b82,diff(\u03b8(t),t,1),\u03b8p);"
     ],
     "language": "python",
     "metadata": {},
     "outputs": [],
     "prompt_number": 13
    },
    {
     "cell_type": "code",
     "collapsed": false,
     "input": [
      "(sol\u03b82,sol\u03b43)=solve([Eq_\u03b82,Eq_\u03b43],[\u03b8pp,\u03b4pp])"
     ],
     "language": "python",
     "metadata": {},
     "outputs": [
      {
       "latex": [
        "\\begin{equation*}\\begin{cases}\\ddot{\\theta} & \\text{=>} &\\frac{\\Omega^{2} \\sin{\\left (\\alpha \\right )} \\cos{\\left (\\alpha \\right )}}{\\tan{\\left (\\delta{\\left (t \\right )} \\right )}} \\sin{\\left (\\theta{\\left (t \\right )} \\right )} - \\frac{\\Omega^{2} \\sin{\\left (\\alpha \\right )} \\cos{\\left (\\alpha \\right )}}{\\sin{\\left (\\delta{\\left (t \\right )} \\right )}} \\sin{\\left (\\theta{\\left (t \\right )} \\right )} + \\Omega^{2} \\sin{\\left (\\theta{\\left (t \\right )} \\right )} \\cos^{2}{\\left (\\alpha \\right )} \\cos{\\left (\\theta{\\left (t \\right )} \\right )} - \\frac{2 \\Omega \\dot{\\delta} \\sin{\\left (\\alpha \\right )}}{\\tan{\\left (\\delta{\\left (t \\right )} \\right )}} - 2 \\Omega \\dot{\\delta} \\cos{\\left (\\alpha \\right )} \\cos{\\left (\\theta{\\left (t \\right )} \\right )} - \\frac{2 \\dot{\\delta} \\dot{\\theta}}{\\tan{\\left (\\delta{\\left (t \\right )} \\right )}}\\\\\\ddot{\\delta} & \\text{=>} &- 2 \\Omega^{2} \\sin{\\left (\\alpha \\right )} \\cos{\\left (\\alpha \\right )} \\cos^{2}{\\left (\\delta{\\left (t \\right )} \\right )} \\cos{\\left (\\theta{\\left (t \\right )} \\right )} + \\Omega^{2} \\sin{\\left (\\alpha \\right )} \\cos{\\left (\\alpha \\right )} \\cos{\\left (\\delta{\\left (t \\right )} \\right )} \\cos{\\left (\\theta{\\left (t \\right )} \\right )} + \\frac{\\Omega^{2}}{4} \\sin{\\left (2 \\alpha - \\theta{\\left (t \\right )} \\right )} + \\frac{\\Omega^{2}}{4} \\sin{\\left (2 \\alpha + \\theta{\\left (t \\right )} \\right )} - \\Omega^{2} \\sin{\\left (\\delta{\\left (t \\right )} \\right )} \\cos^{2}{\\left (\\alpha \\right )} \\cos{\\left (\\delta{\\left (t \\right )} \\right )} \\cos^{2}{\\left (\\theta{\\left (t \\right )} \\right )} - \\Omega^{2} \\sin{\\left (\\delta{\\left (t \\right )} \\right )} \\cos^{2}{\\left (\\alpha \\right )} \\cos{\\left (\\delta{\\left (t \\right )} \\right )} + \\Omega^{2} \\sin{\\left (\\delta{\\left (t \\right )} \\right )} \\cos^{2}{\\left (\\alpha \\right )} + \\frac{\\Omega^{2}}{2} \\sin{\\left (2 \\delta{\\left (t \\right )} \\right )} - 2 \\Omega \\dot{\\theta} \\cos{\\left (\\alpha \\right )} \\cos^{2}{\\left (\\delta{\\left (t \\right )} \\right )} \\cos{\\left (\\theta{\\left (t \\right )} \\right )} + 2 \\Omega \\dot{\\theta} \\cos{\\left (\\alpha \\right )} \\cos{\\left (\\theta{\\left (t \\right )} \\right )} + \\frac{\\Omega \\dot{\\theta}}{2} \\cos{\\left (\\alpha - 2 \\delta{\\left (t \\right )} \\right )} - \\frac{\\Omega \\dot{\\theta}}{2} \\cos{\\left (\\alpha + 2 \\delta{\\left (t \\right )} \\right )} + \\frac{\\dot{\\theta}^{2}}{2} \\sin{\\left (2 \\delta{\\left (t \\right )} \\right )} - \\frac{g}{\\ell} \\sin{\\left (\\delta{\\left (t \\right )} \\right )}\\\\\\end{cases}\\end{equation*}"
       ],
       "metadata": {},
       "output_type": "pyout",
       "prompt_number": 14,
       "text": [
        "Dict{Any,Any} with 2 entries:\n",
        "  \"\\\\ddot{\\\\theta}\" =>       2                                                2\u2026\n",
        "  \"\\\\ddot{\\\\delta}\" =>                                                         \u2026"
       ]
      }
     ],
     "prompt_number": 14
    },
    {
     "cell_type": "code",
     "collapsed": false,
     "input": [
      "sol\u03b82 = sol\u03b82[2]\n",
      "sol\u03b43 = sol\u03b43[2];"
     ],
     "language": "python",
     "metadata": {},
     "outputs": [],
     "prompt_number": 15
    },
    {
     "cell_type": "code",
     "collapsed": false,
     "input": [],
     "language": "python",
     "metadata": {},
     "outputs": []
    }
   ],
   "metadata": {}
  }
 ]
}