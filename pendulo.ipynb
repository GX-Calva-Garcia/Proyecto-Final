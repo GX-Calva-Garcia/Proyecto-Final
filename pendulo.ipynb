{
 "metadata": {
  "language": "Julia",
  "name": "",
  "signature": "sha256:f82516ee67c85a3c34cb2aee98ae7110d098de2bfc67f7f1c9c1f5e8be06fe33"
 },
 "nbformat": 3,
 "nbformat_minor": 0,
 "worksheets": [
  {
   "cells": [
    {
     "cell_type": "heading",
     "level": 2,
     "metadata": {},
     "source": [
      "P\u00e9ndulo de Foucault"
     ]
    },
    {
     "cell_type": "heading",
     "level": 3,
     "metadata": {},
     "source": [
      "Sistema de Referencia No Inerciales"
     ]
    },
    {
     "cell_type": "heading",
     "level": 3,
     "metadata": {},
     "source": [
      "1. Transformaci\u00f3n de coordenadas"
     ]
    },
    {
     "cell_type": "markdown",
     "metadata": {},
     "source": [
      "La primera Ley de Newton define un Sistema Inercial (SI) y la segunda Ley de Newton $\\vec{F} = \\frac{d^2\\vec{p}}{dt^2}$ es v\u00e1lida para un SI. Las ecuaciones de movimiento de una particula son las mismas para un SI que para todo aquel sistema de referencia que se mueve con velocidad respecto a \u00e9ste. Si la regla de transformaci\u00f3n entre los dos sistemas es la de Galileo,\n",
      "\n",
      "$$\\vec{r} = \\vec{r}' + \\vec{u}t$$\n",
      "\n",
      "$$t = t'$$\n",
      "\n",
      "la segunda Ley de Newton es invariante ante esta transformaci\u00f3n, esto es,\n",
      "\n",
      "$$\\vec{F} = m \\frac{d^2 \\vec{r}}{dt^2} = m \\frac{d^2 \\vec{r'}}{dt^2}$$\n",
      "\n",
      "y ambos sistemas son SI y por tanto miden la misma aceleeraci\u00f3n. Esto ya no es valido cuando el segundo sistema ya no se mueve con velocidad constante con respecto al primero."
     ]
    },
    {
     "cell_type": "markdown",
     "metadata": {},
     "source": [
      "Cuando el sistema no es un SI, la seguunda Ley de Newton debe modificarse. Consideremos un sistema inercial de referencia S y un sistema S' que se mueve con respecto al primero, el segundo sistema puede acelerarse y rotar (SNI).\n",
      "Sea $\\vec{r}(t)$ la posici\u00f3n de una part\u00edcula medida desde S (SI) al tiempo $t$, y $\\vec{r}'(t)$ la posici\u00f3n de la misma part\u00edcula medida desde S' al mismo tiempo t (restringido al caso cl\u00e1sico donde $\\Delta t = \\Delta t'$). Entonces ambas posiciones estan relacionadas por\n",
      "\n",
      "$$\\vec{r}(t) = \\vec{R}(t) + \\vec{r'}(t)$$\n",
      "\n",
      "donde $\\vec{R}(t)$ corresponde al vector de posici\u00f3n del origen S' medido desde el sistema S, de tal forma que la primera derivada es\n",
      "\n",
      "$$\\dot{\\vec{r}} = \\dot{\\vec{R}} + \\dot{\\vec{r'}}$$\n",
      "\n",
      "descomponiendo al vector $\\vec{r}$ \n",
      "\n",
      "$$\\dot{\\vec{r'}} = x'\\hat{i'} + y' \\hat{j'} + z' \\hat{k'}$$\n",
      "\n",
      "donde $\\hat{i'}$, $\\hat{j'}$, $\\hat{k'}$ son los vectores unitarios en las direcciones $x'$, $y'$, $z'$ respectivamente, del sistema S'. De esta forma obtenemos que\n",
      "\n",
      "$$\\dot{\\vec{r}} = \\dot{\\vec{R}} + \\dot{x}'\\hat{i'} + \\dot{y}' \\hat{j'} + \\dot{z}' \\hat{k'} + x'\\frac{d \\hat{i'}}{dt} + y' \\frac{d\\hat{j'}}{dt} + z' \\frac{d\\hat{k'}}{dt}$$"
     ]
    },
    {
     "cell_type": "markdown",
     "metadata": {},
     "source": [
      "Definimos $\\{\\dot{\\vec{r'}}\\}_{SNI} := \\dot{x}'\\hat{i'} + \\dot{y}' \\hat{j'} + \\dot{z}' \\hat{k'}$ que es la velocidad de la part\u00edcula medida desde S', entonces la expresi\u00f3n anterior la podemos reescribir como\n",
      "\n",
      "$$\\dot{\\vec{r}} = \\dot{\\vec{R}} + \\left\\{ \\dot{\\vec{r'}} \\right\\}_{SNI}+ x'\\frac{d \\hat{i'}}{dt} + y' \\frac{d\\hat{j'}}{dt} + z' \\frac{d\\hat{k'}}{dt}$$\n",
      "\n",
      "los terminos restantes corresponden a la rotaci\u00f3n del sistema S'."
     ]
    },
    {
     "cell_type": "markdown",
     "metadata": {},
     "source": [
      "Cualquier rotaci\u00f3n esta identificada por el vector de velocidad angular $\\vec{\\omega}$. Las derivadas con respecto al tiempo de los vectores base pueden ser calculados de la siguiente manera: escrinimos la velocidad angular como\n",
      "\n",
      "$$\\vec{\\omega} = \\omega \\hat{n}$$\n",
      "\n",
      "donde $\\hat{n}$ es el eje instant\u00e1neo de giro, entonces debido a que $\\hat{n}$ es unitario , en una primera aproximaci\u00f3n obtenemos para $\\Delta \\hat{i'}$\n",
      "\n",
      "$$|\\Delta\\hat{i'}| = \\Delta\\theta \\sin{\\alpha}$$\n",
      "\n",
      "y el valor absoluto de la derivada temporal es:\n",
      "\n",
      "$$|\\frac{d\\hat{i'}}{dt}| = \\omega\\sin{\\alpha}$$\n",
      "\n",
      "$$\\omega = \\frac{d\\theta}{dt}$$\n",
      "\n",
      "observamos que la direcci\u00f3n de este vector tiene que ser tanto perpendicular a $\\hat{i'}$ como a $\\vec{\\omega}$, entonces utilizando la definici\u00f3n de producto vectorial podemos escribir que\n",
      "\n",
      "$$\\frac{d\\hat{i'}}{dt} = \\vec{\\omega} \\times \\hat{i'}$$\n",
      "\n",
      "An\u00e1logamente para los otros vectores unitarios, obtenemos\n",
      "\n",
      "$$\\frac{d\\hat{j'}}{dt} = \\vec{\\omega} \\times \\hat{j'}$$\n",
      "\n",
      "$$\\frac{d\\hat{k'}}{dt} = \\vec{\\omega} \\times \\hat{k'}$$\n",
      "\n",
      "Finalmente podemos reescribir la ecuaci\u00f3n que relaciona a S y S' como\n",
      "\n",
      "$$\\dot{\\vec{r}} = \\dot{\\vec{R}} + \\left\\{ \\dot{\\vec{r'}} \\right\\}_{SNI} + \\vec{\\omega} \\times \\vec{r'}$$"
     ]
    },
    {
     "cell_type": "markdown",
     "metadata": {},
     "source": [
      "Observamos que hay un operador que asociado a la derivada temporal en el SNI, que es\n",
      "\n",
      "$$\\frac{d}{dt} = \\left\\{\\frac{d}{dt}\\right\\}_{SNI} + \\vec{\\omega} \\times$$\n",
      "\n",
      "Aplicando dos veces este operador ahora se puede obtener la aceleraci\u00f3n\n",
      "\n",
      "$$\\frac{d}{dt} \\left( \\dot{\\vec{r}} - \\dot{\\vec{R}} \\right) = \\left[ \\left\\{\\frac{d}{dt}\\right\\}_{SNI} + \\vec{\\omega} \\times \\right] \\left[ \\left\\{\\frac{d}{dt}\\right\\}_{SNI} + \\vec{\\omega} \\times \\right] \\vec{r'}$$"
     ]
    },
    {
     "cell_type": "markdown",
     "metadata": {},
     "source": [
      "simplificando\n",
      "\n",
      "$$\\ddot{\\vec{r}} - \\ddot{\\vec{R}} = \\left\\{ \\frac{d^2 \\vec{r'}}{dt^2} \\right\\}_{SNI} + 2\\vec{\\omega} \\times \\left\\{\\frac{d\\vec{r'}}{dt}\\right\\}_{SNI} + \\left\\{ \\frac{d\\vec{\\omega}}{dt}\\right\\}_{SNI} \\times \\vec{r'} + \\vec{\\omega} \\times (\\vec{\\omega} \\times \\vec{r'})$$"
     ]
    },
    {
     "cell_type": "markdown",
     "metadata": {},
     "source": [
      "si definimos  $\\vec{A} := \\vec{\\ddot{R}}$ que es la aceleraci\u00f3n lineal del sistema S' medida desde S, entonces reescribimos\n",
      "\n",
      "$$\\ddot{\\vec{r}} = \\vec{A} + \\{ \\ddot{\\vec{r}} \\}_{SNI} + 2\\vec{\\omega} \\times \\{ \\dot{\\vec{r'}} \\}_{SNI} + \\{\\dot{\\vec{\\omega}} \\}_{SNI} \\times \\vec{r'} + \\vec{\\omega} \\times (\\vec{\\omega} \\times \\vec{r'})$$"
     ]
    },
    {
     "cell_type": "markdown",
     "metadata": {},
     "source": [
      "Ahora podemos escribir la segunda Ley de Newton para sitemas no inerciales\n",
      "\n",
      "$$\\vec{F} = m\\vec{A} + m\\{ \\ddot{\\vec{r}} \\}_{SNI} + 2m\\vec{\\omega} \\times \\{ \\dot{\\vec{r'}} \\}_{SNI} + m\\{\\dot{\\vec{\\omega}} \\}_{SNI} \\times \\vec{r'} + m\\vec{\\omega} \\times (\\vec{\\omega} \\times \\vec{r'})$$\n",
      "\n",
      "o equivalentemente \n",
      "\n",
      "$$m\\{ \\ddot{\\vec{r}} \\}_{SNI} = \\vec{F} - m\\vec{A} - 2m\\vec{\\omega} \\times \\{ \\dot{\\vec{r'}} \\}_{SNI} - m\\{\\dot{\\vec{\\omega}} \\}_{SNI} \\times \\vec{r'} - m\\vec{\\omega} \\times (\\vec{\\omega} \\times \\vec{r'})$$"
     ]
    },
    {
     "cell_type": "markdown",
     "metadata": {},
     "source": [
      "Observamos que la ecuaci\u00f3n de movimiento para el sistema no inercial se modifica; a la fuerza aplicada $\\vec{F}$ deben a\u00f1adirse terminos no inerciales:\n",
      "\n",
      "- $-m\\vec{A}$ es la fuerza inercial debida a la aceleraci\u00f3n $\\left(\\ddot{\\vec{R}}\\right)$ del sistema en movimiento.\n",
      "- $-2m\\vec{\\omega} \\times \\{ \\dot{\\vec{r'}} \\}_{SNI}$ representa a la llamda fuerza de **Coriolis**; esta es una fuerza perpendicular al eje de rotaci\u00f3n y proporcional a la velocidad de la part\u00edcula en  el sistema no inercial, tiende a desviar a la part\u00edcula de su movimiento.\n",
      "- $- m\\{\\dot{\\vec{\\omega}} \\}_{SNI} \\times \\vec{r'}$ se llama azimutal o transversal , n\u00f3tese que $\\{\\vec{\\dot{\\omega}}\\}_{SNI} = \\vec{\\dot{\\omega}}$, esta fuerza s\u00f3lo existe cuando hay aceleraci\u00f3n angular y es transversal al eje de rotaci\u00f3n.\n",
      "- $- m\\vec{\\omega} \\times (\\vec{\\omega} \\times \\vec{r'})$ es la fuerza centr\u00edfuga que apunta siempre hacia aufera del eje de rotaci\u00f3n y perpendicular a \u00e9ste."
     ]
    },
    {
     "cell_type": "heading",
     "level": 3,
     "metadata": {},
     "source": [
      "2. Efectos inerciales debidos a la rotaci\u00f3n de la Tierra "
     ]
    },
    {
     "cell_type": "markdown",
     "metadata": {},
     "source": []
    },
    {
     "cell_type": "heading",
     "level": 2,
     "metadata": {},
     "source": [
      "Lagrangiano (para dos dimensiones)"
     ]
    },
    {
     "cell_type": "code",
     "collapsed": false,
     "input": [
      "using SymPy"
     ],
     "language": "python",
     "metadata": {},
     "outputs": [
      {
       "output_type": "stream",
       "stream": "stderr",
       "text": [
        "Warning: imported binding for transpose overwritten in module __anon__\n"
       ]
      }
     ],
     "prompt_number": 1
    },
    {
     "cell_type": "markdown",
     "metadata": {},
     "source": [
      "$$L= \\frac{1}{2} m (\\dot{x}^2 + \\dot{y}^2) + m \\beta (\\dot{y}x -\\dot{x}y ) - \\frac{1}{2}m \\omega _0 ^2 (x^2 + y^2)$$\n",
      "\n",
      "$$\\beta = \\Omega cos \\alpha$$\n",
      "$$ \\omega _0 = \\sqrt{\\frac{g}{\\ell}}$$\n",
      "\n",
      "$\\Omega$ Es la velocidad angular de la Tierra y $\\alpha$ es el \u00e1ngulo entre el eje $z$ del p\u00e9ndulo y el eje de rotaci\u00f3n de la Tierra."
     ]
    },
    {
     "cell_type": "code",
     "collapsed": false,
     "input": [
      "m, \u03a9, g, \u2113,\u03b1,t = sym\"m,\\Omega,g,\\ell,\\alpha,t\"\n",
      "\u03c90=sqrt(g/\u2113)\n",
      "\u03b2=\u03a9*cos(\u03b1)\n",
      "x = SymFunction(\"x\")\n",
      "y = SymFunction(\"y\")"
     ],
     "language": "python",
     "metadata": {},
     "outputs": [
      {
       "metadata": {},
       "output_type": "pyout",
       "prompt_number": 2,
       "text": [
        "(anonymous function)"
       ]
      }
     ],
     "prompt_number": 2
    },
    {
     "cell_type": "code",
     "collapsed": false,
     "input": [
      "\u03c90"
     ],
     "language": "python",
     "metadata": {},
     "outputs": [
      {
       "latex": [
        "$$\\sqrt{\\frac{g}{\\ell}}$$"
       ],
       "metadata": {},
       "output_type": "pyout",
       "prompt_number": 3,
       "text": [
        "    ______\n",
        "   /  g   \n",
        "  /  ---- \n",
        "\\/   \\ell "
       ]
      }
     ],
     "prompt_number": 3
    },
    {
     "cell_type": "code",
     "collapsed": false,
     "input": [
      "T= 1/2 *m*(diff(x(t),t)^2 + diff(y(t),t)^2) + m*\u03b2*(diff(y(t),t)*x(t) - diff(x(t),t)*y(t))"
     ],
     "language": "python",
     "metadata": {},
     "outputs": [
      {
       "latex": [
        "$$\\Omega m \\left(x{\\left (t \\right )} \\frac{d}{d t} y{\\left (t \\right )} - y{\\left (t \\right )} \\frac{d}{d t} x{\\left (t \\right )}\\right) \\cos{\\left (\\alpha \\right )} + 0.5 m \\left(\\left(\\frac{d}{d t} x{\\left (t \\right )}\\right)^{2} + \\left(\\frac{d}{d t} y{\\left (t \\right )}\\right)^{2}\\right)$$"
       ],
       "metadata": {},
       "output_type": "pyout",
       "prompt_number": 4,
       "text": [
        "                                                             /          2     \n",
        "         /     d               d       \\                     |/d       \\    /d\n",
        "\\Omega*m*|x(t)*--(y(t)) - y(t)*--(x(t))|*cos(\\alpha) + 0.5*m*||--(x(t))|  + |-\n",
        "         \\     dt              dt      /                     \\\\dt      /    \\d\n",
        "\n",
        "        2\\\n",
        "       \\ |\n",
        "-(y(t))| |\n",
        "t      / /"
       ]
      }
     ],
     "prompt_number": 4
    },
    {
     "cell_type": "code",
     "collapsed": false,
     "input": [
      "V=1/2*m*\u03c90^2 * (x(t)^2 + y(t)^2)"
     ],
     "language": "python",
     "metadata": {},
     "outputs": [
      {
       "latex": [
        "$$\\frac{0.5 g}{\\ell} m \\left(x^{2}{\\left (t \\right )} + y^{2}{\\left (t \\right )}\\right)$$"
       ],
       "metadata": {},
       "output_type": "pyout",
       "prompt_number": 5,
       "text": [
        "        / 2       2   \\\n",
        "0.5*g*m*\\x (t) + y (t)/\n",
        "-----------------------\n",
        "          \\ell         "
       ]
      }
     ],
     "prompt_number": 5
    },
    {
     "cell_type": "code",
     "collapsed": false,
     "input": [
      "L=T-V"
     ],
     "language": "python",
     "metadata": {},
     "outputs": [
      {
       "latex": [
        "$$\\Omega m \\left(x{\\left (t \\right )} \\frac{d}{d t} y{\\left (t \\right )} - y{\\left (t \\right )} \\frac{d}{d t} x{\\left (t \\right )}\\right) \\cos{\\left (\\alpha \\right )} + 0.5 m \\left(\\left(\\frac{d}{d t} x{\\left (t \\right )}\\right)^{2} + \\left(\\frac{d}{d t} y{\\left (t \\right )}\\right)^{2}\\right) - \\frac{0.5 g}{\\ell} m \\left(x^{2}{\\left (t \\right )} + y^{2}{\\left (t \\right )}\\right)$$"
       ],
       "metadata": {},
       "output_type": "pyout",
       "prompt_number": 6,
       "text": [
        "                                                             /          2     \n",
        "         /     d               d       \\                     |/d       \\    /d\n",
        "\\Omega*m*|x(t)*--(y(t)) - y(t)*--(x(t))|*cos(\\alpha) + 0.5*m*||--(x(t))|  + |-\n",
        "         \\     dt              dt      /                     \\\\dt      /    \\d\n",
        "\n",
        "        2\\           / 2       2   \\\n",
        "       \\ |   0.5*g*m*\\x (t) + y (t)/\n",
        "-(y(t))| | - -----------------------\n",
        "t      / /             \\ell         "
       ]
      }
     ],
     "prompt_number": 6
    },
    {
     "cell_type": "markdown",
     "metadata": {},
     "source": [
      "Recordando las ecuaciones de Euler-Lagrange.\n",
      "\n",
      "$$\\frac{d}{dt} \\frac{\\partial L}{\\partial \\dot{q}} - \\frac{\\partial L}{\\partial q} = 0$$"
     ]
    },
    {
     "cell_type": "code",
     "collapsed": false,
     "input": [
      "Fx=diff(L,x(t));"
     ],
     "language": "python",
     "metadata": {},
     "outputs": [],
     "prompt_number": 7
    },
    {
     "cell_type": "code",
     "collapsed": false,
     "input": [
      "Fy=diff(L,y(t));"
     ],
     "language": "python",
     "metadata": {},
     "outputs": [],
     "prompt_number": 8
    },
    {
     "cell_type": "code",
     "collapsed": false,
     "input": [
      "Px=diff(L,diff(x(t),t));"
     ],
     "language": "python",
     "metadata": {},
     "outputs": [],
     "prompt_number": 9
    },
    {
     "cell_type": "code",
     "collapsed": false,
     "input": [
      "Py=diff(L,diff(y(t),t));"
     ],
     "language": "python",
     "metadata": {},
     "outputs": [],
     "prompt_number": 10
    },
    {
     "cell_type": "code",
     "collapsed": false,
     "input": [
      "Eq1=diff(Px,t) - Fx"
     ],
     "language": "python",
     "metadata": {},
     "outputs": [
      {
       "latex": [
        "$$- 2 \\Omega m \\cos{\\left (\\alpha \\right )} \\frac{d}{d t} y{\\left (t \\right )} + 1.0 m \\frac{d^{2}}{d t^{2}}  x{\\left (t \\right )} + \\frac{1.0 g}{\\ell} m x{\\left (t \\right )}$$"
       ],
       "metadata": {},
       "output_type": "pyout",
       "prompt_number": 11,
       "text": [
        "                                            2                     \n",
        "                         d                 d          1.0*g*m*x(t)\n",
        "- 2*\\Omega*m*cos(\\alpha)*--(y(t)) + 1.0*m*---(x(t)) + ------------\n",
        "                         dt                 2             \\ell    \n",
        "                                          dt                      "
       ]
      }
     ],
     "prompt_number": 11
    },
    {
     "cell_type": "code",
     "collapsed": false,
     "input": [
      "Eq2=diff(Py,t) - Fy"
     ],
     "language": "python",
     "metadata": {},
     "outputs": [
      {
       "latex": [
        "$$2 \\Omega m \\cos{\\left (\\alpha \\right )} \\frac{d}{d t} x{\\left (t \\right )} + 1.0 m \\frac{d^{2}}{d t^{2}}  y{\\left (t \\right )} + \\frac{1.0 g}{\\ell} m y{\\left (t \\right )}$$"
       ],
       "metadata": {},
       "output_type": "pyout",
       "prompt_number": 12,
       "text": [
        "                                          2                     \n",
        "                       d                 d          1.0*g*m*y(t)\n",
        "2*\\Omega*m*cos(\\alpha)*--(x(t)) + 1.0*m*---(y(t)) + ------------\n",
        "                       dt                 2             \\ell    \n",
        "                                        dt                      "
       ]
      }
     ],
     "prompt_number": 12
    },
    {
     "cell_type": "code",
     "collapsed": false,
     "input": [
      "xpp, ypp = Sym(\"\\\\ddot{x}, \\\\ddot{y}\")\n",
      "xp, yp = Sym(\"\\\\dot{x}, \\\\dot{y}\")"
     ],
     "language": "python",
     "metadata": {},
     "outputs": [
      {
       "metadata": {},
       "output_type": "pyout",
       "prompt_number": 13,
       "text": [
        "(\\dot{x},\\dot{y})"
       ]
      }
     ],
     "prompt_number": 13
    },
    {
     "cell_type": "code",
     "collapsed": false,
     "input": [
      "Eq1 = subs(Eq1, diff(x(t),t,2), xpp)\n",
      "Eq1 = subs(Eq1, diff(x(t),t,1), xp)\n",
      "Eq1 = subs(Eq1, diff(y(t),t,1), yp)\n",
      "\n",
      "Eq2= subs(Eq2, diff(y(t),t,2), ypp)\n",
      "Eq2= subs(Eq2, diff(x(t),t,1), xp)"
     ],
     "language": "python",
     "metadata": {},
     "outputs": [
      {
       "latex": [
        "$$2 \\Omega \\dot{x} m \\cos{\\left (\\alpha \\right )} + 1.0 \\ddot{y} m + \\frac{1.0 g}{\\ell} m y{\\left (t \\right )}$$"
       ],
       "metadata": {},
       "output_type": "pyout",
       "prompt_number": 14,
       "text": [
        "                                                  1.0*g*m*y(t)\n",
        "2*\\Omega*\\dot{x}*m*cos(\\alpha) + 1.0*\\ddot{y}*m + ------------\n",
        "                                                      \\ell    "
       ]
      }
     ],
     "prompt_number": 14
    },
    {
     "cell_type": "code",
     "collapsed": false,
     "input": [
      "(soly, solx) = solve([Eq1, Eq2],[xpp, ypp])"
     ],
     "language": "python",
     "metadata": {},
     "outputs": [
      {
       "latex": [
        "\\begin{equation*}\\begin{cases}\\ddot{y} & \\text{=>} &- 2.0 \\Omega \\dot{x} \\cos{\\left (\\alpha \\right )} - \\frac{g}{\\ell} y{\\left (t \\right )}\\\\\\ddot{x} & \\text{=>} &2.0 \\Omega \\dot{y} \\cos{\\left (\\alpha \\right )} - \\frac{g}{\\ell} x{\\left (t \\right )}\\\\\\end{cases}\\end{equation*}"
       ],
       "metadata": {},
       "output_type": "pyout",
       "prompt_number": 34,
       "text": [
        "Dict{Any,Any} with 2 entries:\n",
        "  \"\\\\ddot{y}\" =>                                   g*y(t)\u2026\n",
        "  \"\\\\ddot{x}\" =>                                  g*x(t)\u2026"
       ]
      }
     ],
     "prompt_number": 34
    },
    {
     "cell_type": "code",
     "collapsed": false,
     "input": [
      "soly = soly[2];\n",
      "solx = solx[2]"
     ],
     "language": "python",
     "metadata": {},
     "outputs": [
      {
       "latex": [
        "$$2.0 \\Omega \\dot{y} \\cos{\\left (\\alpha \\right )} - \\frac{g}{\\ell} x{\\left (t \\right )}$$"
       ],
       "metadata": {},
       "output_type": "pyout",
       "prompt_number": 35,
       "text": [
        "                                 g*x(t)\n",
        "2.0*\\Omega*\\dot{y}*cos(\\alpha) - ------\n",
        "                                  \\ell "
       ]
      }
     ],
     "prompt_number": 35
    },
    {
     "cell_type": "code",
     "collapsed": false,
     "input": [
      "Eq(xpp, solx)"
     ],
     "language": "python",
     "metadata": {},
     "outputs": [
      {
       "latex": [
        "$$\\ddot{x} = 2.0 \\Omega \\dot{y} \\cos{\\left (\\alpha \\right )} - \\frac{g}{\\ell} x{\\left (t \\right )}$$"
       ],
       "metadata": {},
       "output_type": "pyout",
       "prompt_number": 36,
       "text": [
        "                                            g*x(t)\n",
        "\\ddot{x} = 2.0*\\Omega*\\dot{y}*cos(\\alpha) - ------\n",
        "                                             \\ell "
       ]
      }
     ],
     "prompt_number": 36
    },
    {
     "cell_type": "code",
     "collapsed": false,
     "input": [
      "Eq(ypp, soly)"
     ],
     "language": "python",
     "metadata": {},
     "outputs": [
      {
       "latex": [
        "$$\\ddot{y} = - 2.0 \\Omega \\dot{x} \\cos{\\left (\\alpha \\right )} - \\frac{g}{\\ell} y{\\left (t \\right )}$$"
       ],
       "metadata": {},
       "output_type": "pyout",
       "prompt_number": 37,
       "text": [
        "                                             g*y(t)\n",
        "\\ddot{y} = -2.0*\\Omega*\\dot{x}*cos(\\alpha) - ------\n",
        "                                              \\ell "
       ]
      }
     ],
     "prompt_number": 37
    },
    {
     "cell_type": "code",
     "collapsed": false,
     "input": [
      "function euler_cromer(q0,v0,t0,tf,h,f_q,f_v)\n",
      "    tf=tf\n",
      "    q = Vector{Float32}[]\n",
      "    v = Vector{Float32}[]\n",
      "    t = Float32[]\n",
      "    for ti in t0:h:tf\n",
      "        v_nueva = v0 + h*f_v(q0,v0,ti)\n",
      "        q_nueva = q0 + h*f_q(q0,v_nueva,ti)\n",
      "        q0 = q_nueva\n",
      "        v0 = v_nueva\n",
      "        push!(t,ti)\n",
      "        push!(q,q0)\n",
      "        push!(v,v0)\n",
      "        \n",
      "        #if paro(ti,q0,v0) == true\n",
      "            #break\n",
      "        #end\n",
      "    end\n",
      "    t,hcat(q...)',hcat(v...)'\n",
      "end"
     ],
     "language": "python",
     "metadata": {},
     "outputs": [
      {
       "metadata": {},
       "output_type": "pyout",
       "prompt_number": 39,
       "text": [
        "euler_cromer (generic function with 1 method)"
       ]
      }
     ],
     "prompt_number": 39
    },
    {
     "cell_type": "code",
     "collapsed": false,
     "input": [
      "function asignar_valores_solucion1(omega,acel_g,longitud,angulo)\n",
      "    solx_sust= subs(solx,\u03a9,omega)\n",
      "    solx_sust= subs(solx_sust,\u03b1,angulo)\n",
      "    solx_sust= subs(solx_sust,g,acel_g)\n",
      "    solx_sust= subs(solx_sust,\u2113,longitud)    \n",
      "    return solx_sust\n",
      "end"
     ],
     "language": "python",
     "metadata": {},
     "outputs": [
      {
       "metadata": {},
       "output_type": "pyout",
       "prompt_number": 55,
       "text": [
        "asignar_valores_solucion1 (generic function with 1 method)"
       ]
      }
     ],
     "prompt_number": 55
    },
    {
     "cell_type": "code",
     "collapsed": false,
     "input": [
      "function asignar_valores_solucion2(omega,acel_g,longitud,angulo)\n",
      "    soly_sust= subs(soly,\u03a9,omega)\n",
      "    soly_sust= subs(soly_sust,\u03b1,angulo)\n",
      "    soly_sust= subs(soly_sust,g,acel_g)\n",
      "    soly_sust= subs(soly_sust,\u2113,longitud)\n",
      "    \n",
      "    return soly_sust\n",
      "end"
     ],
     "language": "python",
     "metadata": {},
     "outputs": [
      {
       "metadata": {},
       "output_type": "pyout",
       "prompt_number": 53,
       "text": [
        "asignar_valores_solucion2 (generic function with 1 method)"
       ]
      }
     ],
     "prompt_number": 53
    },
    {
     "cell_type": "code",
     "collapsed": false,
     "input": [
      "function sympy_to_julia(x::Sym)\n",
      "    expr = PyCall.pyeval(\"str(x)\", x=x.x)\n",
      "    expr = replace(expr, \"**\", \"^\")\n",
      "    expr = replace(expr, \"\\\\dot{y}\", \"yp\");\n",
      "    expr = replace(expr, \"\\\\dot{x}\", \"xp\");\n",
      "    #expr = replace(expr, \"\\\\theta\", \"\u03b8\")\n",
      "    expr = replace(expr, \"(t)\",\"\");\n",
      "end"
     ],
     "language": "python",
     "metadata": {},
     "outputs": [
      {
       "metadata": {},
       "output_type": "pyout",
       "prompt_number": 62,
       "text": [
        "sympy_to_julia (generic function with 1 method)"
       ]
      }
     ],
     "prompt_number": 62
    },
    {
     "cell_type": "code",
     "collapsed": false,
     "input": [
      "df"
     ],
     "language": "python",
     "metadata": {},
     "outputs": [
      {
       "latex": [
        "$$0.00398371685740842 \\dot{y} - \\frac{1}{20} x{\\left (t \\right )}$$"
       ],
       "metadata": {},
       "output_type": "pyout",
       "prompt_number": 61,
       "text": [
        "                              x(t)\n",
        "0.00398371685740842*\\dot{y} - ----\n",
        "                               20 "
       ]
      }
     ],
     "prompt_number": 61
    },
    {
     "cell_type": "code",
     "collapsed": false,
     "input": [
      "sympy_to_julia(df)"
     ],
     "language": "python",
     "metadata": {},
     "outputs": [
      {
       "metadata": {},
       "output_type": "pyout",
       "prompt_number": 63,
       "text": [
        "\"0.00398371685740842*yp - x/20\""
       ]
      }
     ],
     "prompt_number": 63
    },
    {
     "cell_type": "code",
     "collapsed": false,
     "input": [
      "df=asignar_valores_solucion1(0.0023,10,200,pi/12)\n",
      "df2=asignar_valores_solucion2(0.0023,10,200,pi/12)"
     ],
     "language": "python",
     "metadata": {},
     "outputs": [
      {
       "latex": [
        "$$- 0.00444325880092971 \\dot{x} - \\frac{1}{20} y{\\left (t \\right )}$$"
       ],
       "metadata": {},
       "output_type": "pyout",
       "prompt_number": 64,
       "text": [
        "                               y(t)\n",
        "-0.00444325880092971*\\dot{x} - ----\n",
        "                                20 "
       ]
      }
     ],
     "prompt_number": 64
    },
    {
     "cell_type": "code",
     "collapsed": false,
     "input": [
      "sympy_to_julia(df)"
     ],
     "language": "python",
     "metadata": {},
     "outputs": [
      {
       "metadata": {},
       "output_type": "pyout",
       "prompt_number": 65,
       "text": [
        "\"0.00444325880092971*yp - x/20\""
       ]
      }
     ],
     "prompt_number": 65
    },
    {
     "cell_type": "code",
     "collapsed": false,
     "input": [
      "sympy_to_julia(df2)"
     ],
     "language": "python",
     "metadata": {},
     "outputs": [
      {
       "metadata": {},
       "output_type": "pyout",
       "prompt_number": 66,
       "text": [
        "\"-0.00444325880092971*xp - y/20\""
       ]
      }
     ],
     "prompt_number": 66
    },
    {
     "cell_type": "code",
     "collapsed": false,
     "input": [
      "fx(xp,yp,x,y)=0.00444325880092971*yp - x/20\n",
      "fy(xp,yp,x,y)=-0.00444325880092971*xp - y/20\n",
      "fv=[fx(xp,yp,x,y),fy(xp,yp,x,y)]"
     ],
     "language": "python",
     "metadata": {},
     "outputs": [
      {
       "ename": "LoadError",
       "evalue": "`/` has no method matching /(::Function, ::Int32)\nwhile loading In[68], in expression starting on line 3",
       "output_type": "pyerr",
       "traceback": [
        "`/` has no method matching /(::Function, ::Int32)\nwhile loading In[68], in expression starting on line 3",
        "",
        " in fx at In[68]:1"
       ]
      }
     ],
     "prompt_number": 68
    },
    {
     "cell_type": "code",
     "collapsed": false,
     "input": [],
     "language": "python",
     "metadata": {},
     "outputs": []
    }
   ],
   "metadata": {}
  }
 ]
}