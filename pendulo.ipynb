{
 "metadata": {
  "language": "Julia",
  "name": "",
  "signature": "sha256:8718b5ca3854cdea9e12470ceae55b7652e28aaac8304cf514caf90b4f1d7231"
 },
 "nbformat": 3,
 "nbformat_minor": 0,
 "worksheets": [
  {
   "cells": [
    {
     "cell_type": "heading",
     "level": 2,
     "metadata": {},
     "source": [
      "P\u00e9ndulo de Foucault"
     ]
    },
    {
     "cell_type": "heading",
     "level": 3,
     "metadata": {},
     "source": [
      "Sistema de Referencia No Inerciales"
     ]
    },
    {
     "cell_type": "heading",
     "level": 3,
     "metadata": {},
     "source": [
      "1. Transformaci\u00f3n de coordenadas"
     ]
    },
    {
     "cell_type": "markdown",
     "metadata": {},
     "source": [
      "La primera Ley de Newton define un Sistema Inercial (SI) y la segunda Ley de Newton $\\vec{F} = \\frac{d^2\\vec{p}}{dt^2}$ es v\u00e1lida para un SI. Las ecuaciones de movimiento de una particula son las mismas para un SI que para todo aquel sistema de referencia que se mueve con velocidad respecto a \u00e9ste. Si la regla de transformaci\u00f3n entre los dos sistemas es la de Galileo,\n",
      "\n",
      "$$\\vec{r} = \\vec{r}' + \\vec{u}t$$\n",
      "\n",
      "$$t = t'$$\n",
      "\n",
      "la segunda Ley de Newton es invariante ante esta transformaci\u00f3n, esto es,\n",
      "\n",
      "$$\\vec{F} = m \\frac{d^2 \\vec{r}}{dt^2} = m \\frac{d^2 \\vec{r'}}{dt^2}$$\n",
      "\n",
      "y ambos sistemas son SI y por tanto miden la misma aceleeraci\u00f3n. Esto ya no es valido cuando el segundo sistema ya no se mueve con velocidad constante con respecto al primero."
     ]
    },
    {
     "cell_type": "markdown",
     "metadata": {},
     "source": [
      "Cuando el sistema no es un SI, la seguunda Ley de Newton debe modificarse. Consideremos un sistema inercial de referencia S y un sistema S' que se mueve con respecto al primero, el segundo sistema puede acelerarse y rotar (SNI).\n",
      "Sea $\\vec{r}(t)$ la posici\u00f3n de una part\u00edcula medida desde S (SI) al tiempo $t$, y $\\vec{r}'(t)$ la posici\u00f3n de la misma part\u00edcula medida desde S' al mismo tiempo t (restringido al caso cl\u00e1sico donde $\\Delta t = \\Delta t'$). Entonces ambas posiciones estan relacionadas por\n",
      "\n",
      "$$\\vec{r}(t) = \\vec{R}(t) + \\vec{r'}(t)$$\n",
      "\n",
      "donde $\\vec{R}(t)$ corresponde al vector de posici\u00f3n del origen S' medido desde el sistema S, de tal forma que la primera derivada es\n",
      "\n",
      "$$\\dot{\\vec{r}} = \\dot{\\vec{R}} + \\dot{\\vec{r'}}$$\n",
      "\n",
      "descomponiendo al vector $\\vec{r}$ \n",
      "\n",
      "$$\\dot{\\vec{r'}} = x'\\hat{i'} + y' \\hat{j'} + z' \\hat{k'}$$\n",
      "\n",
      "donde $\\hat{i'}$, $\\hat{j'}$, $\\hat{k'}$ son los vectores unitarios en las direcciones $x'$, $y'$, $z'$ respectivamente, del sistema S'. De esta forma obtenemos que\n",
      "\n",
      "$$\\dot{\\vec{r}} = \\dot{\\vec{R}} + \\dot{x}'\\hat{i'} + \\dot{y}' \\hat{j'} + \\dot{z}' \\hat{k'} + x'\\frac{d \\hat{i'}}{dt} + y' \\frac{d\\hat{j'}}{dt} + z' \\frac{d\\hat{k'}}{dt}$$"
     ]
    },
    {
     "cell_type": "markdown",
     "metadata": {},
     "source": [
      "Definimos $\\{\\dot{\\vec{r'}}\\}_{SNI} := \\dot{x}'\\hat{i'} + \\dot{y}' \\hat{j'} + \\dot{z}' \\hat{k'}$ que es la velocidad de la part\u00edcula medida desde S', entonces la expresi\u00f3n anterior la podemos reescribir como\n",
      "\n",
      "$$\\dot{\\vec{r}} = \\dot{\\vec{R}} + \\left\\{ \\dot{\\vec{r'}} \\right\\}_{SNI}+ x'\\frac{d \\hat{i'}}{dt} + y' \\frac{d\\hat{j'}}{dt} + z' \\frac{d\\hat{k'}}{dt}$$\n",
      "\n",
      "los terminos restantes corresponden a la rotaci\u00f3n del sistema S'."
     ]
    },
    {
     "cell_type": "markdown",
     "metadata": {},
     "source": [
      "Cualquier rotaci\u00f3n esta identificada por el vector de velocidad angular $\\vec{\\omega}$. Las derivadas con respecto al tiempo de los vectores base pueden ser calculados de la siguiente manera: escrinimos la velocidad angular como\n",
      "\n",
      "$$\\vec{\\omega} = \\omega \\hat{n}$$\n",
      "\n",
      "donde $\\hat{n}$ es el eje instant\u00e1neo de giro, entonces debido a que $\\hat{n}$ es unitario , en una primera aproximaci\u00f3n obtenemos para $\\Delta \\hat{i'}$\n",
      "\n",
      "$$|\\Delta\\hat{i'}| = \\Delta\\theta \\sin{\\alpha}$$\n",
      "\n",
      "y el valor absoluto de la derivada temporal es:\n",
      "\n",
      "$$|\\frac{d\\hat{i'}}{dt}| = \\omega\\sin{\\alpha}$$\n",
      "\n",
      "$$\\omega = \\frac{d\\theta}{dt}$$\n",
      "\n",
      "observamos que la direcci\u00f3n de este vector tiene que ser tanto perpendicular a $\\hat{i'}$ como a $\\vec{\\omega}$, entonces utilizando la definici\u00f3n de producto vectorial podemos escribir que\n",
      "\n",
      "$$\\frac{d\\hat{i'}}{dt} = \\vec{\\omega} \\times \\hat{i'}$$\n",
      "\n",
      "An\u00e1logamente para los otros vectores unitarios, obtenemos\n",
      "\n",
      "$$\\frac{d\\hat{j'}}{dt} = \\vec{\\omega} \\times \\hat{j'}$$\n",
      "\n",
      "$$\\frac{d\\hat{k'}}{dt} = \\vec{\\omega} \\times \\hat{k'}$$\n",
      "\n",
      "Finalmente podemos reescribir la ecuaci\u00f3n que relaciona a S y S' como\n",
      "\n",
      "$$\\dot{\\vec{r}} = \\dot{\\vec{R}} + \\left\\{ \\dot{\\vec{r'}} \\right\\}_{SNI} + \\vec{\\omega} \\times \\vec{r'}$$"
     ]
    },
    {
     "cell_type": "markdown",
     "metadata": {},
     "source": [
      "Observamos que hay un operador que asociado a la derivada temporal en el SNI, que es\n",
      "\n",
      "$$\\frac{d}{dt} = \\left\\{\\frac{d}{dt}\\right\\}_{SNI} + \\vec{\\omega} \\times$$\n",
      "\n",
      "Aplicando dos veces este operador ahora se puede obtener la aceleraci\u00f3n\n",
      "\n",
      "$$\\frac{d}{dt} \\left( \\dot{\\vec{r}} - \\dot{\\vec{R}} \\right) = \\left[ \\left\\{\\frac{d}{dt}\\right\\}_{SNI} + \\vec{\\omega} \\times \\right] \\left[ \\left\\{\\frac{d}{dt}\\right\\}_{SNI} + \\vec{\\omega} \\times \\right] \\vec{r'}$$"
     ]
    },
    {
     "cell_type": "markdown",
     "metadata": {},
     "source": [
      "simplificando\n",
      "\n",
      "$$\\ddot{\\vec{r}} - \\ddot{\\vec{R}} = \\left\\{ \\frac{d^2 \\vec{r'}}{dt^2} \\right\\}_{SNI} + 2\\vec{\\omega} \\times \\left\\{\\frac{d\\vec{r'}}{dt}\\right\\}_{SNI} + \\left\\{ \\frac{d\\vec{\\omega}}{dt}\\right\\}_{SNI} \\times \\vec{r'} + \\vec{\\omega} \\times (\\vec{\\omega} \\times \\vec{r'})$$"
     ]
    },
    {
     "cell_type": "markdown",
     "metadata": {},
     "source": [
      "si definimos  $\\vec{A} := \\vec{\\ddot{R}}$ que es la aceleraci\u00f3n lineal del sistema S' medida desde S, entonces reescribimos\n",
      "\n",
      "$$\\ddot{\\vec{r}} = \\vec{A} + \\{ \\ddot{\\vec{r}} \\}_{SNI} + 2\\vec{\\omega} \\times \\{ \\dot{\\vec{r'}} \\}_{SNI} + \\{\\dot{\\vec{\\omega}} \\}_{SNI} \\times \\vec{r'} + \\vec{\\omega} \\times (\\vec{\\omega} \\times \\vec{r'})$$"
     ]
    },
    {
     "cell_type": "markdown",
     "metadata": {},
     "source": [
      "Ahora podemos escribir la segunda Ley de Newton para sitemas no inerciales\n",
      "\n",
      "$$\\vec{F} = m\\vec{A} + m\\{ \\ddot{\\vec{r}} \\}_{SNI} + 2m\\vec{\\omega} \\times \\{ \\dot{\\vec{r'}} \\}_{SNI} + m\\{\\dot{\\vec{\\omega}} \\}_{SNI} \\times \\vec{r'} + m\\vec{\\omega} \\times (\\vec{\\omega} \\times \\vec{r'})$$\n",
      "\n",
      "o equivalentemente \n",
      "\n",
      "$$m\\{ \\ddot{\\vec{r}} \\}_{SNI} = \\vec{F} - m\\vec{A} - 2m\\vec{\\omega} \\times \\{ \\dot{\\vec{r'}} \\}_{SNI} - m\\{\\dot{\\vec{\\omega}} \\}_{SNI} \\times \\vec{r'} - m\\vec{\\omega} \\times (\\vec{\\omega} \\times \\vec{r'})$$"
     ]
    },
    {
     "cell_type": "markdown",
     "metadata": {},
     "source": [
      "Observamos que la ecuaci\u00f3n de movimiento para el sistema no inercial se modifica; a la fuerza aplicada $\\vec{F}$ deben a\u00f1adirse terminos no inerciales:\n",
      "\n",
      "- $-m\\vec{A}$ es la fuerza inercial debida a la aceleraci\u00f3n $\\left(\\ddot{\\vec{R}}\\right)$ del sistema en movimiento.\n",
      "- $-2m\\vec{\\omega} \\times \\{ \\dot{\\vec{r'}} \\}_{SNI}$ representa a la llamda fuerza de **Coriolis**; esta es una fuerza perpendicular al eje de rotaci\u00f3n y proporcional a la velocidad de la part\u00edcula en  el sistema no inercial, tiende a desviar a la part\u00edcula de su movimiento.\n",
      "- $- m\\{\\dot{\\vec{\\omega}} \\}_{SNI} \\times \\vec{r'}$ se llama azimutal o transversal , n\u00f3tese que $\\{\\vec{\\dot{\\omega}}\\}_{SNI} = \\vec{\\dot{\\omega}}$, esta fuerza s\u00f3lo existe cuando hay aceleraci\u00f3n angular y es transversal al eje de rotaci\u00f3n.\n",
      "- $- m\\vec{\\omega} \\times (\\vec{\\omega} \\times \\vec{r'})$ es la fuerza centr\u00edfuga que apunta siempre hacia aufera del eje de rotaci\u00f3n y perpendicular a \u00e9ste."
     ]
    },
    {
     "cell_type": "heading",
     "level": 3,
     "metadata": {},
     "source": [
      "2. Efectos inerciales debidos a la rotaci\u00f3n de la Tierra "
     ]
    },
    {
     "cell_type": "markdown",
     "metadata": {},
     "source": []
    },
    {
     "cell_type": "heading",
     "level": 2,
     "metadata": {},
     "source": [
      "Lagrangiano (para dos dimensiones)"
     ]
    },
    {
     "cell_type": "code",
     "collapsed": false,
     "input": [
      "using SymPy\n",
      "using PyPlot"
     ],
     "language": "python",
     "metadata": {},
     "outputs": [
      {
       "output_type": "stream",
       "stream": "stderr",
       "text": [
        "Warning: imported binding for transpose overwritten in module __anon__\n",
        "INFO: Loading help data...\n"
       ]
      }
     ],
     "prompt_number": 1
    },
    {
     "cell_type": "markdown",
     "metadata": {},
     "source": [
      "$$L= \\frac{1}{2} m (\\dot{x}^2 + \\dot{y}^2) + m \\beta (\\dot{y}x -\\dot{x}y ) - \\frac{1}{2}m \\omega _0 ^2 (x^2 + y^2)$$\n",
      "\n",
      "$$\\beta = \\Omega cos \\alpha$$\n",
      "$$ \\omega _0 = \\sqrt{\\frac{g}{\\ell}}$$\n",
      "\n",
      "$\\Omega$ Es la velocidad angular de la Tierra y $\\alpha$ es el \u00e1ngulo entre el eje $z$ del p\u00e9ndulo y el eje de rotaci\u00f3n de la Tierra."
     ]
    },
    {
     "cell_type": "code",
     "collapsed": false,
     "input": [
      "m, \u03a9, g, \u2113,\u03b1,t = sym\"m,\\Omega,g,\\ell,\\alpha,t\"\n",
      "\u03c90=sqrt(g/\u2113)\n",
      "\u03b2=\u03a9*cos(\u03b1)\n",
      "x = SymFunction(\"x\")\n",
      "y = SymFunction(\"y\")"
     ],
     "language": "python",
     "metadata": {},
     "outputs": [
      {
       "metadata": {},
       "output_type": "pyout",
       "prompt_number": 2,
       "text": [
        "(anonymous function)"
       ]
      }
     ],
     "prompt_number": 2
    },
    {
     "cell_type": "code",
     "collapsed": false,
     "input": [
      "\u03c90"
     ],
     "language": "python",
     "metadata": {},
     "outputs": [
      {
       "latex": [
        "$$\\sqrt{\\frac{g}{\\ell}}$$"
       ],
       "metadata": {},
       "output_type": "pyout",
       "prompt_number": 3,
       "text": [
        "    ______\n",
        "   /  g   \n",
        "  /  ---- \n",
        "\\/   \\ell "
       ]
      }
     ],
     "prompt_number": 3
    },
    {
     "cell_type": "code",
     "collapsed": false,
     "input": [
      "T= 1/2 *m*(diff(x(t),t)^2 + diff(y(t),t)^2) + m*\u03b2*(diff(y(t),t)*x(t) - diff(x(t),t)*y(t))"
     ],
     "language": "python",
     "metadata": {},
     "outputs": [
      {
       "latex": [
        "$$\\Omega m \\left(x{\\left (t \\right )} \\frac{d}{d t} y{\\left (t \\right )} - y{\\left (t \\right )} \\frac{d}{d t} x{\\left (t \\right )}\\right) \\cos{\\left (\\alpha \\right )} + 0.5 m \\left(\\left(\\frac{d}{d t} x{\\left (t \\right )}\\right)^{2} + \\left(\\frac{d}{d t} y{\\left (t \\right )}\\right)^{2}\\right)$$"
       ],
       "metadata": {},
       "output_type": "pyout",
       "prompt_number": 4,
       "text": [
        "                                                             /          2     \n",
        "         /     d               d       \\                     |/d       \\    /d\n",
        "\\Omega*m*|x(t)*--(y(t)) - y(t)*--(x(t))|*cos(\\alpha) + 0.5*m*||--(x(t))|  + |-\n",
        "         \\     dt              dt      /                     \\\\dt      /    \\d\n",
        "\n",
        "        2\\\n",
        "       \\ |\n",
        "-(y(t))| |\n",
        "t      / /"
       ]
      }
     ],
     "prompt_number": 4
    },
    {
     "cell_type": "code",
     "collapsed": false,
     "input": [
      "V=1/2*m*\u03c90^2 * (x(t)^2 + y(t)^2)"
     ],
     "language": "python",
     "metadata": {},
     "outputs": [
      {
       "latex": [
        "$$\\frac{0.5 g}{\\ell} m \\left(x^{2}{\\left (t \\right )} + y^{2}{\\left (t \\right )}\\right)$$"
       ],
       "metadata": {},
       "output_type": "pyout",
       "prompt_number": 5,
       "text": [
        "        / 2       2   \\\n",
        "0.5*g*m*\\x (t) + y (t)/\n",
        "-----------------------\n",
        "          \\ell         "
       ]
      }
     ],
     "prompt_number": 5
    },
    {
     "cell_type": "code",
     "collapsed": false,
     "input": [
      "L=T-V"
     ],
     "language": "python",
     "metadata": {},
     "outputs": [
      {
       "latex": [
        "$$\\Omega m \\left(x{\\left (t \\right )} \\frac{d}{d t} y{\\left (t \\right )} - y{\\left (t \\right )} \\frac{d}{d t} x{\\left (t \\right )}\\right) \\cos{\\left (\\alpha \\right )} + 0.5 m \\left(\\left(\\frac{d}{d t} x{\\left (t \\right )}\\right)^{2} + \\left(\\frac{d}{d t} y{\\left (t \\right )}\\right)^{2}\\right) - \\frac{0.5 g}{\\ell} m \\left(x^{2}{\\left (t \\right )} + y^{2}{\\left (t \\right )}\\right)$$"
       ],
       "metadata": {},
       "output_type": "pyout",
       "prompt_number": 6,
       "text": [
        "                                                             /          2     \n",
        "         /     d               d       \\                     |/d       \\    /d\n",
        "\\Omega*m*|x(t)*--(y(t)) - y(t)*--(x(t))|*cos(\\alpha) + 0.5*m*||--(x(t))|  + |-\n",
        "         \\     dt              dt      /                     \\\\dt      /    \\d\n",
        "\n",
        "        2\\           / 2       2   \\\n",
        "       \\ |   0.5*g*m*\\x (t) + y (t)/\n",
        "-(y(t))| | - -----------------------\n",
        "t      / /             \\ell         "
       ]
      }
     ],
     "prompt_number": 6
    },
    {
     "cell_type": "markdown",
     "metadata": {},
     "source": [
      "Recordando las ecuaciones de Euler-Lagrange.\n",
      "\n",
      "$$\\frac{d}{dt} \\frac{\\partial L}{\\partial \\dot{q}} - \\frac{\\partial L}{\\partial q} = 0$$"
     ]
    },
    {
     "cell_type": "code",
     "collapsed": false,
     "input": [
      "Fx=diff(L,x(t));"
     ],
     "language": "python",
     "metadata": {},
     "outputs": [],
     "prompt_number": 7
    },
    {
     "cell_type": "code",
     "collapsed": false,
     "input": [
      "Fy=diff(L,y(t));"
     ],
     "language": "python",
     "metadata": {},
     "outputs": [],
     "prompt_number": 8
    },
    {
     "cell_type": "code",
     "collapsed": false,
     "input": [
      "Px=diff(L,diff(x(t),t));"
     ],
     "language": "python",
     "metadata": {},
     "outputs": [],
     "prompt_number": 9
    },
    {
     "cell_type": "code",
     "collapsed": false,
     "input": [
      "Py=diff(L,diff(y(t),t));"
     ],
     "language": "python",
     "metadata": {},
     "outputs": [],
     "prompt_number": 10
    },
    {
     "cell_type": "code",
     "collapsed": false,
     "input": [
      "Eq1=diff(Px,t) - Fx"
     ],
     "language": "python",
     "metadata": {},
     "outputs": [
      {
       "latex": [
        "$$- 2 \\Omega m \\cos{\\left (\\alpha \\right )} \\frac{d}{d t} y{\\left (t \\right )} + 1.0 m \\frac{d^{2}}{d t^{2}}  x{\\left (t \\right )} + \\frac{1.0 g}{\\ell} m x{\\left (t \\right )}$$"
       ],
       "metadata": {},
       "output_type": "pyout",
       "prompt_number": 11,
       "text": [
        "                                            2                     \n",
        "                         d                 d          1.0*g*m*x(t)\n",
        "- 2*\\Omega*m*cos(\\alpha)*--(y(t)) + 1.0*m*---(x(t)) + ------------\n",
        "                         dt                 2             \\ell    \n",
        "                                          dt                      "
       ]
      }
     ],
     "prompt_number": 11
    },
    {
     "cell_type": "code",
     "collapsed": false,
     "input": [
      "Eq2=diff(Py,t) - Fy"
     ],
     "language": "python",
     "metadata": {},
     "outputs": [
      {
       "latex": [
        "$$2 \\Omega m \\cos{\\left (\\alpha \\right )} \\frac{d}{d t} x{\\left (t \\right )} + 1.0 m \\frac{d^{2}}{d t^{2}}  y{\\left (t \\right )} + \\frac{1.0 g}{\\ell} m y{\\left (t \\right )}$$"
       ],
       "metadata": {},
       "output_type": "pyout",
       "prompt_number": 12,
       "text": [
        "                                          2                     \n",
        "                       d                 d          1.0*g*m*y(t)\n",
        "2*\\Omega*m*cos(\\alpha)*--(x(t)) + 1.0*m*---(y(t)) + ------------\n",
        "                       dt                 2             \\ell    \n",
        "                                        dt                      "
       ]
      }
     ],
     "prompt_number": 12
    },
    {
     "cell_type": "code",
     "collapsed": false,
     "input": [
      "xpp, ypp = Sym(\"\\\\ddot{x}, \\\\ddot{y}\")\n",
      "xp, yp = Sym(\"\\\\dot{x}, \\\\dot{y}\")"
     ],
     "language": "python",
     "metadata": {},
     "outputs": [
      {
       "metadata": {},
       "output_type": "pyout",
       "prompt_number": 13,
       "text": [
        "(\\dot{x},\\dot{y})"
       ]
      }
     ],
     "prompt_number": 13
    },
    {
     "cell_type": "code",
     "collapsed": false,
     "input": [
      "Eq1 = subs(Eq1, diff(x(t),t,2), xpp)\n",
      "Eq1 = subs(Eq1, diff(x(t),t,1), xp)\n",
      "Eq1 = subs(Eq1, diff(y(t),t,1), yp)\n",
      "\n",
      "Eq2= subs(Eq2, diff(y(t),t,2), ypp)\n",
      "Eq2= subs(Eq2, diff(x(t),t,1), xp)"
     ],
     "language": "python",
     "metadata": {},
     "outputs": [
      {
       "latex": [
        "$$2 \\Omega \\dot{x} m \\cos{\\left (\\alpha \\right )} + 1.0 \\ddot{y} m + \\frac{1.0 g}{\\ell} m y{\\left (t \\right )}$$"
       ],
       "metadata": {},
       "output_type": "pyout",
       "prompt_number": 14,
       "text": [
        "                                                  1.0*g*m*y(t)\n",
        "2*\\Omega*\\dot{x}*m*cos(\\alpha) + 1.0*\\ddot{y}*m + ------------\n",
        "                                                      \\ell    "
       ]
      }
     ],
     "prompt_number": 14
    },
    {
     "cell_type": "code",
     "collapsed": false,
     "input": [
      "(soly, solx) = solve([Eq1, Eq2],[xpp, ypp])"
     ],
     "language": "python",
     "metadata": {},
     "outputs": [
      {
       "latex": [
        "\\begin{equation*}\\begin{cases}\\ddot{y} & \\text{=>} &- 2.0 \\Omega \\dot{x} \\cos{\\left (\\alpha \\right )} - \\frac{g}{\\ell} y{\\left (t \\right )}\\\\\\ddot{x} & \\text{=>} &2.0 \\Omega \\dot{y} \\cos{\\left (\\alpha \\right )} - \\frac{g}{\\ell} x{\\left (t \\right )}\\\\\\end{cases}\\end{equation*}"
       ],
       "metadata": {},
       "output_type": "pyout",
       "prompt_number": 15,
       "text": [
        "Dict{Any,Any} with 2 entries:\n",
        "  \"\\\\ddot{y}\" =>                                   g*y(t)\u2026\n",
        "  \"\\\\ddot{x}\" =>                                  g*x(t)\u2026"
       ]
      }
     ],
     "prompt_number": 15
    },
    {
     "cell_type": "code",
     "collapsed": false,
     "input": [
      "soly = soly[2];\n",
      "solx = solx[2]"
     ],
     "language": "python",
     "metadata": {},
     "outputs": [
      {
       "latex": [
        "$$2.0 \\Omega \\dot{y} \\cos{\\left (\\alpha \\right )} - \\frac{g}{\\ell} x{\\left (t \\right )}$$"
       ],
       "metadata": {},
       "output_type": "pyout",
       "prompt_number": 16,
       "text": [
        "                                 g*x(t)\n",
        "2.0*\\Omega*\\dot{y}*cos(\\alpha) - ------\n",
        "                                  \\ell "
       ]
      }
     ],
     "prompt_number": 16
    },
    {
     "cell_type": "code",
     "collapsed": false,
     "input": [
      "Eq(xpp, solx)"
     ],
     "language": "python",
     "metadata": {},
     "outputs": [
      {
       "latex": [
        "$$\\ddot{x} = 2.0 \\Omega \\dot{y} \\cos{\\left (\\alpha \\right )} - \\frac{g}{\\ell} x{\\left (t \\right )}$$"
       ],
       "metadata": {},
       "output_type": "pyout",
       "prompt_number": 17,
       "text": [
        "                                            g*x(t)\n",
        "\\ddot{x} = 2.0*\\Omega*\\dot{y}*cos(\\alpha) - ------\n",
        "                                             \\ell "
       ]
      }
     ],
     "prompt_number": 17
    },
    {
     "cell_type": "code",
     "collapsed": false,
     "input": [
      "Eq(ypp, soly)"
     ],
     "language": "python",
     "metadata": {},
     "outputs": [
      {
       "latex": [
        "$$\\ddot{y} = - 2.0 \\Omega \\dot{x} \\cos{\\left (\\alpha \\right )} - \\frac{g}{\\ell} y{\\left (t \\right )}$$"
       ],
       "metadata": {},
       "output_type": "pyout",
       "prompt_number": 18,
       "text": [
        "                                             g*y(t)\n",
        "\\ddot{y} = -2.0*\\Omega*\\dot{x}*cos(\\alpha) - ------\n",
        "                                              \\ell "
       ]
      }
     ],
     "prompt_number": 18
    },
    {
     "cell_type": "code",
     "collapsed": false,
     "input": [
      "function euler_cromer(q0,v0,t0,tf,h,f_q,f_v)\n",
      "    tf=tf\n",
      "    q = Vector{Float32}[]\n",
      "    v = Vector{Float32}[]\n",
      "    t = Float32[]\n",
      "    for ti in t0:h:tf\n",
      "        v_nueva = v0 + h*f_v(q0,v0,ti)\n",
      "        q_nueva = q0 + h*f_q(q0,v_nueva,ti)\n",
      "        q0 = q_nueva\n",
      "        v0 = v_nueva\n",
      "        push!(t,ti)\n",
      "        push!(q,q0)\n",
      "        push!(v,v0)\n",
      "        \n",
      "        #if paro(ti,q0,v0) == true\n",
      "            #break\n",
      "        #end\n",
      "    end\n",
      "    t,hcat(q...)',hcat(v...)'\n",
      "end"
     ],
     "language": "python",
     "metadata": {},
     "outputs": [
      {
       "metadata": {},
       "output_type": "pyout",
       "prompt_number": 19,
       "text": [
        "euler_cromer (generic function with 1 method)"
       ]
      }
     ],
     "prompt_number": 19
    },
    {
     "cell_type": "code",
     "collapsed": false,
     "input": [
      "function asignar_valores_solucion1(omega,acel_g,longitud,angulo)\n",
      "    solx_sust= subs(solx,\u03a9,omega)\n",
      "    solx_sust= subs(solx_sust,\u03b1,angulo)\n",
      "    solx_sust= subs(solx_sust,g,acel_g)\n",
      "    solx_sust= subs(solx_sust,\u2113,longitud)    \n",
      "    return solx_sust\n",
      "end"
     ],
     "language": "python",
     "metadata": {},
     "outputs": [
      {
       "metadata": {},
       "output_type": "pyout",
       "prompt_number": 20,
       "text": [
        "asignar_valores_solucion1 (generic function with 1 method)"
       ]
      }
     ],
     "prompt_number": 20
    },
    {
     "cell_type": "code",
     "collapsed": false,
     "input": [
      "function asignar_valores_solucion2(omega,acel_g,longitud,angulo)\n",
      "    soly_sust= subs(soly,\u03a9,omega)\n",
      "    soly_sust= subs(soly_sust,\u03b1,angulo)\n",
      "    soly_sust= subs(soly_sust,g,acel_g)\n",
      "    soly_sust= subs(soly_sust,\u2113,longitud)\n",
      "    \n",
      "    return soly_sust\n",
      "end"
     ],
     "language": "python",
     "metadata": {},
     "outputs": [
      {
       "metadata": {},
       "output_type": "pyout",
       "prompt_number": 21,
       "text": [
        "asignar_valores_solucion2 (generic function with 1 method)"
       ]
      }
     ],
     "prompt_number": 21
    },
    {
     "cell_type": "code",
     "collapsed": false,
     "input": [
      "function sympy_to_julia(x::Sym)\n",
      "    expr = PyCall.pyeval(\"str(x)\", x=x.x)\n",
      "    expr = replace(expr, \"**\", \"^\")\n",
      "    expr = replace(expr, \"\\\\dot{y}\", \"yp\");\n",
      "    expr = replace(expr, \"\\\\dot{x}\", \"xp\");\n",
      "    expr = replace(expr, \"\\\\dot{z}\", \"zp\");\n",
      "    \n",
      "    expr = replace(expr, \"\\\\ddot{y}\", \"ypp\");\n",
      "    expr = replace(expr, \"\\\\ddot{x}\", \"xpp\");\n",
      "    expr = replace(expr, \"\\\\ddot{z}\", \"zpp\");\n",
      "    #expr = replace(expr, \"\\\\theta\", \"\u03b8\")\n",
      "    expr = replace(expr, \"(t)\",\"\");\n",
      "end"
     ],
     "language": "python",
     "metadata": {},
     "outputs": [
      {
       "metadata": {},
       "output_type": "pyout",
       "prompt_number": 22,
       "text": [
        "sympy_to_julia (generic function with 1 method)"
       ]
      }
     ],
     "prompt_number": 22
    },
    {
     "cell_type": "code",
     "collapsed": false,
     "input": [
      "df=asignar_valores_solucion1(0.23,10,20,pi/120)\n",
      "df2=asignar_valores_solucion2(0.23,10,20,pi/120)"
     ],
     "language": "python",
     "metadata": {},
     "outputs": [
      {
       "latex": [
        "$$- 0.459842369488756 \\dot{x} - \\frac{1}{2} y{\\left (t \\right )}$$"
       ],
       "metadata": {},
       "output_type": "pyout",
       "prompt_number": 23,
       "text": [
        "                             y(t)\n",
        "-0.459842369488756*\\dot{x} - ----\n",
        "                              2  "
       ]
      }
     ],
     "prompt_number": 23
    },
    {
     "cell_type": "code",
     "collapsed": false,
     "input": [
      "sympy_to_julia(df)"
     ],
     "language": "python",
     "metadata": {},
     "outputs": [
      {
       "metadata": {},
       "output_type": "pyout",
       "prompt_number": 24,
       "text": [
        "\"0.459842369488756*yp - x/2\""
       ]
      }
     ],
     "prompt_number": 24
    },
    {
     "cell_type": "code",
     "collapsed": false,
     "input": [
      "sympy_to_julia(df2)"
     ],
     "language": "python",
     "metadata": {},
     "outputs": [
      {
       "metadata": {},
       "output_type": "pyout",
       "prompt_number": 25,
       "text": [
        "\"-0.459842369488756*xp - y/2\""
       ]
      }
     ],
     "prompt_number": 25
    },
    {
     "cell_type": "code",
     "collapsed": false,
     "input": [
      "fx(xp,yp,x,y)=0.459842369488756*yp - 1/2 * x\n",
      "fy(xp,yp,x,y)=-0.459842369488756*xp - 1/2 * y\n",
      "fv(r0,v,t)=[fx(v[1],v[2],r0[1],r0[2]),fy(v[1],v[2],r0[1],r0[2])]\n",
      "fr(r0,v,t)=v"
     ],
     "language": "python",
     "metadata": {},
     "outputs": [
      {
       "metadata": {},
       "output_type": "pyout",
       "prompt_number": 26,
       "text": [
        "fr (generic function with 1 method)"
       ]
      }
     ],
     "prompt_number": 26
    },
    {
     "cell_type": "code",
     "collapsed": false,
     "input": [
      "t,q,v=euler_cromer([5.0,2.0],[3.0,9.0],0.0,100.0,1e-4,fr,fv);"
     ],
     "language": "python",
     "metadata": {},
     "outputs": [],
     "prompt_number": 27
    },
    {
     "cell_type": "code",
     "collapsed": false,
     "input": [
      "plot3D(q[:,1],q[:,2])"
     ],
     "language": "python",
     "metadata": {},
     "outputs": [
      {
       "metadata": {},
       "output_type": "display_data",
       "png": "[encoded data removed]",
       "text": [
        "Figure(PyObject <matplotlib.figure.Figure object at 0xab93ed6c>)"
       ]
      },
      {
       "metadata": {},
       "output_type": "pyout",
       "prompt_number": 28,
       "text": [
        "1-element Array{Any,1}:\n",
        " PyObject <mpl_toolkits.mplot3d.art3d.Line3D object at 0xab49492c>"
       ]
      }
     ],
     "prompt_number": 28
    },
    {
     "cell_type": "heading",
     "level": 2,
     "metadata": {},
     "source": [
      "Lagrangiano en 3D."
     ]
    },
    {
     "cell_type": "markdown",
     "metadata": {},
     "source": [
      "Lagrangiano alternativo\n",
      "\n",
      "$$L= \\frac{1}{2}m(\\dot{x}^2+\\dot{y}^2+\\dot{z}^2) +m \\Omega[(\\dot{y}x - \\dot{x}y)cos\\alpha + (\\dot{y}z - \\dot{z}y)sen\\alpha] + \\frac{1}{2}m \\Omega^2[y^2 + (x cos \\alpha + z sen\\alpha)^2] - mgz$$"
     ]
    },
    {
     "cell_type": "code",
     "collapsed": false,
     "input": [
      "\n",
      "#z = SymFunction(\"z\")\n",
      "#x = SymFunction(\"x\")\n",
      "#y = SymFunction(\"y\")\n",
      "#m, \u03a9, g, \u2113,\u03b1,t = sym\"m,\\Omega,g,\\ell,\\alpha,t\"\n",
      "#\u03c90=sqrt(g/\u2113)\n",
      "#\u03b2=\u03a9*cos(\u03b1)\n"
     ],
     "language": "python",
     "metadata": {},
     "outputs": [],
     "prompt_number": 29
    },
    {
     "cell_type": "code",
     "collapsed": false,
     "input": [
      "#z_prima=(x(t)^2+y(t)^2+z(t)^2)/(2\u2113)"
     ],
     "language": "python",
     "metadata": {},
     "outputs": [],
     "prompt_number": 30
    },
    {
     "cell_type": "code",
     "collapsed": false,
     "input": [
      "#diff(z_prima,t)"
     ],
     "language": "python",
     "metadata": {},
     "outputs": [],
     "prompt_number": 31
    },
    {
     "cell_type": "code",
     "collapsed": false,
     "input": [
      "#parentesis_1=(diff(y(t),t)*x(t) - diff(x(t),t)*y(t))*cos(\u03b1) + (diff(y(t),t)*z_prima - diff(z_prima,t)*y(t))*sin(\u03b1)"
     ],
     "language": "python",
     "metadata": {},
     "outputs": [],
     "prompt_number": 32
    },
    {
     "cell_type": "code",
     "collapsed": false,
     "input": [
      "#parentesis_2=y(t)^2 + (x(t)*cos(\u03b1) +z_prima*sin(\u03b1))^2"
     ],
     "language": "python",
     "metadata": {},
     "outputs": [],
     "prompt_number": 33
    },
    {
     "cell_type": "code",
     "collapsed": false,
     "input": [
      "#L_2=1/2*m*(diff(x(t),t)^2+diff(y(t),t)^2+diff(z_prima,t)^2) + m*\u03a9*parentesis_1 + 1/2*m*\u03a9^2 *parentesis_2 -m*g*z_prima"
     ],
     "language": "python",
     "metadata": {},
     "outputs": [],
     "prompt_number": 34
    },
    {
     "cell_type": "code",
     "collapsed": false,
     "input": [
      "#xpp, ypp, zpp = Sym(\"\\\\ddot{x}, \\\\ddot{y}, \\\\ddot{z}\")\n",
      "#xp, yp, zp = Sym(\"\\\\dot{x}, \\\\dot{y}, \\\\dot{z}\")"
     ],
     "language": "python",
     "metadata": {},
     "outputs": [],
     "prompt_number": 35
    },
    {
     "cell_type": "code",
     "collapsed": false,
     "input": [
      "#Fx2=diff(L_2,x(t));"
     ],
     "language": "python",
     "metadata": {},
     "outputs": [],
     "prompt_number": 36
    },
    {
     "cell_type": "code",
     "collapsed": false,
     "input": [
      "#Fy2=diff(L_2,y(t));"
     ],
     "language": "python",
     "metadata": {},
     "outputs": [],
     "prompt_number": 37
    },
    {
     "cell_type": "code",
     "collapsed": false,
     "input": [
      "#Fz2=diff(L_2,z(t));"
     ],
     "language": "python",
     "metadata": {},
     "outputs": [],
     "prompt_number": 38
    },
    {
     "cell_type": "code",
     "collapsed": false,
     "input": [
      "#Px2=diff(L_2,diff(x(t),t));"
     ],
     "language": "python",
     "metadata": {},
     "outputs": [],
     "prompt_number": 39
    },
    {
     "cell_type": "code",
     "collapsed": false,
     "input": [
      "#Py2=diff(L_2,diff(y(t),t));"
     ],
     "language": "python",
     "metadata": {},
     "outputs": [],
     "prompt_number": 40
    },
    {
     "cell_type": "code",
     "collapsed": false,
     "input": [
      "#Pz2=diff(L_2,diff(z(t),t));"
     ],
     "language": "python",
     "metadata": {},
     "outputs": [],
     "prompt_number": 41
    },
    {
     "cell_type": "code",
     "collapsed": false,
     "input": [
      "#ExL_2=diff(Px2,t)-Fx2;"
     ],
     "language": "python",
     "metadata": {},
     "outputs": [],
     "prompt_number": 42
    },
    {
     "cell_type": "code",
     "collapsed": false,
     "input": [
      "#EyL_2=diff(Py2,t)-Fy2;"
     ],
     "language": "python",
     "metadata": {},
     "outputs": [],
     "prompt_number": 43
    },
    {
     "cell_type": "code",
     "collapsed": false,
     "input": [
      "#EzL_2=diff(Pz2,t)-Fz2;"
     ],
     "language": "python",
     "metadata": {},
     "outputs": [],
     "prompt_number": 44
    },
    {
     "cell_type": "code",
     "collapsed": false,
     "input": [
      "#ExL_2 = subs(ExL_2, diff(x(t),t,2), xpp)\n",
      "#ExL_2 = subs(ExL_2, diff(y(t),t,2), ypp)\n",
      "#ExL_2 = subs(ExL_2, diff(z(t),t,2), zpp)\n",
      "#ExL_2 = subs(ExL_2, diff(x(t),t,1), xp)\n",
      "#ExL_2 = subs(ExL_2, diff(y(t),t,1), yp)\n",
      "#ExL_2 = subs(ExL_2, diff(z(t),t,1), zp)\n",
      "\n",
      "#EyL_2 = subs(EyL_2, diff(x(t),t,2), xpp)\n",
      "#EyL_2 = subs(EyL_2, diff(y(t),t,2), ypp)\n",
      "#EyL_2 = subs(EyL_2, diff(z(t),t,2), zpp)\n",
      "#EyL_2 = subs(EyL_2, diff(x(t),t,1), xp)\n",
      "#EyL_2 = subs(EyL_2, diff(y(t),t,1), yp)\n",
      "#EyL_2 = subs(EyL_2, diff(z(t),t,1), zp)\n",
      "\n",
      "#EzL_2 = subs(EzL_2, diff(x(t),t,2), xpp)\n",
      "#EzL_2 = subs(EzL_2, diff(y(t),t,2), ypp)\n",
      "#EzL_2 = subs(EzL_2, diff(z(t),t,2), zpp)\n",
      "#EzL_2 = subs(EzL_2, diff(x(t),t,1), xp)\n",
      "#EzL_2 = subs(EzL_2, diff(y(t),t,1), yp)\n",
      "#EzL_2 = subs(EzL_2, diff(z(t),t,1), zp)"
     ],
     "language": "python",
     "metadata": {},
     "outputs": [],
     "prompt_number": 45
    },
    {
     "cell_type": "code",
     "collapsed": false,
     "input": [
      "#(solx2, soly2, solz2) = solve([ExL_2, EyL_2, EzL_2],[xpp, ypp, zpp])"
     ],
     "language": "python",
     "metadata": {},
     "outputs": [],
     "prompt_number": 46
    },
    {
     "cell_type": "code",
     "collapsed": false,
     "input": [
      "#soly2 = soly2[2];\n",
      "#solx2 = solx2[2];\n",
      "#solz2 = solz2[2]"
     ],
     "language": "python",
     "metadata": {},
     "outputs": [],
     "prompt_number": 47
    },
    {
     "cell_type": "code",
     "collapsed": true,
     "input": [
      "function asignar_valores(solucion,omega,acel_g,longitud,angulo)\n",
      "    solucion= subs(solucion,\u03a9,omega)\n",
      "    solucion= subs(solucion,\u03b1,angulo)\n",
      "    solucion= subs(solucion,g,acel_g)\n",
      "    solucion= subs(solucion,\u2113,longitud)    \n",
      "    return solucion\n",
      "end"
     ],
     "language": "python",
     "metadata": {},
     "outputs": [
      {
       "metadata": {},
       "output_type": "pyout",
       "prompt_number": 48,
       "text": [
        "asignar_valores (generic function with 1 method)"
       ]
      }
     ],
     "prompt_number": 48
    },
    {
     "cell_type": "code",
     "collapsed": false,
     "input": [
      "#soly_con_numeros=asignar_valores(soly2,0.23,10.0,20.0,pi/120);\n",
      "#solx_con_numeros=asignar_valores(solx2,0.23,10.0,20.0,pi/120);\n",
      "#solz_con_numeros=asignar_valores(solz2,0.23,10.0,20.0,pi/120)"
     ],
     "language": "python",
     "metadata": {},
     "outputs": [],
     "prompt_number": 49
    },
    {
     "cell_type": "code",
     "collapsed": false,
     "input": [
      "#sympy_to_julia(soly_con_numeros)"
     ],
     "language": "python",
     "metadata": {},
     "outputs": [],
     "prompt_number": 50
    },
    {
     "cell_type": "code",
     "collapsed": false,
     "input": [
      "#sympy_to_julia(solx_con_numeros)"
     ],
     "language": "python",
     "metadata": {},
     "outputs": [],
     "prompt_number": 51
    },
    {
     "cell_type": "code",
     "collapsed": false,
     "input": [
      "#sympy_to_julia(solz_con_numeros)"
     ],
     "language": "python",
     "metadata": {},
     "outputs": [],
     "prompt_number": 52
    },
    {
     "cell_type": "code",
     "collapsed": false,
     "input": [
      "#fx2(xp,yp,zp,x,y,z)=-0.000602069811081083*xp*x - 0.459842369488756*xp - 0.000602069811081083*yp*y - 0.000602069811081083*zp*z + 0.0529*y\n",
      "#fy2(xp,yp,zp,x,y,z)=0.459842369488756*yp + 3.46071510656466e-5*x^2 + 0.0528637511942585*x + 3.46071510656466e-5*y^2 + 3.46071510656466e-5*z^2\n",
      "#fz2(xp,yp,zp,x,y,z)=0.0125*(-80.0*xp^2 + 0.0481655848864866*xp*x*y + 36.7873895591005*xp*y - 80.0*yp^2 - 36.7873895591005*yp*x + 0.0481655848864866*yp*y^2 + 19.2662339545946*yp - 80.0*zp^2 + 0.0481655848864866*zp*y*z - 0.00276857208525173*x^3 - 4.22765014331102*x^2 - 0.00276857208525173*x*y^2 - 0.00276857208525173*x*z^2 + 2.21485766820138*x - 4.23055004777034*y^2 + 0.00144995222966085*z^2 - 16000.0)/z\n",
      "#fv2(r0,v,t)=[fx2(v[1],v[2],v[3],r0[1],r0[2],r0[3]),fy2(v[1],v[2],v[3],r0[1],r0[2],r0[3]),fz2(v[1],v[2],v[3],r0[1],r0[2],r0[3]) ]\n",
      "#fr2(r0,v,t)=v"
     ],
     "language": "python",
     "metadata": {},
     "outputs": [],
     "prompt_number": 53
    },
    {
     "cell_type": "code",
     "collapsed": false,
     "input": [
      "#t2,q2,v2=euler_cromer([5.0,2.0,3.0],[3.0,9.0, 1.0],0.0,100.0,1e-4,fr2,fv2);"
     ],
     "language": "python",
     "metadata": {},
     "outputs": [],
     "prompt_number": 54
    },
    {
     "cell_type": "code",
     "collapsed": false,
     "input": [
      "#plot(q2[:,1],q2[:,2])"
     ],
     "language": "python",
     "metadata": {},
     "outputs": [],
     "prompt_number": 55
    },
    {
     "cell_type": "heading",
     "level": 2,
     "metadata": {},
     "source": [
      "En esf\u00e9ricas."
     ]
    },
    {
     "cell_type": "code",
     "collapsed": false,
     "input": [
      "#\u03b8 = SymFunction(\"\\\\theta\")\n",
      "#\u03d5 = SymFunction(\"\\\\phi\")\n",
      "#r = SymFunction(\"r\")"
     ],
     "language": "python",
     "metadata": {},
     "outputs": [],
     "prompt_number": 56
    },
    {
     "cell_type": "code",
     "collapsed": false,
     "input": [
      "#x_polar=r(t)*sin(\u03b8(t))*cos(\u03d5(t))\n",
      "#y_polar=r(t)*sin(\u03b8(t))*sin(\u03d5(t))\n",
      "#z_polar=r(t)*cos(\u03b8(t))"
     ],
     "language": "python",
     "metadata": {},
     "outputs": [],
     "prompt_number": 57
    },
    {
     "cell_type": "code",
     "collapsed": false,
     "input": [
      "#xp_polar=diff(x_polar,t)\n",
      "#yp_polar=diff(y_polar,t)\n",
      "#zp_polar=diff(z_polar,t)"
     ],
     "language": "python",
     "metadata": {},
     "outputs": [],
     "prompt_number": 58
    },
    {
     "cell_type": "code",
     "collapsed": false,
     "input": [
      "#rp,\u03b8p,\u03d5p = Sym(\"\\\\dot{r}\",\"\\\\dot{\\\\theta}\",\"\\\\dot{\\\\phi}\")\n",
      "#rpp,\u03b8pp,\u03d5pp = Sym(\"\\\\ddot{r}\",\"\\\\ddot{\\\\theta}\",\"\\\\ddot{\\\\phi}\")"
     ],
     "language": "python",
     "metadata": {},
     "outputs": [],
     "prompt_number": 59
    },
    {
     "cell_type": "code",
     "collapsed": false,
     "input": [
      "\n",
      "#L_polar = subs(L_2,diff(x(t),t),xp_polar);\n",
      "#L_polar = subs(L_polar,diff(y(t),t),yp_polar);\n",
      "#L_polar = subs(L_polar,diff(z(t),t),zp_polar);\n",
      "#L_polar = subs(L_polar,x(t),x_polar);\n",
      "#L_polar = subs(L_polar,y(t),y_polar);\n",
      "#L_polar = subs(L_polar,z(t),z_polar)\n",
      "#L_polar = simplify(L_polar)"
     ],
     "language": "python",
     "metadata": {},
     "outputs": [],
     "prompt_number": 60
    },
    {
     "cell_type": "code",
     "collapsed": false,
     "input": [
      "#Fr=diff(L_polar,r(t));"
     ],
     "language": "python",
     "metadata": {},
     "outputs": [],
     "prompt_number": 61
    },
    {
     "cell_type": "code",
     "collapsed": false,
     "input": [
      "#F\u03b8=diff(L_polar,\u03b8(t));"
     ],
     "language": "python",
     "metadata": {},
     "outputs": [],
     "prompt_number": 62
    },
    {
     "cell_type": "code",
     "collapsed": false,
     "input": [
      "#F\u03d5 = diff(L_polar,\u03d5(t));"
     ],
     "language": "python",
     "metadata": {},
     "outputs": [],
     "prompt_number": 63
    },
    {
     "cell_type": "code",
     "collapsed": false,
     "input": [
      "#Pr = diff(L_polar,diff(r(t),t));"
     ],
     "language": "python",
     "metadata": {},
     "outputs": [],
     "prompt_number": 64
    },
    {
     "cell_type": "code",
     "collapsed": false,
     "input": [
      "#P\u03b8 = diff(L_polar,diff(\u03b8(t),t));"
     ],
     "language": "python",
     "metadata": {},
     "outputs": [],
     "prompt_number": 65
    },
    {
     "cell_type": "code",
     "collapsed": false,
     "input": [
      "#P\u03d5 = diff(L_polar,diff(\u03d5(t),t));"
     ],
     "language": "python",
     "metadata": {},
     "outputs": [],
     "prompt_number": 66
    },
    {
     "cell_type": "code",
     "collapsed": false,
     "input": [
      "#Eq_r= diff(Pr,t) - Fr;\n",
      "#Eq_r = subs(Eq_r,diff(r(t),t,2),rpp);\n",
      "#Eq_r = subs(Eq_r,diff(\u03b8(t),t,2),\u03b8pp);\n",
      "#Eq_r = subs(Eq_r,diff(\u03d5(t),t,2),\u03d5pp);\n",
      "#Eq_r = subs(Eq_r,diff(r(t),t,1),rpp);\n",
      "#Eq_r = subs(Eq_r,diff(\u03b8(t),t,1),\u03b8p);\n",
      "#Eq_r = subs(Eq_r,diff(\u03d5(t),t,1),\u03d5p);"
     ],
     "language": "python",
     "metadata": {},
     "outputs": [],
     "prompt_number": 67
    },
    {
     "cell_type": "code",
     "collapsed": false,
     "input": [
      "#Eq_\u03b8= diff(P\u03b8,t) - F\u03b8;\n",
      "#Eq_\u03b8 = subs(Eq_\u03b8,diff(r(t),t,2),rpp);\n",
      "#Eq_\u03b8 = subs(Eq_\u03b8,diff(\u03b8(t),t,2),\u03b8pp);\n",
      "#Eq_\u03b8 = subs(Eq_\u03b8,diff(\u03d5(t),t,2),\u03d5pp);\n",
      "#Eq_\u03b8 = subs(Eq_\u03b8,diff(r(t),t,1),rpp);\n",
      "#Eq_\u03b8 = subs(Eq_\u03b8,diff(\u03b8(t),t,1),\u03b8p);\n",
      "#Eq_\u03b8 = subs(Eq_\u03b8,diff(\u03d5(t),t,1),\u03d5p);"
     ],
     "language": "python",
     "metadata": {},
     "outputs": [],
     "prompt_number": 68
    },
    {
     "cell_type": "code",
     "collapsed": false,
     "input": [
      "#Eq_\u03d5= diff(P\u03d5,t) - F\u03d5;\n",
      "#Eq_\u03d5 = subs(Eq_\u03d5,diff(r(t),t,2),rpp);\n",
      "#Eq_\u03d5 = subs(Eq_\u03d5,diff(\u03b8(t),t,2),\u03b8pp);\n",
      "#Eq_\u03d5 = subs(Eq_\u03d5,diff(\u03d5(t),t,2),\u03d5pp);\n",
      "#Eq_\u03d5 = subs(Eq_\u03d5,diff(r(t),t,1),rpp);\n",
      "#Eq_\u03d5 = subs(Eq_\u03d5,diff(\u03b8(t),t,1),\u03b8p);\n",
      "#Eq_\u03d5 = subs(Eq_\u03d5,diff(\u03d5(t),t,1),\u03d5p);"
     ],
     "language": "python",
     "metadata": {},
     "outputs": [],
     "prompt_number": 69
    },
    {
     "cell_type": "heading",
     "level": 1,
     "metadata": {},
     "source": [
      "Otra aproximacion."
     ]
    },
    {
     "cell_type": "markdown",
     "metadata": {},
     "source": [
      "$$x = \\ell sen\\delta cos\\theta$$"
     ]
    },
    {
     "cell_type": "markdown",
     "metadata": {},
     "source": [
      "$$y = \\ell sen\\delta sen\\theta$$\n"
     ]
    },
    {
     "cell_type": "markdown",
     "metadata": {},
     "source": [
      "$$ z = \\ell - \\ell cos\\delta$$\n",
      "\n",
      "Donde $\\delta$ es el \u00e1ngulo que forma el p\u00e9ndulo con respecto al eje $z$, por otra parte $\\theta$ es el \u00e1ngulo polar."
     ]
    },
    {
     "cell_type": "code",
     "collapsed": false,
     "input": [
      "\u03b8 = SymFunction(\"\\\\theta\")\n",
      "\u03b4 = SymFunction(\"\\\\delta\")\n",
      "m, \u03a9, g, \u2113,\u03b1,t = sym\"m,\\Omega,g,\\ell,\\alpha,t\"\n",
      "\u03c90=sqrt(g/\u2113)\n",
      "\u03b2=\u03a9*cos(\u03b1)"
     ],
     "language": "python",
     "metadata": {},
     "outputs": [
      {
       "latex": [
        "$$\\Omega \\cos{\\left (\\alpha \\right )}$$"
       ],
       "metadata": {},
       "output_type": "pyout",
       "prompt_number": 70,
       "text": [
        "\\Omega*cos(\\alpha)"
       ]
      }
     ],
     "prompt_number": 70
    },
    {
     "cell_type": "code",
     "collapsed": false,
     "input": [
      "x_esf2=\u2113*sin(\u03b4(t))*cos(\u03b8(t))\n",
      "y_esf2=\u2113*sin(\u03b4(t))*sin(\u03b8(t))\n",
      "z_esf2=\u2113 - \u2113*cos(\u03b4(t))"
     ],
     "language": "python",
     "metadata": {},
     "outputs": [
      {
       "latex": [
        "$$- \\ell \\cos{\\left (\\delta{\\left (t \\right )} \\right )} + \\ell$$"
       ],
       "metadata": {},
       "output_type": "pyout",
       "prompt_number": 71,
       "text": [
        "-\\ell*cos(\\delta(t)) + \\ell"
       ]
      }
     ],
     "prompt_number": 71
    },
    {
     "cell_type": "code",
     "collapsed": false,
     "input": [
      "\u03a9x = -\u03a9*sin(\u03b1)*cos(\u03b8(t))\n",
      "\u03a9y = -\u03a9*sin(\u03b1)*sin(\u03b8(t))\n",
      "\u03a9z = \u03a9*cos(\u03b1)"
     ],
     "language": "python",
     "metadata": {},
     "outputs": [
      {
       "latex": [
        "$$\\Omega \\cos{\\left (\\alpha \\right )}$$"
       ],
       "metadata": {},
       "output_type": "pyout",
       "prompt_number": 72,
       "text": [
        "\\Omega*cos(\\alpha)"
       ]
      }
     ],
     "prompt_number": 72
    },
    {
     "cell_type": "code",
     "collapsed": false,
     "input": [
      "xp_esf2=diff(x_esf2,t)\n",
      "yp_esf2=diff(y_esf2,t)\n",
      "zp_esf2=diff(z_esf2,t)"
     ],
     "language": "python",
     "metadata": {},
     "outputs": [
      {
       "latex": [
        "$$\\ell \\sin{\\left (\\delta{\\left (t \\right )} \\right )} \\frac{d}{d t} \\delta{\\left (t \\right )}$$"
       ],
       "metadata": {},
       "output_type": "pyout",
       "prompt_number": 73,
       "text": [
        "                    d            \n",
        "\\ell*sin(\\delta(t))*--(\\delta(t))\n",
        "                    dt           "
       ]
      }
     ],
     "prompt_number": 73
    },
    {
     "cell_type": "code",
     "collapsed": false,
     "input": [
      "r_vector = [x_esf2,y_esf2,z_esf2];\n",
      "\u03a9_vector = [\u03a9x,\u03a9y,\u03a9z];\n",
      "v_vector = [diff(x_esf2,t),diff(y_esf2,t),diff(z_esf2,t)]"
     ],
     "language": "python",
     "metadata": {},
     "outputs": [
      {
       "latex": [
        "\\begin{bmatrix}- \\ell \\sin{\\left (\\delta{\\left (t \\right )} \\right )} \\sin{\\left (\\theta{\\left (t \\right )} \\right )} \\frac{d}{d t} \\theta{\\left (t \\right )} + \\ell \\cos{\\left (\\delta{\\left (t \\right )} \\right )} \\cos{\\left (\\theta{\\left (t \\right )} \\right )} \\frac{d}{d t} \\delta{\\left (t \\right )}\\\\\\ell \\sin{\\left (\\delta{\\left (t \\right )} \\right )} \\cos{\\left (\\theta{\\left (t \\right )} \\right )} \\frac{d}{d t} \\theta{\\left (t \\right )} + \\ell \\sin{\\left (\\theta{\\left (t \\right )} \\right )} \\cos{\\left (\\delta{\\left (t \\right )} \\right )} \\frac{d}{d t} \\delta{\\left (t \\right )}\\\\\\ell \\sin{\\left (\\delta{\\left (t \\right )} \\right )} \\frac{d}{d t} \\delta{\\left (t \\right )}\\end{bmatrix}"
       ],
       "metadata": {},
       "output_type": "pyout",
       "prompt_number": 74,
       "text": [
        "3-element Array{Sym,1}:\n",
        "                                      d                                        \n",
        "- \\ell*sin(\\delta(t))*sin(\\theta(t))*--(\\theta(t)) + \\ell*cos(\\delta(t))*cos(\\\n",
        "                                     dt                                       \n",
        "\n",
        "          d            \n",
        "theta(t))*--(\\delta(t))\n",
        "          dt           \n",
        "                                    d                                          \n",
        "\\ell*sin(\\delta(t))*cos(\\theta(t))*--(\\theta(t)) + \\ell*sin(\\theta(t))*cos(\\de\n",
        "                                   dt                                         \n",
        "\n",
        "        d            \n",
        "lta(t))*--(\\delta(t))\n",
        "        dt                 \n",
        "                     d            \n",
        "\\ell*sin(\\delta(t))*--(\\delta(t))\n",
        "                    dt                                                                                                                                                                                                                           "
       ]
      }
     ],
     "prompt_number": 74
    },
    {
     "cell_type": "code",
     "collapsed": false,
     "input": [
      "\u03a9r = \u00d7(\u03a9_vector,r_vector)\n",
      "coreolis =m*((v_vector[1]*\u03a9r[1]) + (v_vector[2]*\u03a9r[2]) + (v_vector[3]*\u03a9r[3]))\n",
      "centrifuga = 1/2 * m * ((\u03a9r[1]*\u03a9r[1]) + (\u03a9r[2]*\u03a9r[2])+ (\u03a9r[3]*\u03a9r[3]))\n",
      "v2 = ((v_vector[1]*v_vector[1]) + (v_vector[2]*v_vector[2]) + (v_vector[3]*v_vector[3]))"
     ],
     "language": "python",
     "metadata": {},
     "outputs": [
      {
       "latex": [
        "$$\\ell^{2} \\sin^{2}{\\left (\\delta{\\left (t \\right )} \\right )} \\left(\\frac{d}{d t} \\delta{\\left (t \\right )}\\right)^{2} + \\left(- \\ell \\sin{\\left (\\delta{\\left (t \\right )} \\right )} \\sin{\\left (\\theta{\\left (t \\right )} \\right )} \\frac{d}{d t} \\theta{\\left (t \\right )} + \\ell \\cos{\\left (\\delta{\\left (t \\right )} \\right )} \\cos{\\left (\\theta{\\left (t \\right )} \\right )} \\frac{d}{d t} \\delta{\\left (t \\right )}\\right)^{2} + \\left(\\ell \\sin{\\left (\\delta{\\left (t \\right )} \\right )} \\cos{\\left (\\theta{\\left (t \\right )} \\right )} \\frac{d}{d t} \\theta{\\left (t \\right )} + \\ell \\sin{\\left (\\theta{\\left (t \\right )} \\right )} \\cos{\\left (\\delta{\\left (t \\right )} \\right )} \\frac{d}{d t} \\delta{\\left (t \\right )}\\right)^{2}$$"
       ],
       "metadata": {},
       "output_type": "pyout",
       "prompt_number": 75,
       "text": [
        "                                     2                                        \n",
        "    2    2            /d            \\    /                                    \n",
        "\\ell *sin (\\delta(t))*|--(\\delta(t))|  + |- \\ell*sin(\\delta(t))*sin(\\theta(t))\n",
        "                      \\dt           /    \\                                    \n",
        "\n",
        "                                                                  2           \n",
        " d                                                  d            \\    /       \n",
        "*--(\\theta(t)) + \\ell*cos(\\delta(t))*cos(\\theta(t))*--(\\delta(t))|  + |\\ell*si\n",
        " dt                                                 dt           /    \\       \n",
        "\n",
        "                                                                              \n",
        "                            d                                                 \n",
        "n(\\delta(t))*cos(\\theta(t))*--(\\theta(t)) + \\ell*sin(\\theta(t))*cos(\\delta(t))\n",
        "                            dt                                                \n",
        "\n",
        "               2\n",
        " d            \\ \n",
        "*--(\\delta(t))| \n",
        " dt           / "
       ]
      }
     ],
     "prompt_number": 75
    },
    {
     "cell_type": "code",
     "collapsed": false,
     "input": [
      "L_esf2 = 1/2*m* v2 + coreolis + centrifuga -m*g*z_esf2;\n",
      "L_esf2 = simplify(L_esf2);"
     ],
     "language": "python",
     "metadata": {},
     "outputs": [],
     "prompt_number": 76
    },
    {
     "cell_type": "code",
     "collapsed": false,
     "input": [
      "F\u03b4 = diff(L_esf2,\u03b4(t));\n",
      "F\u03b82 = diff(L_esf2,\u03b8(t));\n",
      "P\u03b4 = diff(L_esf2,diff(\u03b4(t),t));\n",
      "P\u03b82 = diff(L_esf2,diff(\u03b8(t),t));"
     ],
     "language": "python",
     "metadata": {},
     "outputs": [],
     "prompt_number": 77
    },
    {
     "cell_type": "code",
     "collapsed": false,
     "input": [
      "Eq_esf\u03b4 = diff(P\u03b4,t) - F\u03b4;\n",
      "Eq_esf\u03b8 = diff(P\u03b82,t) - F\u03b82;"
     ],
     "language": "python",
     "metadata": {},
     "outputs": [],
     "prompt_number": 78
    },
    {
     "cell_type": "code",
     "collapsed": false,
     "input": [
      "\u03b4p,\u03b82p = Sym(\"\\\\dot{\\\\delta}\",\"\\\\dot{\\\\theta}\")\n",
      "\u03b4pp,\u03b82pp = Sym(\"\\\\ddot{\\\\delta}\",\"\\\\ddot{\\\\theta}\")"
     ],
     "language": "python",
     "metadata": {},
     "outputs": [
      {
       "metadata": {},
       "output_type": "pyout",
       "prompt_number": 79,
       "text": [
        "(\\ddot{\\delta},\\ddot{\\theta})"
       ]
      }
     ],
     "prompt_number": 79
    },
    {
     "cell_type": "code",
     "collapsed": false,
     "input": [
      "Eq_esf\u03b4 = subs(Eq_esf\u03b4,diff(\u03b4(t),t,2),\u03b4pp);\n",
      "Eq_esf\u03b4 = subs(Eq_esf\u03b4,diff(\u03b8(t),t,2),\u03b82pp);\n",
      "Eq_esf\u03b4 = subs(Eq_esf\u03b4,diff(\u03b4(t),t,1),\u03b4p);\n",
      "Eq_esf\u03b4 = subs(Eq_esf\u03b4,diff(\u03b8(t),t,1),\u03b82p);"
     ],
     "language": "python",
     "metadata": {},
     "outputs": [],
     "prompt_number": 80
    },
    {
     "cell_type": "code",
     "collapsed": false,
     "input": [
      "Eq_esf\u03b8 = subs(Eq_esf\u03b8,diff(\u03b4(t),t,2),\u03b4pp);\n",
      "Eq_esf\u03b8 = subs(Eq_esf\u03b8,diff(\u03b8(t),t,2),\u03b82pp);\n",
      "Eq_esf\u03b8 = subs(Eq_esf\u03b8,diff(\u03b4(t),t,1),\u03b4p);\n",
      "Eq_esf\u03b8 = subs(Eq_esf\u03b8,diff(\u03b8(t),t,1),\u03b82p);"
     ],
     "language": "python",
     "metadata": {},
     "outputs": [],
     "prompt_number": 81
    },
    {
     "cell_type": "code",
     "collapsed": false,
     "input": [
      "(sol\u03b4, sol\u03b82) = solve([Eq_esf\u03b4, Eq_esf\u03b8],[\u03b4pp, \u03b82pp])"
     ],
     "language": "python",
     "metadata": {},
     "outputs": [
      {
       "latex": [
        "\\begin{equation*}\\begin{cases}\\ddot{\\theta} & \\text{=>} &\\frac{\\dot{\\delta}}{\\sin^{2}{\\left (\\delta{\\left (t \\right )} \\right )}} \\left(- \\Omega \\sin{\\left (\\alpha \\right )} \\cos{\\left (\\delta{\\left (t \\right )} \\right )} + \\Omega \\sin{\\left (\\alpha - \\delta{\\left (t \\right )} \\right )} \\cos{\\left (\\delta{\\left (t \\right )} \\right )} - \\Omega \\sin{\\left (\\delta{\\left (t \\right )} \\right )} \\cos{\\left (\\alpha - \\delta{\\left (t \\right )} \\right )} - \\dot{\\theta} \\sin{\\left (2.0 \\delta{\\left (t \\right )} \\right )}\\right)\\\\\\ddot{\\delta} & \\text{=>} &- 0.5 \\Omega^{2} \\sin{\\left (2.0 \\alpha - 2.0 \\delta{\\left (t \\right )} \\right )} + 0.5 \\Omega^{2} \\sin{\\left (2.0 \\alpha - \\delta{\\left (t \\right )} \\right )} + 0.5 \\Omega^{2} \\sin{\\left (\\delta{\\left (t \\right )} \\right )} - \\Omega \\dot{\\theta} \\sin{\\left (\\alpha - 2.0 \\delta{\\left (t \\right )} \\right )} + 0.5 \\Omega \\dot{\\theta} \\sin{\\left (\\alpha - \\delta{\\left (t \\right )} \\right )} + 0.5 \\Omega \\dot{\\theta} \\sin{\\left (\\alpha + \\delta{\\left (t \\right )} \\right )} + 0.5 \\dot{\\theta}^{2} \\sin{\\left (2.0 \\delta{\\left (t \\right )} \\right )} - \\frac{g}{\\ell} \\sin{\\left (\\delta{\\left (t \\right )} \\right )}\\\\\\end{cases}\\end{equation*}"
       ],
       "metadata": {},
       "output_type": "pyout",
       "prompt_number": 82,
       "text": [
        "Dict{Any,Any} with 2 entries:\n",
        "  \"\\\\ddot{\\\\theta}\" => \\dot{\\delta}*(-\\Omega*sin(\\alpha)*cos(\\delta(t)) + \\Omeg\u2026\n",
        "  \"\\\\ddot{\\\\delta}\" =>             2                                           \u2026"
       ]
      }
     ],
     "prompt_number": 82
    },
    {
     "cell_type": "code",
     "collapsed": false,
     "input": [
      "sol_\u03b82 = sol\u03b4[2];\n",
      "sol_\u03b4 = sol\u03b82[2]"
     ],
     "language": "python",
     "metadata": {},
     "outputs": [
      {
       "latex": [
        "$$- 0.5 \\Omega^{2} \\sin{\\left (2.0 \\alpha - 2.0 \\delta{\\left (t \\right )} \\right )} + 0.5 \\Omega^{2} \\sin{\\left (2.0 \\alpha - \\delta{\\left (t \\right )} \\right )} + 0.5 \\Omega^{2} \\sin{\\left (\\delta{\\left (t \\right )} \\right )} - \\Omega \\dot{\\theta} \\sin{\\left (\\alpha - 2.0 \\delta{\\left (t \\right )} \\right )} + 0.5 \\Omega \\dot{\\theta} \\sin{\\left (\\alpha - \\delta{\\left (t \\right )} \\right )} + 0.5 \\Omega \\dot{\\theta} \\sin{\\left (\\alpha + \\delta{\\left (t \\right )} \\right )} + 0.5 \\dot{\\theta}^{2} \\sin{\\left (2.0 \\delta{\\left (t \\right )} \\right )} - \\frac{g}{\\ell} \\sin{\\left (\\delta{\\left (t \\right )} \\right )}$$"
       ],
       "metadata": {},
       "output_type": "pyout",
       "prompt_number": 83,
       "text": [
        "            2                                             2                   \n",
        "- 0.5*\\Omega *sin(2.0*\\alpha - 2.0*\\delta(t)) + 0.5*\\Omega *sin(2.0*\\alpha - \\\n",
        "                                                                              \n",
        "\n",
        "                      2                                                       \n",
        "delta(t)) + 0.5*\\Omega *sin(\\delta(t)) - \\Omega*\\dot{\\theta}*sin(\\alpha - 2.0*\n",
        "                                                                              \n",
        "\n",
        "                                                                              \n",
        "\\delta(t)) + 0.5*\\Omega*\\dot{\\theta}*sin(\\alpha - \\delta(t)) + 0.5*\\Omega*\\dot\n",
        "                                                                              \n",
        "\n",
        "                                                   2                      g*si\n",
        "{\\theta}*sin(\\alpha + \\delta(t)) + 0.5*\\dot{\\theta} *sin(2.0*\\delta(t)) - ----\n",
        "                                                                              \n",
        "\n",
        "n(\\delta(t))\n",
        "------------\n",
        "  \\ell      "
       ]
      }
     ],
     "prompt_number": 83
    },
    {
     "cell_type": "code",
     "collapsed": false,
     "input": [
      "funcion_prueba\u03b8 = asignar_valores(sol_\u03b82,0.023,10,2,pi/7);\n",
      "funcion_prueba\u03b4 = asignar_valores(sol_\u03b4,0.023,10,2,pi/7)"
     ],
     "language": "python",
     "metadata": {},
     "outputs": [
      {
       "latex": [
        "$$0.5 \\dot{\\theta}^{2} \\sin{\\left (2.0 \\delta{\\left (t \\right )} \\right )} - 0.0115 \\dot{\\theta} \\sin{\\left (\\delta{\\left (t \\right )} - 0.448798950512828 \\right )} + 0.0115 \\dot{\\theta} \\sin{\\left (\\delta{\\left (t \\right )} + 0.448798950512828 \\right )} + 0.023 \\dot{\\theta} \\sin{\\left (2.0 \\delta{\\left (t \\right )} - 0.448798950512828 \\right )} - 0.0002645 \\sin{\\left (\\delta{\\left (t \\right )} - 0.897597901025655 \\right )} + 0.0002645 \\sin{\\left (2.0 \\delta{\\left (t \\right )} - 0.897597901025655 \\right )} - 4.9997355 \\sin{\\left (\\delta{\\left (t \\right )} \\right )}$$"
       ],
       "metadata": {},
       "output_type": "pyout",
       "prompt_number": 84,
       "text": [
        "                2                                                             \n",
        "0.5*\\dot{\\theta} *sin(2.0*\\delta(t)) - 0.0115*\\dot{\\theta}*sin(\\delta(t) - 0.4\n",
        "\n",
        "                                                                              \n",
        "48798950512828) + 0.0115*\\dot{\\theta}*sin(\\delta(t) + 0.448798950512828) + 0.0\n",
        "\n",
        "                                                                              \n",
        "23*\\dot{\\theta}*sin(2.0*\\delta(t) - 0.448798950512828) - 0.0002645*sin(\\delta(\n",
        "\n",
        "                                                                              \n",
        "t) - 0.897597901025655) + 0.0002645*sin(2.0*\\delta(t) - 0.897597901025655) - 4\n",
        "\n",
        "                       \n",
        ".9997355*sin(\\delta(t))"
       ]
      }
     ],
     "prompt_number": 84
    },
    {
     "cell_type": "code",
     "collapsed": false,
     "input": [
      "function sympy_to_julia(x::Sym)\n",
      "    expr = PyCall.pyeval(\"str(x)\", x=x.x)\n",
      "    expr = replace(expr, \"**\", \"^\")\n",
      "    expr = replace(expr, \"\\\\dot{y}\", \"yp\");\n",
      "    expr = replace(expr, \"\\\\dot{x}\", \"xp\");\n",
      "    expr = replace(expr, \"\\\\dot{z}\", \"zp\");\n",
      "    \n",
      "    expr = replace(expr, \"\\\\ddot{y}\", \"ypp\");\n",
      "    expr = replace(expr, \"\\\\ddot{x}\", \"xpp\");\n",
      "    expr = replace(expr, \"\\\\ddot{z}\", \"zpp\");\n",
      "    \n",
      "    expr = replace(expr, \"\\\\ddot{\\\\theta}\", \"\u03b82pp\");\n",
      "    expr = replace(expr, \"\\\\dot{\\\\theta}\", \"\u03b82p\");\n",
      "    expr = replace(expr, \"\\\\ddot{\\\\delta}\", \"\u03b4pp\");\n",
      "    expr = replace(expr, \"\\\\dot{\\\\delta}\", \"\u03b4p\");\n",
      "    expr = replace(expr, \"\\\\delta\", \"\u03b4\");\n",
      "    expr = replace(expr, \"\\\\theta\", \"\u03b8\");\n",
      "    #expr = replace(expr, \"\\\\theta\", \"\u03b8\")\n",
      "    expr = replace(expr, \"(t)\",\"\");\n",
      "end"
     ],
     "language": "python",
     "metadata": {},
     "outputs": [
      {
       "metadata": {},
       "output_type": "pyout",
       "prompt_number": 85,
       "text": [
        "sympy_to_julia (generic function with 1 method)"
       ]
      }
     ],
     "prompt_number": 85
    },
    {
     "cell_type": "code",
     "collapsed": false,
     "input": [
      "sympy_to_julia(funcion_prueba\u03b4)"
     ],
     "language": "python",
     "metadata": {},
     "outputs": [
      {
       "metadata": {},
       "output_type": "pyout",
       "prompt_number": 86,
       "text": [
        "\"0.5*\u03b82p^2*sin(2.0*\u03b4) - 0.0115*\u03b82p*sin(\u03b4 - 0.448798950512828) + 0.0115*\u03b82p*sin(\u03b4 + 0.448798950512828) + 0.023*\u03b82p*sin(2.0*\u03b4 - 0.448798950512828) - 0.0002645*sin(\u03b4 - 0.897597901025655) + 0.0002645*sin(2.0*\u03b4 - 0.897597901025655) - 4.9997355*sin(\u03b4)\""
       ]
      }
     ],
     "prompt_number": 86
    },
    {
     "cell_type": "code",
     "collapsed": false,
     "input": [
      "sympy_to_julia(funcion_prueba\u03b8)"
     ],
     "language": "python",
     "metadata": {},
     "outputs": [
      {
       "metadata": {},
       "output_type": "pyout",
       "prompt_number": 87,
       "text": [
        "\"\u03b4p*(-\u03b82p*sin(2.0*\u03b4) - 0.023*sin(\u03b4 - 0.448798950512828)*cos(\u03b4) - 0.023*sin(\u03b4)*cos(\u03b4 - 0.448798950512828) - 0.00997932599970384*cos(\u03b4))/sin(\u03b4)^2\""
       ]
      }
     ],
     "prompt_number": 87
    },
    {
     "cell_type": "code",
     "collapsed": false,
     "input": [
      "f\u03b4(\u03b4p,\u03b82p,\u03b4,\u03b8)=0.5*\u03b82p^2*sin(2.0*\u03b4) - 0.0115*\u03b82p*sin(\u03b4 - 0.448798950512828) + 0.0115*\u03b82p*sin(\u03b4 + 0.448798950512828) + 0.023*\u03b82p*sin(2.0*\u03b4 - 0.448798950512828) - 0.0002645*sin(\u03b4 - 0.897597901025655) + 0.0002645*sin(2.0*\u03b4 - 0.897597901025655) - 4.9997355*sin(\u03b4)\n",
      "f\u03b82(\u03b4p,\u03b82p,\u03b4,\u03b8)=\u03b4p*(-\u03b82p*sin(2.0*\u03b4) - 0.023*sin(\u03b4 - 0.448798950512828)*cos(\u03b4) - 0.023*sin(\u03b4)*cos(\u03b4 - 0.448798950512828) - 0.00997932599970384*cos(\u03b4))/sin(\u03b4)^2\n",
      "fderiv(r0,v,t)=[f\u03b4(v[1],v[2],r0[1],r0[2]),f\u03b82(v[1],v[2],r0[1],r0[2]) ]\n",
      "fposicion(r0,v,t)=v"
     ],
     "language": "python",
     "metadata": {},
     "outputs": [
      {
       "metadata": {},
       "output_type": "pyout",
       "prompt_number": 88,
       "text": [
        "fposicion (generic function with 1 method)"
       ]
      }
     ],
     "prompt_number": 88
    },
    {
     "cell_type": "code",
     "collapsed": false,
     "input": [
      "t_polar,pos_polar,vel_polar=euler_cromer([pi/4,pi/6],[0.7,0.3],0.0,100.0,1e-4,fposicion,fderiv);"
     ],
     "language": "python",
     "metadata": {},
     "outputs": [],
     "prompt_number": 89
    },
    {
     "cell_type": "code",
     "collapsed": false,
     "input": [
      "\u03b4s=pos_polar[:,1];\n",
      "\u03b8s = pos_polar[:,2];"
     ],
     "language": "python",
     "metadata": {},
     "outputs": [],
     "prompt_number": 90
    },
    {
     "cell_type": "code",
     "collapsed": false,
     "input": [
      "x_s = 2* sin(\u03b4s) .* cos(\u03b8s);\n",
      "y_s = 2* sin(\u03b4s) .* sin(\u03b8s);\n",
      "z_s = 2-(2* sin(\u03b4s));"
     ],
     "language": "python",
     "metadata": {},
     "outputs": [],
     "prompt_number": 91
    },
    {
     "cell_type": "code",
     "collapsed": false,
     "input": [
      "plot3D(x_s,y_s,z_s)"
     ],
     "language": "python",
     "metadata": {},
     "outputs": [
      {
       "metadata": {},
       "output_type": "display_data",
       "png": "[encoded data removed]",
       "text": [
        "Figure(PyObject <matplotlib.figure.Figure object at 0xab2ef86c>)"
       ]
      },
      {
       "metadata": {},
       "output_type": "pyout",
       "prompt_number": 92,
       "text": [
        "1-element Array{Any,1}:\n",
        " PyObject <mpl_toolkits.mplot3d.art3d.Line3D object at 0xaadc9dac>"
       ]
      }
     ],
     "prompt_number": 92
    },
    {
     "cell_type": "code",
     "collapsed": false,
     "input": [],
     "language": "python",
     "metadata": {},
     "outputs": []
    }
   ],
   "metadata": {}
  }
 ]
}