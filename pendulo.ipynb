{
 "metadata": {
  "language": "Julia",
  "name": "",
  "signature": "sha256:958bcf2df1d6a537cd57b0e24eeec14a5eedd551e938c0b26e9cd9c1c1f9b6aa"
 },
 "nbformat": 3,
 "nbformat_minor": 0,
 "worksheets": [
  {
   "cells": [
    {
     "cell_type": "heading",
     "level": 2,
     "metadata": {},
     "source": [
      "P\u00e9ndulo de Foucault"
     ]
    },
    {
     "cell_type": "heading",
     "level": 3,
     "metadata": {},
     "source": [
      "Sistema de Referencia No Inerciales"
     ]
    },
    {
     "cell_type": "heading",
     "level": 3,
     "metadata": {},
     "source": [
      "1. Transformaci\u00f3n de coordenadas"
     ]
    },
    {
     "cell_type": "markdown",
     "metadata": {},
     "source": [
      "La primera Ley de Newton define un Sistema Inercial (SI) y la segunda Ley de Newton $\\vec{F} = \\frac{d^2\\vec{p}}{dt^2}$ es v\u00e1lida para un SI. Las ecuaciones de movimiento de una particula son las mismas para un SI que para todo aquel sistema de referencia que se mueve con velocidad respecto a \u00e9ste. Si la regla de transformaci\u00f3n entre los dos sistemas es la de Galileo,\n",
      "\n",
      "$$\\vec{r} = \\vec{r}' + \\vec{u}t$$\n",
      "\n",
      "$$t = t'$$\n",
      "\n",
      "la segunda Ley de Newton es invariante ante esta transformaci\u00f3n, esto es,\n",
      "\n",
      "$$\\vec{F} = m \\frac{d^2 \\vec{r}}{dt^2} = m \\frac{d^2 \\vec{r'}}{dt^2}$$\n",
      "\n",
      "y ambos sistemas son SI y por tanto miden la misma aceleeraci\u00f3n. Esto ya no es valido cuando el segundo sistema ya no se mueve con velocidad constante con respecto al primero."
     ]
    },
    {
     "cell_type": "markdown",
     "metadata": {},
     "source": [
      "Cuando el sistema no es un SI, la seguunda Ley de Newton debe modificarse. Consideremos un sistema inercial de referencia S y un sistema S' que se mueve con respecto al primero, el segundo sistema puede acelerarse y rotar (SNI).\n",
      "Sea $\\vec{r}(t)$ la posici\u00f3n de una part\u00edcula medida desde S (SI) al tiempo $t$, y $\\vec{r}'(t)$ la posici\u00f3n de la misma part\u00edcula medida desde S' al mismo tiempo t (restringido al caso cl\u00e1sico donde $\\Delta t = \\Delta t'$). Entonces ambas posiciones estan relacionadas por\n",
      "\n",
      "$$\\vec{r}(t) = \\vec{R}(t) + \\vec{r'}(t)$$\n",
      "\n",
      "donde $\\vec{R}(t)$ corresponde al vector de posici\u00f3n del origen S' medido desde el sistema S, de tal forma que la primera derivada es\n",
      "\n",
      "$$\\dot{\\vec{r}} = \\dot{\\vec{R}} + \\dot{\\vec{r'}}$$\n",
      "\n",
      "descomponiendo al vector $\\vec{r}$ \n",
      "\n",
      "$$\\dot{\\vec{r'}} = x'\\hat{i'} + y' \\hat{j'} + z' \\hat{k'}$$\n",
      "\n",
      "donde $\\hat{i'}$, $\\hat{j'}$, $\\hat{k'}$ son los vectores unitarios en las direcciones $x'$, $y'$, $z'$ respectivamente, del sistema S'. De esta forma obtenemos que\n",
      "\n",
      "$$\\dot{\\vec{r}} = \\dot{\\vec{R}} + \\dot{x}'\\hat{i'} + \\dot{y}' \\hat{j'} + \\dot{z}' \\hat{k'} + x'\\frac{d \\hat{i'}}{dt} + y' \\frac{d\\hat{j'}}{dt} + z' \\frac{d\\hat{k'}}{dt}$$"
     ]
    },
    {
     "cell_type": "markdown",
     "metadata": {},
     "source": [
      "Definimos $\\{\\dot{\\vec{r'}}\\}_{SNI} := \\dot{x}'\\hat{i'} + \\dot{y}' \\hat{j'} + \\dot{z}' \\hat{k'}$ que es la velocidad de la part\u00edcula medida desde S', entonces la expresi\u00f3n anterior la podemos reescribir como\n",
      "\n",
      "$$\\dot{\\vec{r}} = \\dot{\\vec{R}} + \\left\\{ \\dot{\\vec{r'}} \\right\\}_{SNI}+ x'\\frac{d \\hat{i'}}{dt} + y' \\frac{d\\hat{j'}}{dt} + z' \\frac{d\\hat{k'}}{dt}$$\n",
      "\n",
      "los terminos restantes corresponden a la rotaci\u00f3n del sistema S'."
     ]
    },
    {
     "cell_type": "markdown",
     "metadata": {},
     "source": [
      "Cualquier rotaci\u00f3n esta identificada por el vector de velocidad angular $\\vec{\\omega}$. Las derivadas con respecto al tiempo de los vectores base pueden ser calculados de la siguiente manera: escrinimos la velocidad angular como\n",
      "\n",
      "$$\\vec{\\omega} = \\omega \\hat{n}$$\n",
      "\n",
      "donde $\\hat{n}$ es el eje instant\u00e1neo de giro, entonces debido a que $\\hat{n}$ es unitario , en una primera aproximaci\u00f3n obtenemos para $\\Delta \\hat{i'}$\n",
      "\n",
      "$$|\\Delta\\hat{i'}| = \\Delta\\theta \\sin{\\alpha}$$\n",
      "\n",
      "y el valor absoluto de la derivada temporal es:\n",
      "\n",
      "$$|\\frac{d\\hat{i'}}{dt}| = \\omega\\sin{\\alpha}$$\n",
      "\n",
      "$$\\omega = \\frac{d\\theta}{dt}$$\n",
      "\n",
      "observamos que la direcci\u00f3n de este vector tiene que ser tanto perpendicular a $\\hat{i'}$ como a $\\vec{\\omega}$, entonces utilizando la definici\u00f3n de producto vectorial podemos escribir que\n",
      "\n",
      "$$\\frac{d\\hat{i'}}{dt} = \\vec{\\omega} \\times \\hat{i'}$$\n",
      "\n",
      "An\u00e1logamente para los otros vectores unitarios, obtenemos\n",
      "\n",
      "$$\\frac{d\\hat{j'}}{dt} = \\vec{\\omega} \\times \\hat{j'}$$\n",
      "\n",
      "$$\\frac{d\\hat{k'}}{dt} = \\vec{\\omega} \\times \\hat{k'}$$\n",
      "\n",
      "Finalmente podemos reescribir la ecuaci\u00f3n que relaciona a S y S' como\n",
      "\n",
      "$$\\dot{\\vec{r}} = \\dot{\\vec{R}} + \\left\\{ \\dot{\\vec{r'}} \\right\\}_{SNI} + \\vec{\\omega} \\times \\vec{r'}$$"
     ]
    },
    {
     "cell_type": "markdown",
     "metadata": {},
     "source": [
      "Observamos que hay un operador que asociado a la derivada temporal en el SNI, que es\n",
      "\n",
      "$$\\frac{d}{dt} = \\left\\{\\frac{d}{dt}\\right\\}_{SNI} + \\vec{\\omega} \\times$$\n",
      "\n",
      "Aplicando dos veces este operador ahora se puede obtener la aceleraci\u00f3n\n",
      "\n",
      "$$\\frac{d}{dt} \\left( \\dot{\\vec{r}} - \\dot{\\vec{R}} \\right) = \\left[ \\left\\{\\frac{d}{dt}\\right\\}_{SNI} + \\vec{\\omega} \\times \\right] \\left[ \\left\\{\\frac{d}{dt}\\right\\}_{SNI} + \\vec{\\omega} \\times \\right] \\vec{r'}$$"
     ]
    },
    {
     "cell_type": "markdown",
     "metadata": {},
     "source": [
      "simplificando\n",
      "\n",
      "$$\\ddot{\\vec{r}} - \\ddot{\\vec{R}} = \\left\\{ \\frac{d^2 \\vec{r'}}{dt^2} \\right\\}_{SNI} + 2\\vec{\\omega} \\times \\left\\{\\frac{d\\vec{r'}}{dt}\\right\\}_{SNI} + \\left\\{ \\frac{d\\vec{\\omega}}{dt}\\right\\}_{SNI} \\times \\vec{r'} + \\vec{\\omega} \\times (\\vec{\\omega} \\times \\vec{r'})$$"
     ]
    },
    {
     "cell_type": "markdown",
     "metadata": {},
     "source": [
      "si definimos  $\\vec{A} := \\vec{\\ddot{R}}$ que es la aceleraci\u00f3n lineal del sistema S' medida desde S, entonces reescribimos\n",
      "\n",
      "$$\\ddot{\\vec{r}} = \\vec{A} + \\{ \\ddot{\\vec{r}} \\}_{SNI} + 2\\vec{\\omega} \\times \\{ \\dot{\\vec{r'}} \\}_{SNI} + \\{\\dot{\\vec{\\omega}} \\}_{SNI} \\times \\vec{r'} + \\vec{\\omega} \\times (\\vec{\\omega} \\times \\vec{r'})$$"
     ]
    },
    {
     "cell_type": "markdown",
     "metadata": {},
     "source": [
      "Ahora podemos escribir la segunda Ley de Newton para sitemas no inerciales\n",
      "\n",
      "$$\\vec{F} = m\\vec{A} + m\\{ \\ddot{\\vec{r}} \\}_{SNI} + 2m\\vec{\\omega} \\times \\{ \\dot{\\vec{r'}} \\}_{SNI} + m\\{\\dot{\\vec{\\omega}} \\}_{SNI} \\times \\vec{r'} + m\\vec{\\omega} \\times (\\vec{\\omega} \\times \\vec{r'})$$\n",
      "\n",
      "o equivalentemente \n",
      "\n",
      "$$m\\{ \\ddot{\\vec{r}} \\}_{SNI} = \\vec{F} - m\\vec{A} - 2m\\vec{\\omega} \\times \\{ \\dot{\\vec{r'}} \\}_{SNI} - m\\{\\dot{\\vec{\\omega}} \\}_{SNI} \\times \\vec{r'} - m\\vec{\\omega} \\times (\\vec{\\omega} \\times \\vec{r'})$$"
     ]
    },
    {
     "cell_type": "markdown",
     "metadata": {},
     "source": [
      "Observamos que la ecuaci\u00f3n de movimiento para el sistema no inercial se modifica; a la fuerza aplicada $\\vec{F}$ deben a\u00f1adirse terminos no inerciales:\n",
      "\n",
      "- $-m\\vec{A}$ es la fuerza inercial debida a la aceleraci\u00f3n $\\left(\\ddot{\\vec{R}}\\right)$ del sistema en movimiento.\n",
      "- $-2m\\vec{\\omega} \\times \\{ \\dot{\\vec{r'}} \\}_{SNI}$ representa a la llamda fuerza de **Coriolis**; esta es una fuerza perpendicular al eje de rotaci\u00f3n y proporcional a la velocidad de la part\u00edcula en  el sistema no inercial, tiende a desviar a la part\u00edcula de su movimiento.\n",
      "- $- m\\{\\dot{\\vec{\\omega}} \\}_{SNI} \\times \\vec{r'}$ se llama azimutal o transversal , n\u00f3tese que $\\{\\vec{\\dot{\\omega}}\\}_{SNI} = \\vec{\\dot{\\omega}}$, esta fuerza s\u00f3lo existe cuando hay aceleraci\u00f3n angular y es transversal al eje de rotaci\u00f3n.\n",
      "- $- m\\vec{\\omega} \\times (\\vec{\\omega} \\times \\vec{r'})$ es la fuerza centr\u00edfuga que apunta siempre hacia aufera del eje de rotaci\u00f3n y perpendicular a \u00e9ste."
     ]
    },
    {
     "cell_type": "heading",
     "level": 3,
     "metadata": {},
     "source": [
      "2. Efectos inerciales debidos a la rotaci\u00f3n de la Tierra "
     ]
    },
    {
     "cell_type": "markdown",
     "metadata": {},
     "source": []
    },
    {
     "cell_type": "heading",
     "level": 2,
     "metadata": {},
     "source": [
      "Lagrangiano (para dos dimensiones)"
     ]
    },
    {
     "cell_type": "code",
     "collapsed": false,
     "input": [
      "using SymPy\n",
      "using PyPlot"
     ],
     "language": "python",
     "metadata": {},
     "outputs": [
      {
       "output_type": "stream",
       "stream": "stderr",
       "text": [
        "Warning: imported binding for transpose overwritten in module __anon__\n",
        "INFO: Loading help data...\n"
       ]
      }
     ],
     "prompt_number": 1
    },
    {
     "cell_type": "markdown",
     "metadata": {},
     "source": [
      "$$L= \\frac{1}{2} m (\\dot{x}^2 + \\dot{y}^2) + m \\beta (\\dot{y}x -\\dot{x}y ) - \\frac{1}{2}m \\omega _0 ^2 (x^2 + y^2)$$\n",
      "\n",
      "$$\\beta = \\Omega cos \\alpha$$\n",
      "$$ \\omega _0 = \\sqrt{\\frac{g}{\\ell}}$$\n",
      "\n",
      "$\\Omega$ Es la velocidad angular de la Tierra y $\\alpha$ es el \u00e1ngulo entre el eje $z$ del p\u00e9ndulo y el eje de rotaci\u00f3n de la Tierra."
     ]
    },
    {
     "cell_type": "code",
     "collapsed": false,
     "input": [
      "m, \u03a9, g, \u2113,\u03b1,t = sym\"m,\\Omega,g,\\ell,\\alpha,t\"\n",
      "\u03c90=sqrt(g/\u2113)\n",
      "\u03b2=\u03a9*cos(\u03b1)\n",
      "x = SymFunction(\"x\")\n",
      "y = SymFunction(\"y\")"
     ],
     "language": "python",
     "metadata": {},
     "outputs": [
      {
       "metadata": {},
       "output_type": "pyout",
       "prompt_number": 34,
       "text": [
        "(anonymous function)"
       ]
      }
     ],
     "prompt_number": 34
    },
    {
     "cell_type": "code",
     "collapsed": false,
     "input": [
      "\u03c90"
     ],
     "language": "python",
     "metadata": {},
     "outputs": [
      {
       "latex": [
        "$$\\sqrt{\\frac{g}{\\ell}}$$"
       ],
       "metadata": {},
       "output_type": "pyout",
       "prompt_number": 3,
       "text": [
        "    ______\n",
        "   /  g   \n",
        "  /  ---- \n",
        "\\/   \\ell "
       ]
      }
     ],
     "prompt_number": 3
    },
    {
     "cell_type": "code",
     "collapsed": false,
     "input": [
      "T= 1/2 *m*(diff(x(t),t)^2 + diff(y(t),t)^2) + m*\u03b2*(diff(y(t),t)*x(t) - diff(x(t),t)*y(t))"
     ],
     "language": "python",
     "metadata": {},
     "outputs": [
      {
       "latex": [
        "$$\\Omega m \\left(x{\\left (t \\right )} \\frac{d}{d t} y{\\left (t \\right )} - y{\\left (t \\right )} \\frac{d}{d t} x{\\left (t \\right )}\\right) \\cos{\\left (\\alpha \\right )} + 0.5 m \\left(\\left(\\frac{d}{d t} x{\\left (t \\right )}\\right)^{2} + \\left(\\frac{d}{d t} y{\\left (t \\right )}\\right)^{2}\\right)$$"
       ],
       "metadata": {},
       "output_type": "pyout",
       "prompt_number": 4,
       "text": [
        "                                                             /          2     \n",
        "         /     d               d       \\                     |/d       \\    /d\n",
        "\\Omega*m*|x(t)*--(y(t)) - y(t)*--(x(t))|*cos(\\alpha) + 0.5*m*||--(x(t))|  + |-\n",
        "         \\     dt              dt      /                     \\\\dt      /    \\d\n",
        "\n",
        "        2\\\n",
        "       \\ |\n",
        "-(y(t))| |\n",
        "t      / /"
       ]
      }
     ],
     "prompt_number": 4
    },
    {
     "cell_type": "code",
     "collapsed": false,
     "input": [
      "V=1/2*m*\u03c90^2 * (x(t)^2 + y(t)^2)"
     ],
     "language": "python",
     "metadata": {},
     "outputs": [
      {
       "latex": [
        "$$\\frac{0.5 g}{\\ell} m \\left(x^{2}{\\left (t \\right )} + y^{2}{\\left (t \\right )}\\right)$$"
       ],
       "metadata": {},
       "output_type": "pyout",
       "prompt_number": 5,
       "text": [
        "        / 2       2   \\\n",
        "0.5*g*m*\\x (t) + y (t)/\n",
        "-----------------------\n",
        "          \\ell         "
       ]
      }
     ],
     "prompt_number": 5
    },
    {
     "cell_type": "code",
     "collapsed": false,
     "input": [
      "L=T-V"
     ],
     "language": "python",
     "metadata": {},
     "outputs": [
      {
       "latex": [
        "$$\\Omega m \\left(x{\\left (t \\right )} \\frac{d}{d t} y{\\left (t \\right )} - y{\\left (t \\right )} \\frac{d}{d t} x{\\left (t \\right )}\\right) \\cos{\\left (\\alpha \\right )} + 0.5 m \\left(\\left(\\frac{d}{d t} x{\\left (t \\right )}\\right)^{2} + \\left(\\frac{d}{d t} y{\\left (t \\right )}\\right)^{2}\\right) - \\frac{0.5 g}{\\ell} m \\left(x^{2}{\\left (t \\right )} + y^{2}{\\left (t \\right )}\\right)$$"
       ],
       "metadata": {},
       "output_type": "pyout",
       "prompt_number": 6,
       "text": [
        "                                                             /          2     \n",
        "         /     d               d       \\                     |/d       \\    /d\n",
        "\\Omega*m*|x(t)*--(y(t)) - y(t)*--(x(t))|*cos(\\alpha) + 0.5*m*||--(x(t))|  + |-\n",
        "         \\     dt              dt      /                     \\\\dt      /    \\d\n",
        "\n",
        "        2\\           / 2       2   \\\n",
        "       \\ |   0.5*g*m*\\x (t) + y (t)/\n",
        "-(y(t))| | - -----------------------\n",
        "t      / /             \\ell         "
       ]
      }
     ],
     "prompt_number": 6
    },
    {
     "cell_type": "markdown",
     "metadata": {},
     "source": [
      "Recordando las ecuaciones de Euler-Lagrange.\n",
      "\n",
      "$$\\frac{d}{dt} \\frac{\\partial L}{\\partial \\dot{q}} - \\frac{\\partial L}{\\partial q} = 0$$"
     ]
    },
    {
     "cell_type": "code",
     "collapsed": false,
     "input": [
      "Fx=diff(L,x(t));"
     ],
     "language": "python",
     "metadata": {},
     "outputs": [],
     "prompt_number": 7
    },
    {
     "cell_type": "code",
     "collapsed": false,
     "input": [
      "Fy=diff(L,y(t));"
     ],
     "language": "python",
     "metadata": {},
     "outputs": [],
     "prompt_number": 8
    },
    {
     "cell_type": "code",
     "collapsed": false,
     "input": [
      "Px=diff(L,diff(x(t),t));"
     ],
     "language": "python",
     "metadata": {},
     "outputs": [],
     "prompt_number": 9
    },
    {
     "cell_type": "code",
     "collapsed": false,
     "input": [
      "Py=diff(L,diff(y(t),t));"
     ],
     "language": "python",
     "metadata": {},
     "outputs": [],
     "prompt_number": 10
    },
    {
     "cell_type": "code",
     "collapsed": false,
     "input": [
      "Eq1=diff(Px,t) - Fx"
     ],
     "language": "python",
     "metadata": {},
     "outputs": [
      {
       "latex": [
        "$$- 2 \\Omega m \\cos{\\left (\\alpha \\right )} \\frac{d}{d t} y{\\left (t \\right )} + 1.0 m \\frac{d^{2}}{d t^{2}}  x{\\left (t \\right )} + \\frac{1.0 g}{\\ell} m x{\\left (t \\right )}$$"
       ],
       "metadata": {},
       "output_type": "pyout",
       "prompt_number": 11,
       "text": [
        "                                            2                     \n",
        "                         d                 d          1.0*g*m*x(t)\n",
        "- 2*\\Omega*m*cos(\\alpha)*--(y(t)) + 1.0*m*---(x(t)) + ------------\n",
        "                         dt                 2             \\ell    \n",
        "                                          dt                      "
       ]
      }
     ],
     "prompt_number": 11
    },
    {
     "cell_type": "code",
     "collapsed": false,
     "input": [
      "Eq2=diff(Py,t) - Fy"
     ],
     "language": "python",
     "metadata": {},
     "outputs": [
      {
       "latex": [
        "$$2 \\Omega m \\cos{\\left (\\alpha \\right )} \\frac{d}{d t} x{\\left (t \\right )} + 1.0 m \\frac{d^{2}}{d t^{2}}  y{\\left (t \\right )} + \\frac{1.0 g}{\\ell} m y{\\left (t \\right )}$$"
       ],
       "metadata": {},
       "output_type": "pyout",
       "prompt_number": 12,
       "text": [
        "                                          2                     \n",
        "                       d                 d          1.0*g*m*y(t)\n",
        "2*\\Omega*m*cos(\\alpha)*--(x(t)) + 1.0*m*---(y(t)) + ------------\n",
        "                       dt                 2             \\ell    \n",
        "                                        dt                      "
       ]
      }
     ],
     "prompt_number": 12
    },
    {
     "cell_type": "code",
     "collapsed": false,
     "input": [
      "xpp, ypp = Sym(\"\\\\ddot{x}, \\\\ddot{y}\")\n",
      "xp, yp = Sym(\"\\\\dot{x}, \\\\dot{y}\")"
     ],
     "language": "python",
     "metadata": {},
     "outputs": [
      {
       "metadata": {},
       "output_type": "pyout",
       "prompt_number": 13,
       "text": [
        "(\\dot{x},\\dot{y})"
       ]
      }
     ],
     "prompt_number": 13
    },
    {
     "cell_type": "code",
     "collapsed": false,
     "input": [
      "Eq1 = subs(Eq1, diff(x(t),t,2), xpp)\n",
      "Eq1 = subs(Eq1, diff(x(t),t,1), xp)\n",
      "Eq1 = subs(Eq1, diff(y(t),t,1), yp)\n",
      "\n",
      "Eq2= subs(Eq2, diff(y(t),t,2), ypp)\n",
      "Eq2= subs(Eq2, diff(x(t),t,1), xp)"
     ],
     "language": "python",
     "metadata": {},
     "outputs": [
      {
       "latex": [
        "$$2 \\Omega \\dot{x} m \\cos{\\left (\\alpha \\right )} + 1.0 \\ddot{y} m + \\frac{1.0 g}{\\ell} m y{\\left (t \\right )}$$"
       ],
       "metadata": {},
       "output_type": "pyout",
       "prompt_number": 14,
       "text": [
        "                                                  1.0*g*m*y(t)\n",
        "2*\\Omega*\\dot{x}*m*cos(\\alpha) + 1.0*\\ddot{y}*m + ------------\n",
        "                                                      \\ell    "
       ]
      }
     ],
     "prompt_number": 14
    },
    {
     "cell_type": "code",
     "collapsed": false,
     "input": [
      "(soly, solx) = solve([Eq1, Eq2],[xpp, ypp])"
     ],
     "language": "python",
     "metadata": {},
     "outputs": [
      {
       "latex": [
        "\\begin{equation*}\\begin{cases}\\ddot{y} & \\text{=>} &- 2.0 \\Omega \\dot{x} \\cos{\\left (\\alpha \\right )} - \\frac{g}{\\ell} y{\\left (t \\right )}\\\\\\ddot{x} & \\text{=>} &2.0 \\Omega \\dot{y} \\cos{\\left (\\alpha \\right )} - \\frac{g}{\\ell} x{\\left (t \\right )}\\\\\\end{cases}\\end{equation*}"
       ],
       "metadata": {},
       "output_type": "pyout",
       "prompt_number": 15,
       "text": [
        "Dict{Any,Any} with 2 entries:\n",
        "  \"\\\\ddot{y}\" =>                                   g*y(t)\u2026\n",
        "  \"\\\\ddot{x}\" =>                                  g*x(t)\u2026"
       ]
      }
     ],
     "prompt_number": 15
    },
    {
     "cell_type": "code",
     "collapsed": false,
     "input": [
      "soly = soly[2];\n",
      "solx = solx[2]"
     ],
     "language": "python",
     "metadata": {},
     "outputs": [
      {
       "latex": [
        "$$2.0 \\Omega \\dot{y} \\cos{\\left (\\alpha \\right )} - \\frac{g}{\\ell} x{\\left (t \\right )}$$"
       ],
       "metadata": {},
       "output_type": "pyout",
       "prompt_number": 16,
       "text": [
        "                                 g*x(t)\n",
        "2.0*\\Omega*\\dot{y}*cos(\\alpha) - ------\n",
        "                                  \\ell "
       ]
      }
     ],
     "prompt_number": 16
    },
    {
     "cell_type": "code",
     "collapsed": false,
     "input": [
      "Eq(xpp, solx)"
     ],
     "language": "python",
     "metadata": {},
     "outputs": [
      {
       "latex": [
        "$$\\ddot{x} = 2.0 \\Omega \\dot{y} \\cos{\\left (\\alpha \\right )} - \\frac{g}{\\ell} x{\\left (t \\right )}$$"
       ],
       "metadata": {},
       "output_type": "pyout",
       "prompt_number": 17,
       "text": [
        "                                            g*x(t)\n",
        "\\ddot{x} = 2.0*\\Omega*\\dot{y}*cos(\\alpha) - ------\n",
        "                                             \\ell "
       ]
      }
     ],
     "prompt_number": 17
    },
    {
     "cell_type": "code",
     "collapsed": false,
     "input": [
      "Eq(ypp, soly)"
     ],
     "language": "python",
     "metadata": {},
     "outputs": [
      {
       "latex": [
        "$$\\ddot{y} = - 2.0 \\Omega \\dot{x} \\cos{\\left (\\alpha \\right )} - \\frac{g}{\\ell} y{\\left (t \\right )}$$"
       ],
       "metadata": {},
       "output_type": "pyout",
       "prompt_number": 18,
       "text": [
        "                                             g*y(t)\n",
        "\\ddot{y} = -2.0*\\Omega*\\dot{x}*cos(\\alpha) - ------\n",
        "                                              \\ell "
       ]
      }
     ],
     "prompt_number": 18
    },
    {
     "cell_type": "code",
     "collapsed": false,
     "input": [
      "function euler_cromer(q0,v0,t0,tf,h,f_q,f_v)\n",
      "    tf=tf\n",
      "    q = Vector{Float32}[]\n",
      "    v = Vector{Float32}[]\n",
      "    t = Float32[]\n",
      "    for ti in t0:h:tf\n",
      "        v_nueva = v0 + h*f_v(q0,v0,ti)\n",
      "        q_nueva = q0 + h*f_q(q0,v_nueva,ti)\n",
      "        q0 = q_nueva\n",
      "        v0 = v_nueva\n",
      "        push!(t,ti)\n",
      "        push!(q,q0)\n",
      "        push!(v,v0)\n",
      "        \n",
      "        #if paro(ti,q0,v0) == true\n",
      "            #break\n",
      "        #end\n",
      "    end\n",
      "    t,hcat(q...)',hcat(v...)'\n",
      "end"
     ],
     "language": "python",
     "metadata": {},
     "outputs": [
      {
       "metadata": {},
       "output_type": "pyout",
       "prompt_number": 19,
       "text": [
        "euler_cromer (generic function with 1 method)"
       ]
      }
     ],
     "prompt_number": 19
    },
    {
     "cell_type": "code",
     "collapsed": false,
     "input": [
      "function asignar_valores_solucion1(omega,acel_g,longitud,angulo)\n",
      "    solx_sust= subs(solx,\u03a9,omega)\n",
      "    solx_sust= subs(solx_sust,\u03b1,angulo)\n",
      "    solx_sust= subs(solx_sust,g,acel_g)\n",
      "    solx_sust= subs(solx_sust,\u2113,longitud)    \n",
      "    return solx_sust\n",
      "end"
     ],
     "language": "python",
     "metadata": {},
     "outputs": [
      {
       "metadata": {},
       "output_type": "pyout",
       "prompt_number": 20,
       "text": [
        "asignar_valores_solucion1 (generic function with 1 method)"
       ]
      }
     ],
     "prompt_number": 20
    },
    {
     "cell_type": "code",
     "collapsed": false,
     "input": [
      "function asignar_valores_solucion2(omega,acel_g,longitud,angulo)\n",
      "    soly_sust= subs(soly,\u03a9,omega)\n",
      "    soly_sust= subs(soly_sust,\u03b1,angulo)\n",
      "    soly_sust= subs(soly_sust,g,acel_g)\n",
      "    soly_sust= subs(soly_sust,\u2113,longitud)\n",
      "    \n",
      "    return soly_sust\n",
      "end"
     ],
     "language": "python",
     "metadata": {},
     "outputs": [
      {
       "metadata": {},
       "output_type": "pyout",
       "prompt_number": 21,
       "text": [
        "asignar_valores_solucion2 (generic function with 1 method)"
       ]
      }
     ],
     "prompt_number": 21
    },
    {
     "cell_type": "code",
     "collapsed": false,
     "input": [
      "function sympy_to_julia(x::Sym)\n",
      "    expr = PyCall.pyeval(\"str(x)\", x=x.x)\n",
      "    expr = replace(expr, \"**\", \"^\")\n",
      "    expr = replace(expr, \"\\\\dot{y}\", \"yp\");\n",
      "    expr = replace(expr, \"\\\\dot{x}\", \"xp\");\n",
      "    expr = replace(expr, \"\\\\dot{z}\", \"zp\");\n",
      "    \n",
      "    expr = replace(expr, \"\\\\ddot{y}\", \"ypp\");\n",
      "    expr = replace(expr, \"\\\\ddot{x}\", \"xpp\");\n",
      "    expr = replace(expr, \"\\\\ddot{z}\", \"zpp\");\n",
      "    #expr = replace(expr, \"\\\\theta\", \"\u03b8\")\n",
      "    expr = replace(expr, \"(t)\",\"\");\n",
      "end"
     ],
     "language": "python",
     "metadata": {},
     "outputs": [
      {
       "metadata": {},
       "output_type": "pyout",
       "prompt_number": 22,
       "text": [
        "sympy_to_julia (generic function with 1 method)"
       ]
      }
     ],
     "prompt_number": 22
    },
    {
     "cell_type": "code",
     "collapsed": false,
     "input": [
      "df"
     ],
     "language": "python",
     "metadata": {},
     "outputs": [
      {
       "latex": [
        "$$0.00398371685740842 \\dot{y} - \\frac{1}{20} x{\\left (t \\right )}$$"
       ],
       "metadata": {},
       "output_type": "pyout",
       "prompt_number": 61,
       "text": [
        "                              x(t)\n",
        "0.00398371685740842*\\dot{y} - ----\n",
        "                               20 "
       ]
      }
     ],
     "prompt_number": 61
    },
    {
     "cell_type": "code",
     "collapsed": false,
     "input": [
      "sympy_to_julia(df)"
     ],
     "language": "python",
     "metadata": {},
     "outputs": [
      {
       "metadata": {},
       "output_type": "pyout",
       "prompt_number": 63,
       "text": [
        "\"0.00398371685740842*yp - x/20\""
       ]
      }
     ],
     "prompt_number": 63
    },
    {
     "cell_type": "code",
     "collapsed": false,
     "input": [
      "df=asignar_valores_solucion1(0.23,10,20,pi/120)\n",
      "df2=asignar_valores_solucion2(0.23,10,20,pi/120)"
     ],
     "language": "python",
     "metadata": {},
     "outputs": [
      {
       "latex": [
        "$$- 0.459842369488756 \\dot{x} - \\frac{1}{2} y{\\left (t \\right )}$$"
       ],
       "metadata": {},
       "output_type": "pyout",
       "prompt_number": 23,
       "text": [
        "                             y(t)\n",
        "-0.459842369488756*\\dot{x} - ----\n",
        "                              2  "
       ]
      }
     ],
     "prompt_number": 23
    },
    {
     "cell_type": "code",
     "collapsed": false,
     "input": [
      "sympy_to_julia(df)"
     ],
     "language": "python",
     "metadata": {},
     "outputs": [
      {
       "metadata": {},
       "output_type": "pyout",
       "prompt_number": 24,
       "text": [
        "\"0.459842369488756*yp - x/2\""
       ]
      }
     ],
     "prompt_number": 24
    },
    {
     "cell_type": "code",
     "collapsed": false,
     "input": [
      "sympy_to_julia(df2)"
     ],
     "language": "python",
     "metadata": {},
     "outputs": [
      {
       "metadata": {},
       "output_type": "pyout",
       "prompt_number": 25,
       "text": [
        "\"-0.459842369488756*xp - y/2\""
       ]
      }
     ],
     "prompt_number": 25
    },
    {
     "cell_type": "code",
     "collapsed": false,
     "input": [
      "fx(xp,yp,x,y)=0.459842369488756*yp - 1/2 * x\n",
      "fy(xp,yp,x,y)=-0.459842369488756*xp - 1/2 * y\n",
      "fv(r0,v,t)=[fx(v[1],v[2],r0[1],r0[2]),fy(v[1],v[2],r0[1],r0[2])]\n",
      "fr(r0,v,t)=v"
     ],
     "language": "python",
     "metadata": {},
     "outputs": [
      {
       "metadata": {},
       "output_type": "pyout",
       "prompt_number": 26,
       "text": [
        "fr (generic function with 1 method)"
       ]
      }
     ],
     "prompt_number": 26
    },
    {
     "cell_type": "code",
     "collapsed": false,
     "input": [
      "t,q,v=euler_cromer([5.0,2.0],[3.0,9.0],0.0,100.0,1e-4,fr,fv);"
     ],
     "language": "python",
     "metadata": {},
     "outputs": [],
     "prompt_number": 27
    },
    {
     "cell_type": "code",
     "collapsed": false,
     "input": [
      "plot3D(q[:,1],q[:,2])"
     ],
     "language": "python",
     "metadata": {},
     "outputs": [
      {
       "metadata": {},
       "output_type": "display_data",
       "png": "[encoded data removed]",
       "text": [
        "Figure(PyObject <matplotlib.figure.Figure object at 0x7ff6f540d350>)"
       ]
      },
      {
       "metadata": {},
       "output_type": "pyout",
       "prompt_number": 29,
       "text": [
        "1-element Array{Any,1}:\n",
        " PyObject <mpl_toolkits.mplot3d.art3d.Line3D object at 0x7ff6ef14c890>"
       ]
      }
     ],
     "prompt_number": 29
    },
    {
     "cell_type": "markdown",
     "metadata": {},
     "source": [
      "Lagrangiano alternativo\n",
      "\n",
      "$$L= \\frac{1}{2}m(\\dot{x}^2+\\dot{y}^2+\\dot{z}^2) +m \\Omega[(\\dot{y}x - \\dot{x}y)cos\\alpha + (\\dot{y}z - \\dot{z}y)sen\\alpha] + \\frac{1}{2}m \\Omega^2[y^2 + (x cos \\alpha + z sen\\alpha)^2] - mgz$$"
     ]
    },
    {
     "cell_type": "code",
     "collapsed": false,
     "input": [
      "z = SymFunction(\"z\")"
     ],
     "language": "python",
     "metadata": {},
     "outputs": [
      {
       "metadata": {},
       "output_type": "pyout",
       "prompt_number": 30,
       "text": [
        "(anonymous function)"
       ]
      }
     ],
     "prompt_number": 30
    },
    {
     "cell_type": "code",
     "collapsed": false,
     "input": [
      "z_prima=(x(t)^2+y(t)^2+z(t)^2)/(2\u2113)"
     ],
     "language": "python",
     "metadata": {},
     "outputs": [
      {
       "latex": [
        "$$\\frac{1}{2 \\ell} \\left(x^{2}{\\left (t \\right )} + y^{2}{\\left (t \\right )} + z^{2}{\\left (t \\right )}\\right)$$"
       ],
       "metadata": {},
       "output_type": "pyout",
       "prompt_number": 66,
       "text": [
        " 2       2       2   \n",
        "x (t) + y (t) + z (t)\n",
        "---------------------\n",
        "        2*\\ell       "
       ]
      }
     ],
     "prompt_number": 66
    },
    {
     "cell_type": "code",
     "collapsed": false,
     "input": [
      "diff(z_prima,t)"
     ],
     "language": "python",
     "metadata": {},
     "outputs": [
      {
       "latex": [
        "$$\\frac{1}{2 \\ell} \\left(2 x{\\left (t \\right )} \\frac{d}{d t} x{\\left (t \\right )} + 2 y{\\left (t \\right )} \\frac{d}{d t} y{\\left (t \\right )} + 2 z{\\left (t \\right )} \\frac{d}{d t} z{\\left (t \\right )}\\right)$$"
       ],
       "metadata": {},
       "output_type": "pyout",
       "prompt_number": 67,
       "text": [
        "       d                 d                 d       \n",
        "2*x(t)*--(x(t)) + 2*y(t)*--(y(t)) + 2*z(t)*--(z(t))\n",
        "       dt                dt                dt      \n",
        "---------------------------------------------------\n",
        "                       2*\\ell                      "
       ]
      }
     ],
     "prompt_number": 67
    },
    {
     "cell_type": "code",
     "collapsed": false,
     "input": [
      "parentesis_1=(diff(y(t),t)*x(t) - diff(x(t),t)*y(t))*cos(\u03b1) + (diff(y(t),t)*z_prima - diff(z_prima,t)*y(t))*sin(\u03b1)"
     ],
     "language": "python",
     "metadata": {},
     "outputs": [
      {
       "latex": [
        "$$\\left(x{\\left (t \\right )} \\frac{d}{d t} y{\\left (t \\right )} - y{\\left (t \\right )} \\frac{d}{d t} x{\\left (t \\right )}\\right) \\cos{\\left (\\alpha \\right )} + \\left(- \\frac{y{\\left (t \\right )}}{2 \\ell} \\left(2 x{\\left (t \\right )} \\frac{d}{d t} x{\\left (t \\right )} + 2 y{\\left (t \\right )} \\frac{d}{d t} y{\\left (t \\right )} + 2 z{\\left (t \\right )} \\frac{d}{d t} z{\\left (t \\right )}\\right) + \\frac{1}{2 \\ell} \\left(x^{2}{\\left (t \\right )} + y^{2}{\\left (t \\right )} + z^{2}{\\left (t \\right )}\\right) \\frac{d}{d t} y{\\left (t \\right )}\\right) \\sin{\\left (\\alpha \\right )}$$"
       ],
       "metadata": {},
       "output_type": "pyout",
       "prompt_number": 68,
       "text": [
        "                                              /  /       d                 d  \n",
        "                                              |  |2*x(t)*--(x(t)) + 2*y(t)*--(\n",
        "/     d               d       \\               |  \\       dt                dt \n",
        "|x(t)*--(y(t)) - y(t)*--(x(t))|*cos(\\alpha) + |- -----------------------------\n",
        "\\     dt              dt      /               \\                            2*\\\n",
        "\n",
        "               d       \\        / 2       2       2   \\ d       \\            \n",
        "y(t)) + 2*z(t)*--(z(t))|*y(t)   \\x (t) + y (t) + z (t)/*--(y(t))|            \n",
        "               dt      /                                dt      |            \n",
        "----------------------------- + --------------------------------|*sin(\\alpha)\n",
        "ell                                          2*\\ell             /            "
       ]
      }
     ],
     "prompt_number": 68
    },
    {
     "cell_type": "code",
     "collapsed": false,
     "input": [
      "parentesis_2=y(t)^2 + (x(t)*cos(\u03b1) +z_prima*sin(\u03b1))^2"
     ],
     "language": "python",
     "metadata": {},
     "outputs": [
      {
       "latex": [
        "$$\\left(x{\\left (t \\right )} \\cos{\\left (\\alpha \\right )} + \\frac{\\sin{\\left (\\alpha \\right )}}{2 \\ell} \\left(x^{2}{\\left (t \\right )} + y^{2}{\\left (t \\right )} + z^{2}{\\left (t \\right )}\\right)\\right)^{2} + y^{2}{\\left (t \\right )}$$"
       ],
       "metadata": {},
       "output_type": "pyout",
       "prompt_number": 69,
       "text": [
        "                                                        2        \n",
        "/                   / 2       2       2   \\            \\         \n",
        "|                   \\x (t) + y (t) + z (t)/*sin(\\alpha)|     2   \n",
        "|x(t)*cos(\\alpha) + -----------------------------------|  + y (t)\n",
        "\\                                  2*\\ell              /         "
       ]
      }
     ],
     "prompt_number": 69
    },
    {
     "cell_type": "code",
     "collapsed": false,
     "input": [
      "L_2=1/2*m*(diff(x(t),t)^2+diff(y(t),t)^2+diff(z_prima,t)^2) + m*\u03a9*parentesis_1 + 1/2*m*\u03a9^2 *parentesis_2 -m*g*z_prima"
     ],
     "language": "python",
     "metadata": {},
     "outputs": [
      {
       "latex": [
        "$$0.5 \\Omega^{2} m \\left(\\left(x{\\left (t \\right )} \\cos{\\left (\\alpha \\right )} + \\frac{\\sin{\\left (\\alpha \\right )}}{2 \\ell} \\left(x^{2}{\\left (t \\right )} + y^{2}{\\left (t \\right )} + z^{2}{\\left (t \\right )}\\right)\\right)^{2} + y^{2}{\\left (t \\right )}\\right) + \\Omega m \\left(\\left(x{\\left (t \\right )} \\frac{d}{d t} y{\\left (t \\right )} - y{\\left (t \\right )} \\frac{d}{d t} x{\\left (t \\right )}\\right) \\cos{\\left (\\alpha \\right )} + \\left(- \\frac{y{\\left (t \\right )}}{2 \\ell} \\left(2 x{\\left (t \\right )} \\frac{d}{d t} x{\\left (t \\right )} + 2 y{\\left (t \\right )} \\frac{d}{d t} y{\\left (t \\right )} + 2 z{\\left (t \\right )} \\frac{d}{d t} z{\\left (t \\right )}\\right) + \\frac{1}{2 \\ell} \\left(x^{2}{\\left (t \\right )} + y^{2}{\\left (t \\right )} + z^{2}{\\left (t \\right )}\\right) \\frac{d}{d t} y{\\left (t \\right )}\\right) \\sin{\\left (\\alpha \\right )}\\right) + 0.5 m \\left(\\left(\\frac{d}{d t} x{\\left (t \\right )}\\right)^{2} + \\left(\\frac{d}{d t} y{\\left (t \\right )}\\right)^{2} + \\frac{1}{4 \\ell^{2}} \\left(2 x{\\left (t \\right )} \\frac{d}{d t} x{\\left (t \\right )} + 2 y{\\left (t \\right )} \\frac{d}{d t} y{\\left (t \\right )} + 2 z{\\left (t \\right )} \\frac{d}{d t} z{\\left (t \\right )}\\right)^{2}\\right) - \\frac{g m}{2 \\ell} \\left(x^{2}{\\left (t \\right )} + y^{2}{\\left (t \\right )} + z^{2}{\\left (t \\right )}\\right)$$"
       ],
       "metadata": {},
       "output_type": "pyout",
       "prompt_number": 70,
       "text": [
        "                                                                              \n",
        "              /                                                        2      \n",
        "              |/                   / 2       2       2   \\            \\       \n",
        "          2   ||                   \\x (t) + y (t) + z (t)/*sin(\\alpha)|     2 \n",
        "0.5*\\Omega *m*||x(t)*cos(\\alpha) + -----------------------------------|  + y (\n",
        "              \\\\                                  2*\\ell              /       \n",
        "                                                                              \n",
        "\n",
        "                                                                              \n",
        "  \\            /                                              /  /       d    \n",
        "  |            |                                              |  |2*x(t)*--(x(\n",
        "  |            |/     d               d       \\               |  \\       dt   \n",
        "t)| + \\Omega*m*||x(t)*--(y(t)) - y(t)*--(x(t))|*cos(\\alpha) + |- -------------\n",
        "  /            \\\\     dt              dt      /               \\               \n",
        "                                                                              \n",
        "\n",
        "                                                                              \n",
        "             d                 d       \\        / 2       2       2   \\ d     \n",
        "t)) + 2*y(t)*--(y(t)) + 2*z(t)*--(z(t))|*y(t)   \\x (t) + y (t) + z (t)/*--(y(t\n",
        "             dt                dt      /                                dt    \n",
        "--------------------------------------------- + ------------------------------\n",
        "             2*\\ell                                          2*\\ell           \n",
        "                                                                              \n",
        "\n",
        "                         /                                                    \n",
        "  \\            \\         |                            /       d               \n",
        "))|            |         |          2             2   |2*x(t)*--(x(t)) + 2*y(t\n",
        "  |            |         |/d       \\    /d       \\    \\       dt              \n",
        "--|*sin(\\alpha)| + 0.5*m*||--(x(t))|  + |--(y(t))|  + ------------------------\n",
        "  /            /         |\\dt      /    \\dt      /                            \n",
        "                         \\                                                   4\n",
        "\n",
        "                             2\\                              \n",
        "  d                 d       \\ |                              \n",
        ")*--(y(t)) + 2*z(t)*--(z(t))| |       / 2       2       2   \\\n",
        "  dt                dt      / |   g*m*\\x (t) + y (t) + z (t)/\n",
        "------------------------------| - ---------------------------\n",
        "     2                        |              2*\\ell          \n",
        "*\\ell                         /                              "
       ]
      }
     ],
     "prompt_number": 70
    },
    {
     "cell_type": "code",
     "collapsed": false,
     "input": [
      "xpp, ypp, zpp = Sym(\"\\\\ddot{x}, \\\\ddot{y}, \\\\ddot{z}\")\n",
      "xp, yp, zp = Sym(\"\\\\dot{x}, \\\\dot{y}, \\\\dot{z}\")"
     ],
     "language": "python",
     "metadata": {},
     "outputs": [
      {
       "metadata": {},
       "output_type": "pyout",
       "prompt_number": 71,
       "text": [
        "(\\dot{x},\\dot{y},\\dot{z})"
       ]
      }
     ],
     "prompt_number": 71
    },
    {
     "cell_type": "code",
     "collapsed": false,
     "input": [
      "Fx2=diff(L_2,x(t));"
     ],
     "language": "python",
     "metadata": {},
     "outputs": [],
     "prompt_number": 72
    },
    {
     "cell_type": "code",
     "collapsed": false,
     "input": [
      "Fy2=diff(L_2,y(t));"
     ],
     "language": "python",
     "metadata": {},
     "outputs": [],
     "prompt_number": 73
    },
    {
     "cell_type": "code",
     "collapsed": false,
     "input": [
      "Fz2=diff(L_2,z(t));"
     ],
     "language": "python",
     "metadata": {},
     "outputs": [
      {
       "latex": [
        "$$\\frac{1.0 m}{\\ell} \\Omega^{2} \\left(x{\\left (t \\right )} \\cos{\\left (\\alpha \\right )} + \\frac{\\sin{\\left (\\alpha \\right )}}{2 \\ell} \\left(x^{2}{\\left (t \\right )} + y^{2}{\\left (t \\right )} + z^{2}{\\left (t \\right )}\\right)\\right) z{\\left (t \\right )} \\sin{\\left (\\alpha \\right )} + \\Omega m \\left(- \\frac{1}{\\ell} y{\\left (t \\right )} \\frac{d}{d t} z{\\left (t \\right )} + \\frac{1}{\\ell} z{\\left (t \\right )} \\frac{d}{d t} y{\\left (t \\right )}\\right) \\sin{\\left (\\alpha \\right )} - \\frac{g m}{\\ell} z{\\left (t \\right )} + \\frac{0.5 m}{\\ell^{2}} \\left(2 x{\\left (t \\right )} \\frac{d}{d t} x{\\left (t \\right )} + 2 y{\\left (t \\right )} \\frac{d}{d t} y{\\left (t \\right )} + 2 z{\\left (t \\right )} \\frac{d}{d t} z{\\left (t \\right )}\\right) \\frac{d}{d t} z{\\left (t \\right )}$$"
       ],
       "metadata": {},
       "output_type": "pyout",
       "prompt_number": 74,
       "text": [
        "              /                   / 2       2       2   \\            \\        \n",
        "          2   |                   \\x (t) + y (t) + z (t)/*sin(\\alpha)|        \n",
        "1.0*\\Omega *m*|x(t)*cos(\\alpha) + -----------------------------------|*z(t)*si\n",
        "              \\                                  2*\\ell              /        \n",
        "------------------------------------------------------------------------------\n",
        "                                          \\ell                                \n",
        "                                                                              \n",
        "\n",
        "                                                                              \n",
        "                     /       d               d       \\                        \n",
        "n(\\alpha)            |  y(t)*--(z(t))   z(t)*--(y(t))|                        \n",
        "                     |       dt              dt      |               g*m*z(t) \n",
        "--------- + \\Omega*m*|- ------------- + -------------|*sin(\\alpha) - -------- \n",
        "                     \\       \\ell            \\ell    /                 \\ell   \n",
        "                                                                              \n",
        "\n",
        "                                                                      \n",
        "        /       d                 d                 d       \\ d       \n",
        "  0.5*m*|2*x(t)*--(x(t)) + 2*y(t)*--(y(t)) + 2*z(t)*--(z(t))|*--(z(t))\n",
        "        \\       dt                dt                dt      / dt      \n",
        "+ --------------------------------------------------------------------\n",
        "                                     2                                \n",
        "                                 \\ell                                 "
       ]
      }
     ],
     "prompt_number": 74
    },
    {
     "cell_type": "code",
     "collapsed": false,
     "input": [
      "Px2=diff(L_2,diff(x(t),t));"
     ],
     "language": "python",
     "metadata": {},
     "outputs": [],
     "prompt_number": 75
    },
    {
     "cell_type": "code",
     "collapsed": false,
     "input": [
      "Py2=diff(L_2,diff(y(t),t));"
     ],
     "language": "python",
     "metadata": {},
     "outputs": [],
     "prompt_number": 76
    },
    {
     "cell_type": "code",
     "collapsed": false,
     "input": [
      "Pz2=diff(L_2,diff(z(t),t));"
     ],
     "language": "python",
     "metadata": {},
     "outputs": [],
     "prompt_number": 77
    },
    {
     "cell_type": "code",
     "collapsed": false,
     "input": [
      "ExL_2=diff(Px2,t)-Fx2;"
     ],
     "language": "python",
     "metadata": {},
     "outputs": [],
     "prompt_number": 78
    },
    {
     "cell_type": "code",
     "collapsed": false,
     "input": [
      "EyL_2=diff(Py2,t)-Fy2;"
     ],
     "language": "python",
     "metadata": {},
     "outputs": [],
     "prompt_number": 79
    },
    {
     "cell_type": "code",
     "collapsed": false,
     "input": [
      "EzL_2=diff(Pz2,t)-Fz2;"
     ],
     "language": "python",
     "metadata": {},
     "outputs": [],
     "prompt_number": 80
    },
    {
     "cell_type": "code",
     "collapsed": false,
     "input": [
      "ExL_2 = subs(ExL_2, diff(x(t),t,2), xpp)\n",
      "ExL_2 = subs(ExL_2, diff(y(t),t,2), ypp)\n",
      "ExL_2 = subs(ExL_2, diff(z(t),t,2), zpp)\n",
      "ExL_2 = subs(ExL_2, diff(x(t),t,1), xp)\n",
      "ExL_2 = subs(ExL_2, diff(y(t),t,1), yp)\n",
      "ExL_2 = subs(ExL_2, diff(z(t),t,1), zp)\n",
      "\n",
      "EyL_2 = subs(EyL_2, diff(x(t),t,2), xpp)\n",
      "EyL_2 = subs(EyL_2, diff(y(t),t,2), ypp)\n",
      "EyL_2 = subs(EyL_2, diff(z(t),t,2), zpp)\n",
      "EyL_2 = subs(EyL_2, diff(x(t),t,1), xp)\n",
      "EyL_2 = subs(EyL_2, diff(y(t),t,1), yp)\n",
      "EyL_2 = subs(EyL_2, diff(z(t),t,1), zp)\n",
      "\n",
      "EzL_2 = subs(EzL_2, diff(x(t),t,2), xpp)\n",
      "EzL_2 = subs(EzL_2, diff(y(t),t,2), ypp)\n",
      "EzL_2 = subs(EzL_2, diff(z(t),t,2), zpp)\n",
      "EzL_2 = subs(EzL_2, diff(x(t),t,1), xp)\n",
      "EzL_2 = subs(EzL_2, diff(y(t),t,1), yp)\n",
      "EzL_2 = subs(EzL_2, diff(z(t),t,1), zp)"
     ],
     "language": "python",
     "metadata": {},
     "outputs": [
      {
       "latex": [
        "$$- \\frac{1.0 m}{\\ell} \\Omega^{2} \\left(x{\\left (t \\right )} \\cos{\\left (\\alpha \\right )} + \\frac{\\sin{\\left (\\alpha \\right )}}{2 \\ell} \\left(x^{2}{\\left (t \\right )} + y^{2}{\\left (t \\right )} + z^{2}{\\left (t \\right )}\\right)\\right) z{\\left (t \\right )} \\sin{\\left (\\alpha \\right )} - \\frac{\\Omega \\dot{y}}{\\ell} m z{\\left (t \\right )} \\sin{\\left (\\alpha \\right )} - \\frac{\\Omega \\dot{z}}{\\ell} m y{\\left (t \\right )} \\sin{\\left (\\alpha \\right )} - \\Omega m \\left(\\frac{\\dot{y}}{\\ell} z{\\left (t \\right )} - \\frac{\\dot{z}}{\\ell} y{\\left (t \\right )}\\right) \\sin{\\left (\\alpha \\right )} + \\frac{g m}{\\ell} z{\\left (t \\right )} + \\frac{0.5 m}{\\ell^{2}} \\left(2 \\ddot{x} x{\\left (t \\right )} + 2 \\ddot{y} y{\\left (t \\right )} + 2 \\ddot{z} z{\\left (t \\right )} + 2 \\dot{x}^{2} + 2 \\dot{y}^{2} + 2 \\dot{z}^{2}\\right) z{\\left (t \\right )}$$"
       ],
       "metadata": {},
       "output_type": "pyout",
       "prompt_number": 81,
       "text": [
        "                /                   / 2       2       2   \\            \\      \n",
        "            2   |                   \\x (t) + y (t) + z (t)/*sin(\\alpha)|      \n",
        "  1.0*\\Omega *m*|x(t)*cos(\\alpha) + -----------------------------------|*z(t)*\n",
        "                \\                                  2*\\ell              /      \n",
        "- ----------------------------------------------------------------------------\n",
        "                                            \\ell                              \n",
        "                                                                              \n",
        "\n",
        "                                                                              \n",
        "                                                                              \n",
        "sin(\\alpha)                                                                   \n",
        "              \\Omega*\\dot{y}*m*z(t)*sin(\\alpha)   \\Omega*\\dot{z}*m*y(t)*sin(\\a\n",
        "----------- - --------------------------------- - ----------------------------\n",
        "                             \\ell                                \\ell         \n",
        "                                                                              \n",
        "\n",
        "                                                                              \n",
        "                                                                              \n",
        "                                                                              \n",
        "lpha)            /\\dot{y}*z(t)   \\dot{z}*y(t)\\               g*m*z(t)   0.5*m*\n",
        "----- - \\Omega*m*|------------ - ------------|*sin(\\alpha) + -------- + ------\n",
        "                 \\    \\ell           \\ell    /                 \\ell           \n",
        "                                                                              \n",
        "\n",
        "                                                                              \n",
        "                                                                              \n",
        "/                                                               2            2\n",
        "\\2*\\ddot{x}*x(t) + 2*\\ddot{y}*y(t) + 2*\\ddot{z}*z(t) + 2*\\dot{x}  + 2*\\dot{y} \n",
        "------------------------------------------------------------------------------\n",
        "                                               2                              \n",
        "                                           \\ell                               \n",
        "\n",
        "                   \n",
        "                   \n",
        "            2\\     \n",
        " + 2*\\dot{z} /*z(t)\n",
        "-------------------\n",
        "                   \n",
        "                   "
       ]
      }
     ],
     "prompt_number": 81
    },
    {
     "cell_type": "code",
     "collapsed": false,
     "input": [
      "(solx2, soly2, solz2) = solve([ExL_2, EyL_2, EzL_2],[xpp, ypp, zpp])"
     ],
     "language": "python",
     "metadata": {},
     "outputs": [
      {
       "latex": [
        "\\begin{equation*}\\begin{cases}\\ddot{y} & \\text{=>} &\\frac{\\Omega}{\\ell} \\left(\\Omega \\ell y{\\left (t \\right )} - 2.0 \\dot{x} \\ell \\cos{\\left (\\alpha \\right )} - 2.0 \\dot{x} x{\\left (t \\right )} \\sin{\\left (\\alpha \\right )} - 2.0 \\dot{y} y{\\left (t \\right )} \\sin{\\left (\\alpha \\right )} - 2.0 \\dot{z} z{\\left (t \\right )} \\sin{\\left (\\alpha \\right )}\\right)\\\\\\ddot{x} & \\text{=>} &\\frac{0.5 \\Omega}{\\ell} \\left(2.0 \\Omega \\ell x{\\left (t \\right )} \\cos{\\left (\\alpha \\right )} + \\Omega x^{2}{\\left (t \\right )} \\sin{\\left (\\alpha \\right )} + \\Omega y^{2}{\\left (t \\right )} \\sin{\\left (\\alpha \\right )} + \\Omega z^{2}{\\left (t \\right )} \\sin{\\left (\\alpha \\right )} + 4.0 \\dot{y} \\ell\\right) \\cos{\\left (\\alpha \\right )}\\\\\\ddot{z} & \\text{=>} &\\frac{1}{\\ell z{\\left (t \\right )}} \\left(0.5 \\Omega^{2} \\ell^{2} x{\\left (t \\right )} \\sin{\\left (2.0 \\alpha \\right )} - 0.75 \\Omega^{2} \\ell x^{2}{\\left (t \\right )} \\cos{\\left (2.0 \\alpha \\right )} - 0.25 \\Omega^{2} \\ell x^{2}{\\left (t \\right )} - 0.25 \\Omega^{2} \\ell y^{2}{\\left (t \\right )} \\cos{\\left (2.0 \\alpha \\right )} - 0.75 \\Omega^{2} \\ell y^{2}{\\left (t \\right )} - 0.25 \\Omega^{2} \\ell z^{2}{\\left (t \\right )} \\cos{\\left (2.0 \\alpha \\right )} + 0.25 \\Omega^{2} \\ell z^{2}{\\left (t \\right )} - 0.25 \\Omega^{2} x^{3}{\\left (t \\right )} \\sin{\\left (2.0 \\alpha \\right )} - 0.25 \\Omega^{2} x{\\left (t \\right )} y^{2}{\\left (t \\right )} \\sin{\\left (2.0 \\alpha \\right )} - 0.25 \\Omega^{2} x{\\left (t \\right )} z^{2}{\\left (t \\right )} \\sin{\\left (2.0 \\alpha \\right )} + 2.0 \\Omega \\dot{x} \\ell y{\\left (t \\right )} \\cos{\\left (\\alpha \\right )} + 2.0 \\Omega \\dot{x} x{\\left (t \\right )} y{\\left (t \\right )} \\sin{\\left (\\alpha \\right )} + 2.0 \\Omega \\dot{y} \\ell^{2} \\sin{\\left (\\alpha \\right )} - 2.0 \\Omega \\dot{y} \\ell x{\\left (t \\right )} \\cos{\\left (\\alpha \\right )} + 2.0 \\Omega \\dot{y} y^{2}{\\left (t \\right )} \\sin{\\left (\\alpha \\right )} + 2.0 \\Omega \\dot{z} y{\\left (t \\right )} z{\\left (t \\right )} \\sin{\\left (\\alpha \\right )} - 1.0 \\dot{x}^{2} \\ell - 1.0 \\dot{y}^{2} \\ell - 1.0 \\dot{z}^{2} \\ell - 1.0 \\ell^{2} g\\right)\\\\\\end{cases}\\end{equation*}"
       ],
       "metadata": {},
       "output_type": "pyout",
       "prompt_number": 82,
       "text": [
        "Dict{Any,Any} with 3 entries:\n",
        "  \"\\\\ddot{y}\" => \\Omega*(\\Omega*\\ell*y(t) - 2.0*\\dot{x}*\\ell*cos(\\alpha) - 2.0*\u2026\n",
        "  \"\\\\ddot{x}\" =>            /                                           2      \u2026\n",
        "  \"\\\\ddot{z}\" =>      /          2     2                                  2    \u2026"
       ]
      }
     ],
     "prompt_number": 82
    },
    {
     "cell_type": "code",
     "collapsed": false,
     "input": [
      "soly2 = soly2[2];\n",
      "solx2 = solx2[2];\n",
      "solz2 = solz2[2]"
     ],
     "language": "python",
     "metadata": {},
     "outputs": [
      {
       "latex": [
        "$$\\frac{1}{\\ell z{\\left (t \\right )}} \\left(0.5 \\Omega^{2} \\ell^{2} x{\\left (t \\right )} \\sin{\\left (2.0 \\alpha \\right )} - 0.75 \\Omega^{2} \\ell x^{2}{\\left (t \\right )} \\cos{\\left (2.0 \\alpha \\right )} - 0.25 \\Omega^{2} \\ell x^{2}{\\left (t \\right )} - 0.25 \\Omega^{2} \\ell y^{2}{\\left (t \\right )} \\cos{\\left (2.0 \\alpha \\right )} - 0.75 \\Omega^{2} \\ell y^{2}{\\left (t \\right )} - 0.25 \\Omega^{2} \\ell z^{2}{\\left (t \\right )} \\cos{\\left (2.0 \\alpha \\right )} + 0.25 \\Omega^{2} \\ell z^{2}{\\left (t \\right )} - 0.25 \\Omega^{2} x^{3}{\\left (t \\right )} \\sin{\\left (2.0 \\alpha \\right )} - 0.25 \\Omega^{2} x{\\left (t \\right )} y^{2}{\\left (t \\right )} \\sin{\\left (2.0 \\alpha \\right )} - 0.25 \\Omega^{2} x{\\left (t \\right )} z^{2}{\\left (t \\right )} \\sin{\\left (2.0 \\alpha \\right )} + 2.0 \\Omega \\dot{x} \\ell y{\\left (t \\right )} \\cos{\\left (\\alpha \\right )} + 2.0 \\Omega \\dot{x} x{\\left (t \\right )} y{\\left (t \\right )} \\sin{\\left (\\alpha \\right )} + 2.0 \\Omega \\dot{y} \\ell^{2} \\sin{\\left (\\alpha \\right )} - 2.0 \\Omega \\dot{y} \\ell x{\\left (t \\right )} \\cos{\\left (\\alpha \\right )} + 2.0 \\Omega \\dot{y} y^{2}{\\left (t \\right )} \\sin{\\left (\\alpha \\right )} + 2.0 \\Omega \\dot{z} y{\\left (t \\right )} z{\\left (t \\right )} \\sin{\\left (\\alpha \\right )} - 1.0 \\dot{x}^{2} \\ell - 1.0 \\dot{y}^{2} \\ell - 1.0 \\dot{z}^{2} \\ell - 1.0 \\ell^{2} g\\right)$$"
       ],
       "metadata": {},
       "output_type": "pyout",
       "prompt_number": 83,
       "text": [
        "     /          2     2                                  2       2            \n",
        "0.25*\\2.0*\\Omega *\\ell *x(t)*sin(2.0*\\alpha) - 3.0*\\Omega *\\ell*x (t)*cos(2.0*\n",
        "------------------------------------------------------------------------------\n",
        "                                                                              \n",
        "\n",
        "                2       2            2       2                                \n",
        "\\alpha) - \\Omega *\\ell*x (t) - \\Omega *\\ell*y (t)*cos(2.0*\\alpha) - 3.0*\\Omega\n",
        "------------------------------------------------------------------------------\n",
        "                                                                              \n",
        "\n",
        "2       2            2       2                            2       2           \n",
        " *\\ell*y (t) - \\Omega *\\ell*z (t)*cos(2.0*\\alpha) + \\Omega *\\ell*z (t) - \\Omeg\n",
        "------------------------------------------------------------------------------\n",
        "                                                                              \n",
        "\n",
        " 2  3                            2       2                            2       \n",
        "a *x (t)*sin(2.0*\\alpha) - \\Omega *x(t)*y (t)*sin(2.0*\\alpha) - \\Omega *x(t)*z\n",
        "------------------------------------------------------------------------------\n",
        "                                                                              \n",
        "\n",
        "2                                                                             \n",
        " (t)*sin(2.0*\\alpha) + 8.0*\\Omega*\\dot{x}*\\ell*y(t)*cos(\\alpha) + 8.0*\\Omega*\\\n",
        "------------------------------------------------------------------------------\n",
        "            \\ell*z(t)                                                         \n",
        "\n",
        "                                                      2                       \n",
        "dot{x}*x(t)*y(t)*sin(\\alpha) + 8.0*\\Omega*\\dot{y}*\\ell *sin(\\alpha) - 8.0*\\Ome\n",
        "------------------------------------------------------------------------------\n",
        "                                                                              \n",
        "\n",
        "                                                       2                      \n",
        "ga*\\dot{y}*\\ell*x(t)*cos(\\alpha) + 8.0*\\Omega*\\dot{y}*y (t)*sin(\\alpha) + 8.0*\n",
        "------------------------------------------------------------------------------\n",
        "                                                                              \n",
        "\n",
        "                                                  2                   2       \n",
        "\\Omega*\\dot{z}*y(t)*z(t)*sin(\\alpha) - 4.0*\\dot{x} *\\ell - 4.0*\\dot{y} *\\ell -\n",
        "------------------------------------------------------------------------------\n",
        "                                                                              \n",
        "\n",
        "            2                2  \\\n",
        " 4.0*\\dot{z} *\\ell - 4.0*\\ell *g/\n",
        "---------------------------------\n",
        "                                 "
       ]
      }
     ],
     "prompt_number": 83
    },
    {
     "cell_type": "code",
     "collapsed": false,
     "input": [
      "function asignar_valores(solucion,omega,acel_g,longitud,angulo)\n",
      "    solucion= subs(solucion,\u03a9,omega)\n",
      "    solucion= subs(solucion,\u03b1,angulo)\n",
      "    solucion= subs(solucion,g,acel_g)\n",
      "    solucion= subs(solucion,\u2113,longitud)    \n",
      "    return solucion\n",
      "end"
     ],
     "language": "python",
     "metadata": {},
     "outputs": [
      {
       "metadata": {},
       "output_type": "pyout",
       "prompt_number": 84,
       "text": [
        "asignar_valores (generic function with 1 method)"
       ]
      }
     ],
     "prompt_number": 84
    },
    {
     "cell_type": "code",
     "collapsed": false,
     "input": [
      "soly_con_numeros=asignar_valores(soly2,0.23,10.0,20.0,pi/120);\n",
      "solx_con_numeros=asignar_valores(solx2,0.23,10.0,20.0,pi/120);\n",
      "solz_con_numeros=asignar_valores(solz2,0.23,10.0,20.0,pi/120)"
     ],
     "language": "python",
     "metadata": {},
     "outputs": [
      {
       "latex": [
        "$$\\frac{1}{z{\\left (t \\right )}} \\left(- 1.0 \\dot{x}^{2} + 0.000602069811081083 \\dot{x} x{\\left (t \\right )} y{\\left (t \\right )} + 0.459842369488756 \\dot{x} y{\\left (t \\right )} - 1.0 \\dot{y}^{2} - 0.459842369488756 \\dot{y} x{\\left (t \\right )} + 0.000602069811081083 \\dot{y} y^{2}{\\left (t \\right )} + 0.240827924432433 \\dot{y} - 1.0 \\dot{z}^{2} + 0.000602069811081083 \\dot{z} y{\\left (t \\right )} z{\\left (t \\right )} - 3.46071510656466 \\cdot 10^{-5} x^{3}{\\left (t \\right )} - 0.0528456267913877 x^{2}{\\left (t \\right )} - 3.46071510656466 \\cdot 10^{-5} x{\\left (t \\right )} y^{2}{\\left (t \\right )} - 3.46071510656466 \\cdot 10^{-5} x{\\left (t \\right )} z^{2}{\\left (t \\right )} + 0.0276857208525173 x{\\left (t \\right )} - 0.0528818755971293 y^{2}{\\left (t \\right )} + 1.81244028707606 \\cdot 10^{-5} z^{2}{\\left (t \\right )} - 200.0\\right)$$"
       ],
       "metadata": {},
       "output_type": "pyout",
       "prompt_number": 85,
       "text": [
        "       /              2                                                       \n",
        "0.0125*\\- 80.0*\\dot{x}  + 0.0481655848864866*\\dot{x}*x(t)*y(t) + 36.7873895591\n",
        "------------------------------------------------------------------------------\n",
        "                                                                              \n",
        "\n",
        "                               2                                              \n",
        "005*\\dot{x}*y(t) - 80.0*\\dot{y}  - 36.7873895591005*\\dot{y}*x(t) + 0.048165584\n",
        "------------------------------------------------------------------------------\n",
        "                                                                              \n",
        "\n",
        "                 2                                             2              \n",
        "8864866*\\dot{y}*y (t) + 19.2662339545946*\\dot{y} - 80.0*\\dot{z}  + 0.048165584\n",
        "------------------------------------------------------------------------------\n",
        "                                                                           z(t\n",
        "\n",
        "                                                 3                        2   \n",
        "8864866*\\dot{z}*y(t)*z(t) - 0.00276857208525173*x (t) - 4.22765014331102*x (t)\n",
        "------------------------------------------------------------------------------\n",
        ")                                                                             \n",
        "\n",
        "                             2                                2               \n",
        " - 0.00276857208525173*x(t)*y (t) - 0.00276857208525173*x(t)*z (t) + 2.2148576\n",
        "------------------------------------------------------------------------------\n",
        "                                                                              \n",
        "\n",
        "                                 2                           2             \\\n",
        "6820138*x(t) - 4.23055004777034*y (t) + 0.00144995222966085*z (t) - 16000.0/\n",
        "----------------------------------------------------------------------------\n",
        "                                                                            "
       ]
      }
     ],
     "prompt_number": 85
    },
    {
     "cell_type": "code",
     "collapsed": false,
     "input": [
      "sympy_to_julia(soly_con_numeros)"
     ],
     "language": "python",
     "metadata": {},
     "outputs": [
      {
       "metadata": {},
       "output_type": "pyout",
       "prompt_number": 86,
       "text": [
        "\"0.459842369488756*yp + 3.46071510656466e-5*x^2 + 0.0528637511942585*x + 3.46071510656466e-5*y^2 + 3.46071510656466e-5*z^2\""
       ]
      }
     ],
     "prompt_number": 86
    },
    {
     "cell_type": "code",
     "collapsed": false,
     "input": [
      "sympy_to_julia(solx_con_numeros)"
     ],
     "language": "python",
     "metadata": {},
     "outputs": [
      {
       "metadata": {},
       "output_type": "pyout",
       "prompt_number": 87,
       "text": [
        "\"-0.000602069811081083*xp*x - 0.459842369488756*xp - 0.000602069811081083*yp*y - 0.000602069811081083*zp*z + 0.0529*y\""
       ]
      }
     ],
     "prompt_number": 87
    },
    {
     "cell_type": "code",
     "collapsed": false,
     "input": [
      "sympy_to_julia(solz_con_numeros)"
     ],
     "language": "python",
     "metadata": {},
     "outputs": [
      {
       "metadata": {},
       "output_type": "pyout",
       "prompt_number": 88,
       "text": [
        "\"0.0125*(-80.0*xp^2 + 0.0481655848864866*xp*x*y + 36.7873895591005*xp*y - 80.0*yp^2 - 36.7873895591005*yp*x + 0.0481655848864866*yp*y^2 + 19.2662339545946*yp - 80.0*zp^2 + 0.0481655848864866*zp*y*z - 0.00276857208525173*x^3 - 4.22765014331102*x^2 - 0.00276857208525173*x*y^2 - 0.00276857208525173*x*z^2 + 2.21485766820138*x - 4.23055004777034*y^2 + 0.00144995222966085*z^2 - 16000.0)/z\""
       ]
      }
     ],
     "prompt_number": 88
    },
    {
     "cell_type": "code",
     "collapsed": false,
     "input": [
      "fx2(xp,yp,zp,x,y,z)=-0.000602069811081083*xp*x - 0.459842369488756*xp - 0.000602069811081083*yp*y - 0.000602069811081083*zp*z + 0.0529*y\n",
      "fy2(xp,yp,zp,x,y,z)=0.459842369488756*yp + 3.46071510656466e-5*x^2 + 0.0528637511942585*x + 3.46071510656466e-5*y^2 + 3.46071510656466e-5*z^2\n",
      "fz2(xp,yp,zp,x,y,z)=0.0125*(-80.0*xp^2 + 0.0481655848864866*xp*x*y + 36.7873895591005*xp*y - 80.0*yp^2 - 36.7873895591005*yp*x + 0.0481655848864866*yp*y^2 + 19.2662339545946*yp - 80.0*zp^2 + 0.0481655848864866*zp*y*z - 0.00276857208525173*x^3 - 4.22765014331102*x^2 - 0.00276857208525173*x*y^2 - 0.00276857208525173*x*z^2 + 2.21485766820138*x - 4.23055004777034*y^2 + 0.00144995222966085*z^2 - 16000.0)/z\n",
      "fv2(r0,v,t)=[fx2(v[1],v[2],v[3],r0[1],r0[2],r0[3]),fy2(v[1],v[2],v[3],r0[1],r0[2],r0[3]),fz2(v[1],v[2],v[3],r0[1],r0[2],r0[3]) ]\n",
      "fr2(r0,v,t)=v"
     ],
     "language": "python",
     "metadata": {},
     "outputs": [
      {
       "metadata": {},
       "output_type": "pyout",
       "prompt_number": 89,
       "text": [
        "fr2 (generic function with 1 method)"
       ]
      }
     ],
     "prompt_number": 89
    },
    {
     "cell_type": "code",
     "collapsed": false,
     "input": [
      "t2,q2,v2=euler_cromer([5.0,2.0,3.0],[3.0,9.0, 1.0],0.0,100.0,1e-4,fr2,fv2);"
     ],
     "language": "python",
     "metadata": {},
     "outputs": [],
     "prompt_number": 92
    },
    {
     "cell_type": "code",
     "collapsed": false,
     "input": [
      "plot(q2[:,1],q2[:,2])"
     ],
     "language": "python",
     "metadata": {},
     "outputs": [
      {
       "metadata": {},
       "output_type": "display_data",
       "png": "[encoded data removed]",
       "text": [
        "Figure(PyObject <matplotlib.figure.Figure object at 0x7ff6f4eda110>)"
       ]
      },
      {
       "metadata": {},
       "output_type": "pyout",
       "prompt_number": 93,
       "text": [
        "1-element Array{Any,1}:\n",
        " PyObject <matplotlib.lines.Line2D object at 0x7ff6f4be6d10>"
       ]
      }
     ],
     "prompt_number": 93
    },
    {
     "cell_type": "code",
     "collapsed": false,
     "input": [
      "\u03b8 = SymFunction(\"\\\\theta\")\n",
      "\u03d5 = SymFunction(\"\\\\phi\")\n",
      "r = SymFunction(\"r\")"
     ],
     "language": "python",
     "metadata": {},
     "outputs": [
      {
       "metadata": {},
       "output_type": "pyout",
       "prompt_number": 102,
       "text": [
        "(anonymous function)"
       ]
      }
     ],
     "prompt_number": 102
    },
    {
     "cell_type": "code",
     "collapsed": false,
     "input": [
      "x_polar=r(t)*sin(\u03b8(t))*cos(\u03d5(t))\n",
      "y_polar=r(t)*sin(\u03b8(t))*sin(\u03d5(t))\n",
      "z_polar=r(t)*cos(\u03b8(t))"
     ],
     "language": "python",
     "metadata": {},
     "outputs": [
      {
       "latex": [
        "$$r{\\left (t \\right )} \\cos{\\left (\\theta{\\left (t \\right )} \\right )}$$"
       ],
       "metadata": {},
       "output_type": "pyout",
       "prompt_number": 104,
       "text": [
        "r(t)*cos(\\theta(t))"
       ]
      }
     ],
     "prompt_number": 104
    },
    {
     "cell_type": "code",
     "collapsed": false,
     "input": [
      "xp_polar=diff(x_polar,t)\n",
      "yp_polar=diff(y_polar,t)\n",
      "zp_polar=diff(z_polar,t)"
     ],
     "language": "python",
     "metadata": {},
     "outputs": [
      {
       "latex": [
        "$$- r{\\left (t \\right )} \\sin{\\left (\\theta{\\left (t \\right )} \\right )} \\frac{d}{d t} \\theta{\\left (t \\right )} + \\cos{\\left (\\theta{\\left (t \\right )} \\right )} \\frac{d}{d t} r{\\left (t \\right )}$$"
       ],
       "metadata": {},
       "output_type": "pyout",
       "prompt_number": 105,
       "text": [
        "                      d                              d       \n",
        "- r(t)*sin(\\theta(t))*--(\\theta(t)) + cos(\\theta(t))*--(r(t))\n",
        "                      dt                             dt      "
       ]
      }
     ],
     "prompt_number": 105
    },
    {
     "cell_type": "code",
     "collapsed": false,
     "input": [
      "rp,\u03b8p,\u03d5p = Sym(\"\\\\dot{r}\",\"\\\\dot{\\\\theta}\",\"\\\\dot{\\\\phi}\")\n",
      "rpp,\u03b8pp,\u03d5pp = Sym(\"\\\\ddot{r}\",\"\\\\ddot{\\\\theta}\",\"\\\\ddot{\\\\phi}\")"
     ],
     "language": "python",
     "metadata": {},
     "outputs": [
      {
       "metadata": {},
       "output_type": "pyout",
       "prompt_number": 111,
       "text": [
        "(\\ddot{r},\\ddot{\\theta},\\ddot{\\phi})"
       ]
      }
     ],
     "prompt_number": 111
    },
    {
     "cell_type": "code",
     "collapsed": false,
     "input": [
      "L_polar = subs(L_2,x(t),x_polar);\n",
      "L_polar = subs(L_polar,y(t),y_polar);\n",
      "L_polar = subs(L_polar,z(t),z_polar)\n",
      "L_polar = expand(L_polar);"
     ],
     "language": "python",
     "metadata": {},
     "outputs": [
      {
       "latex": [
        "$$0.5 \\Omega^{2} m r^{2}{\\left (t \\right )} \\sin^{2}{\\left (\\phi{\\left (t \\right )} \\right )} \\sin^{2}{\\left (\\theta{\\left (t \\right )} \\right )} + 0.5 \\Omega^{2} m r^{2}{\\left (t \\right )} \\sin^{2}{\\left (\\theta{\\left (t \\right )} \\right )} \\cos^{2}{\\left (\\alpha \\right )} \\cos^{2}{\\left (\\phi{\\left (t \\right )} \\right )} + \\frac{0.5 m}{\\ell} \\Omega^{2} r^{3}{\\left (t \\right )} \\sin{\\left (\\alpha \\right )} \\sin^{2}{\\left (\\phi{\\left (t \\right )} \\right )} \\sin^{3}{\\left (\\theta{\\left (t \\right )} \\right )} \\cos{\\left (\\alpha \\right )} \\cos{\\left (\\phi{\\left (t \\right )} \\right )} + \\frac{0.5 m}{\\ell} \\Omega^{2} r^{3}{\\left (t \\right )} \\sin{\\left (\\alpha \\right )} \\sin^{3}{\\left (\\theta{\\left (t \\right )} \\right )} \\cos{\\left (\\alpha \\right )} \\cos^{3}{\\left (\\phi{\\left (t \\right )} \\right )} + \\frac{0.5 m}{\\ell} \\Omega^{2} r^{3}{\\left (t \\right )} \\sin{\\left (\\alpha \\right )} \\sin{\\left (\\theta{\\left (t \\right )} \\right )} \\cos{\\left (\\alpha \\right )} \\cos{\\left (\\phi{\\left (t \\right )} \\right )} \\cos^{2}{\\left (\\theta{\\left (t \\right )} \\right )} + \\frac{0.125 m}{\\ell^{2}} \\Omega^{2} r^{4}{\\left (t \\right )} \\sin^{2}{\\left (\\alpha \\right )} \\sin^{4}{\\left (\\phi{\\left (t \\right )} \\right )} \\sin^{4}{\\left (\\theta{\\left (t \\right )} \\right )} + \\frac{0.25 m}{\\ell^{2}} \\Omega^{2} r^{4}{\\left (t \\right )} \\sin^{2}{\\left (\\alpha \\right )} \\sin^{2}{\\left (\\phi{\\left (t \\right )} \\right )} \\sin^{4}{\\left (\\theta{\\left (t \\right )} \\right )} \\cos^{2}{\\left (\\phi{\\left (t \\right )} \\right )} + \\frac{0.25 m}{\\ell^{2}} \\Omega^{2} r^{4}{\\left (t \\right )} \\sin^{2}{\\left (\\alpha \\right )} \\sin^{2}{\\left (\\phi{\\left (t \\right )} \\right )} \\sin^{2}{\\left (\\theta{\\left (t \\right )} \\right )} \\cos^{2}{\\left (\\theta{\\left (t \\right )} \\right )} + \\frac{0.125 m}{\\ell^{2}} \\Omega^{2} r^{4}{\\left (t \\right )} \\sin^{2}{\\left (\\alpha \\right )} \\sin^{4}{\\left (\\theta{\\left (t \\right )} \\right )} \\cos^{4}{\\left (\\phi{\\left (t \\right )} \\right )} + \\frac{0.25 m}{\\ell^{2}} \\Omega^{2} r^{4}{\\left (t \\right )} \\sin^{2}{\\left (\\alpha \\right )} \\sin^{2}{\\left (\\theta{\\left (t \\right )} \\right )} \\cos^{2}{\\left (\\phi{\\left (t \\right )} \\right )} \\cos^{2}{\\left (\\theta{\\left (t \\right )} \\right )} + \\frac{0.125 m}{\\ell^{2}} \\Omega^{2} r^{4}{\\left (t \\right )} \\sin^{2}{\\left (\\alpha \\right )} \\cos^{4}{\\left (\\theta{\\left (t \\right )} \\right )} - \\Omega m r{\\left (t \\right )} \\sin{\\left (\\phi{\\left (t \\right )} \\right )} \\sin{\\left (\\theta{\\left (t \\right )} \\right )} \\cos{\\left (\\alpha \\right )} \\frac{d}{d t}\\left(r{\\left (t \\right )} \\sin{\\left (\\theta{\\left (t \\right )} \\right )} \\cos{\\left (\\phi{\\left (t \\right )} \\right )}\\right) + \\Omega m r{\\left (t \\right )} \\sin{\\left (\\theta{\\left (t \\right )} \\right )} \\cos{\\left (\\alpha \\right )} \\cos{\\left (\\phi{\\left (t \\right )} \\right )} \\frac{d}{d t}\\left(r{\\left (t \\right )} \\sin{\\left (\\phi{\\left (t \\right )} \\right )} \\sin{\\left (\\theta{\\left (t \\right )} \\right )}\\right) - \\frac{\\Omega m}{2 \\ell} r^{2}{\\left (t \\right )} \\sin{\\left (\\alpha \\right )} \\sin^{2}{\\left (\\phi{\\left (t \\right )} \\right )} \\sin^{2}{\\left (\\theta{\\left (t \\right )} \\right )} \\frac{d}{d t}\\left(r{\\left (t \\right )} \\sin{\\left (\\phi{\\left (t \\right )} \\right )} \\sin{\\left (\\theta{\\left (t \\right )} \\right )}\\right) - \\frac{\\Omega m}{\\ell} r^{2}{\\left (t \\right )} \\sin{\\left (\\alpha \\right )} \\sin{\\left (\\phi{\\left (t \\right )} \\right )} \\sin^{2}{\\left (\\theta{\\left (t \\right )} \\right )} \\cos{\\left (\\phi{\\left (t \\right )} \\right )} \\frac{d}{d t}\\left(r{\\left (t \\right )} \\sin{\\left (\\theta{\\left (t \\right )} \\right )} \\cos{\\left (\\phi{\\left (t \\right )} \\right )}\\right) - \\frac{\\Omega m}{\\ell} r^{2}{\\left (t \\right )} \\sin{\\left (\\alpha \\right )} \\sin{\\left (\\phi{\\left (t \\right )} \\right )} \\sin{\\left (\\theta{\\left (t \\right )} \\right )} \\cos{\\left (\\theta{\\left (t \\right )} \\right )} \\frac{d}{d t}\\left(r{\\left (t \\right )} \\cos{\\left (\\theta{\\left (t \\right )} \\right )}\\right) + \\frac{\\Omega m}{2 \\ell} r^{2}{\\left (t \\right )} \\sin{\\left (\\alpha \\right )} \\sin^{2}{\\left (\\theta{\\left (t \\right )} \\right )} \\cos^{2}{\\left (\\phi{\\left (t \\right )} \\right )} \\frac{d}{d t}\\left(r{\\left (t \\right )} \\sin{\\left (\\phi{\\left (t \\right )} \\right )} \\sin{\\left (\\theta{\\left (t \\right )} \\right )}\\right) + \\frac{\\Omega m}{2 \\ell} r^{2}{\\left (t \\right )} \\sin{\\left (\\alpha \\right )} \\cos^{2}{\\left (\\theta{\\left (t \\right )} \\right )} \\frac{d}{d t}\\left(r{\\left (t \\right )} \\sin{\\left (\\phi{\\left (t \\right )} \\right )} \\sin{\\left (\\theta{\\left (t \\right )} \\right )}\\right) + 0.5 m \\left(\\frac{d}{d t}\\left(r{\\left (t \\right )} \\sin{\\left (\\phi{\\left (t \\right )} \\right )} \\sin{\\left (\\theta{\\left (t \\right )} \\right )}\\right)\\right)^{2} + 0.5 m \\left(\\frac{d}{d t}\\left(r{\\left (t \\right )} \\sin{\\left (\\theta{\\left (t \\right )} \\right )} \\cos{\\left (\\phi{\\left (t \\right )} \\right )}\\right)\\right)^{2} - \\frac{g m}{2 \\ell} r^{2}{\\left (t \\right )} \\sin^{2}{\\left (\\phi{\\left (t \\right )} \\right )} \\sin^{2}{\\left (\\theta{\\left (t \\right )} \\right )} - \\frac{g m}{2 \\ell} r^{2}{\\left (t \\right )} \\sin^{2}{\\left (\\theta{\\left (t \\right )} \\right )} \\cos^{2}{\\left (\\phi{\\left (t \\right )} \\right )} - \\frac{g m}{2 \\ell} r^{2}{\\left (t \\right )} \\cos^{2}{\\left (\\theta{\\left (t \\right )} \\right )} + \\frac{0.5 m}{\\ell^{2}} r^{2}{\\left (t \\right )} \\sin^{2}{\\left (\\phi{\\left (t \\right )} \\right )} \\sin^{2}{\\left (\\theta{\\left (t \\right )} \\right )} \\left(\\frac{d}{d t}\\left(r{\\left (t \\right )} \\sin{\\left (\\phi{\\left (t \\right )} \\right )} \\sin{\\left (\\theta{\\left (t \\right )} \\right )}\\right)\\right)^{2} + \\frac{1.0 m}{\\ell^{2}} r^{2}{\\left (t \\right )} \\sin{\\left (\\phi{\\left (t \\right )} \\right )} \\sin^{2}{\\left (\\theta{\\left (t \\right )} \\right )} \\cos{\\left (\\phi{\\left (t \\right )} \\right )} \\frac{d}{d t}\\left(r{\\left (t \\right )} \\sin{\\left (\\phi{\\left (t \\right )} \\right )} \\sin{\\left (\\theta{\\left (t \\right )} \\right )}\\right) \\frac{d}{d t}\\left(r{\\left (t \\right )} \\sin{\\left (\\theta{\\left (t \\right )} \\right )} \\cos{\\left (\\phi{\\left (t \\right )} \\right )}\\right) + \\frac{1.0 m}{\\ell^{2}} r^{2}{\\left (t \\right )} \\sin{\\left (\\phi{\\left (t \\right )} \\right )} \\sin{\\left (\\theta{\\left (t \\right )} \\right )} \\cos{\\left (\\theta{\\left (t \\right )} \\right )} \\frac{d}{d t}\\left(r{\\left (t \\right )} \\cos{\\left (\\theta{\\left (t \\right )} \\right )}\\right) \\frac{d}{d t}\\left(r{\\left (t \\right )} \\sin{\\left (\\phi{\\left (t \\right )} \\right )} \\sin{\\left (\\theta{\\left (t \\right )} \\right )}\\right) + \\frac{0.5 m}{\\ell^{2}} r^{2}{\\left (t \\right )} \\sin^{2}{\\left (\\theta{\\left (t \\right )} \\right )} \\cos^{2}{\\left (\\phi{\\left (t \\right )} \\right )} \\left(\\frac{d}{d t}\\left(r{\\left (t \\right )} \\sin{\\left (\\theta{\\left (t \\right )} \\right )} \\cos{\\left (\\phi{\\left (t \\right )} \\right )}\\right)\\right)^{2} + \\frac{1.0 m}{\\ell^{2}} r^{2}{\\left (t \\right )} \\sin{\\left (\\theta{\\left (t \\right )} \\right )} \\cos{\\left (\\phi{\\left (t \\right )} \\right )} \\cos{\\left (\\theta{\\left (t \\right )} \\right )} \\frac{d}{d t}\\left(r{\\left (t \\right )} \\cos{\\left (\\theta{\\left (t \\right )} \\right )}\\right) \\frac{d}{d t}\\left(r{\\left (t \\right )} \\sin{\\left (\\theta{\\left (t \\right )} \\right )} \\cos{\\left (\\phi{\\left (t \\right )} \\right )}\\right) + \\frac{0.5 m}{\\ell^{2}} r^{2}{\\left (t \\right )} \\cos^{2}{\\left (\\theta{\\left (t \\right )} \\right )} \\left(\\frac{d}{d t}\\left(r{\\left (t \\right )} \\cos{\\left (\\theta{\\left (t \\right )} \\right )}\\right)\\right)^{2}$$"
       ],
       "metadata": {},
       "output_type": "pyout",
       "prompt_number": 123,
       "text": [
        "                                                                              \n",
        "                                                                              \n",
        "                                                                              \n",
        "          2    2       2             2                        2    2       2  \n",
        "0.5*\\Omega *m*r (t)*sin (\\phi(t))*sin (\\theta(t)) + 0.5*\\Omega *m*r (t)*sin (\\\n",
        "                                                                              \n",
        "                                                                              \n",
        "\n",
        "                                                                              \n",
        "                                                                              \n",
        "                                                 2    3                   2   \n",
        "             2            2            0.5*\\Omega *m*r (t)*sin(\\alpha)*sin (\\p\n",
        "theta(t))*cos (\\alpha)*cos (\\phi(t)) + ---------------------------------------\n",
        "                                                                              \n",
        "                                                                              \n",
        "\n",
        "                                                                              \n",
        "                                                                              \n",
        "          3                                                 2    3            \n",
        "hi(t))*sin (\\theta(t))*cos(\\alpha)*cos(\\phi(t))   0.5*\\Omega *m*r (t)*sin(\\alp\n",
        "----------------------------------------------- + ----------------------------\n",
        "  \\ell                                                                        \n",
        "                                                                              \n",
        "\n",
        "                                                                              \n",
        "                                                                              \n",
        "       3                           3                      2    3              \n",
        "ha)*sin (\\theta(t))*cos(\\alpha)*cos (\\phi(t))   0.5*\\Omega *m*r (t)*sin(\\alpha\n",
        "--------------------------------------------- + ------------------------------\n",
        "       \\ell                                                                   \n",
        "                                                                              \n",
        "\n",
        "                                                                              \n",
        "                                                                              \n",
        "                                             2                          2    4\n",
        ")*sin(\\theta(t))*cos(\\alpha)*cos(\\phi(t))*cos (\\theta(t))   0.125*\\Omega *m*r \n",
        "--------------------------------------------------------- + ------------------\n",
        "            \\ell                                                              \n",
        "                                                                              \n",
        "\n",
        "                                                                              \n",
        "                                                                              \n",
        "       2            4             4                         2    4       2    \n",
        "(t)*sin (\\alpha)*sin (\\phi(t))*sin (\\theta(t))   0.25*\\Omega *m*r (t)*sin (\\al\n",
        "---------------------------------------------- + -----------------------------\n",
        "               2                                                              \n",
        "           \\ell                                                               \n",
        "\n",
        "                                                                              \n",
        "                                                                              \n",
        "        2             4               2                       2    4       2  \n",
        "pha)*sin (\\phi(t))*sin (\\theta(t))*cos (\\phi(t))   0.25*\\Omega *m*r (t)*sin (\\\n",
        "------------------------------------------------ + ---------------------------\n",
        "           2                                                                  \n",
        "       \\ell                                                                   \n",
        "\n",
        "                                                                              \n",
        "                                                                              \n",
        "          2             2               2                          2    4     \n",
        "alpha)*sin (\\phi(t))*sin (\\theta(t))*cos (\\theta(t))   0.125*\\Omega *m*r (t)*s\n",
        "---------------------------------------------------- + -----------------------\n",
        "              2                                                               \n",
        "          \\ell                                                                \n",
        "\n",
        "                                                                              \n",
        "                                                                              \n",
        "  2            4               4                       2    4       2         \n",
        "in (\\alpha)*sin (\\theta(t))*cos (\\phi(t))   0.25*\\Omega *m*r (t)*sin (\\alpha)*\n",
        "----------------------------------------- + ----------------------------------\n",
        "          2                                                                   \n",
        "      \\ell                                                                    \n",
        "\n",
        "                                                                              \n",
        "                                                                              \n",
        "   2               2             2                          2    4       2    \n",
        "sin (\\theta(t))*cos (\\phi(t))*cos (\\theta(t))   0.125*\\Omega *m*r (t)*sin (\\al\n",
        "--------------------------------------------- + ------------------------------\n",
        "       2                                                                  2   \n",
        "   \\ell                                                               \\ell    \n",
        "\n",
        "                                                                              \n",
        "                                                                              \n",
        "        4                                                                     \n",
        "pha)*cos (\\theta(t))                                                         d\n",
        "-------------------- - \\Omega*m*r(t)*sin(\\phi(t))*sin(\\theta(t))*cos(\\alpha)*-\n",
        "                                                                             d\n",
        "                                                                              \n",
        "\n",
        "                                                                              \n",
        "                                                                              \n",
        "                                                                              \n",
        "                                                                              \n",
        "-(r(t)*sin(\\theta(t))*cos(\\phi(t))) + \\Omega*m*r(t)*sin(\\theta(t))*cos(\\alpha)\n",
        "t                                                                             \n",
        "                                                                              \n",
        "\n",
        "                                                                              \n",
        "                                                               2              \n",
        "                                                     \\Omega*m*r (t)*sin(\\alpha\n",
        "              d                                                               \n",
        "*cos(\\phi(t))*--(r(t)*sin(\\phi(t))*sin(\\theta(t))) - -------------------------\n",
        "              dt                                                              \n",
        "                                                                              \n",
        "\n",
        "                                                                              \n",
        "     2             2            d                                             \n",
        ")*sin (\\phi(t))*sin (\\theta(t))*--(r(t)*sin(\\phi(t))*sin(\\theta(t)))   \\Omega*\n",
        "                                dt                                            \n",
        "-------------------------------------------------------------------- - -------\n",
        "                   2*\\ell                                                     \n",
        "                                                                              \n",
        "\n",
        "                                                                              \n",
        "   2                                2                         d               \n",
        "m*r (t)*sin(\\alpha)*sin(\\phi(t))*sin (\\theta(t))*cos(\\phi(t))*--(r(t)*sin(\\the\n",
        "                                                              dt              \n",
        "------------------------------------------------------------------------------\n",
        "                                            \\ell                              \n",
        "                                                                              \n",
        "\n",
        "                                                                              \n",
        "                                 2                                            \n",
        "ta(t))*cos(\\phi(t)))   \\Omega*m*r (t)*sin(\\alpha)*sin(\\phi(t))*sin(\\theta(t))*\n",
        "                                                                              \n",
        "-------------------- - -------------------------------------------------------\n",
        "                                                                    \\ell      \n",
        "                                                                              \n",
        "\n",
        "                                                                              \n",
        "               d                                   2                   2      \n",
        "cos(\\theta(t))*--(r(t)*cos(\\theta(t)))   \\Omega*m*r (t)*sin(\\alpha)*sin (\\thet\n",
        "               dt                                                             \n",
        "-------------------------------------- + -------------------------------------\n",
        "                                                                              \n",
        "                                                                              \n",
        "\n",
        "                                                                              \n",
        "         2          d                                                2        \n",
        "a(t))*cos (\\phi(t))*--(r(t)*sin(\\phi(t))*sin(\\theta(t)))   \\Omega*m*r (t)*sin(\n",
        "                    dt                                                        \n",
        "-------------------------------------------------------- + -------------------\n",
        "       2*\\ell                                                                 \n",
        "                                                                              \n",
        "\n",
        "                                                                              \n",
        "           2            d                                                     \n",
        "\\alpha)*cos (\\theta(t))*--(r(t)*sin(\\phi(t))*sin(\\theta(t)))                  \n",
        "                        dt                                           /d       \n",
        "------------------------------------------------------------ + 0.5*m*|--(r(t)*\n",
        "                  2*\\ell                                             \\dt      \n",
        "                                                                              \n",
        "\n",
        "                                                                              \n",
        "                                                                              \n",
        "                             2                                               2\n",
        "                            \\          /d                                   \\ \n",
        "sin(\\phi(t))*sin(\\theta(t)))|  + 0.5*m*|--(r(t)*sin(\\theta(t))*cos(\\phi(t)))| \n",
        "                            /          \\dt                                  / \n",
        "                                                                              \n",
        "\n",
        "                                                                              \n",
        "                                                                              \n",
        "        2       2             2                   2       2               2   \n",
        "   g*m*r (t)*sin (\\phi(t))*sin (\\theta(t))   g*m*r (t)*sin (\\theta(t))*cos (\\p\n",
        " - --------------------------------------- - ---------------------------------\n",
        "                    2*\\ell                                    2*\\ell          \n",
        "                                                                              \n",
        "\n",
        "                                                                              \n",
        "                                            2       2             2           \n",
        "              2       2              0.5*m*r (t)*sin (\\phi(t))*sin (\\theta(t))\n",
        "hi(t))   g*m*r (t)*cos (\\theta(t))                                            \n",
        "------ - ------------------------- + -----------------------------------------\n",
        "                   2*\\ell                                                     \n",
        "                                                                           \\el\n",
        "\n",
        "                                       2                                      \n",
        " /d                                   \\           2                    2      \n",
        "*|--(r(t)*sin(\\phi(t))*sin(\\theta(t)))|    1.0*m*r (t)*sin(\\phi(t))*sin (\\thet\n",
        " \\dt                                  /                                       \n",
        "---------------------------------------- + -----------------------------------\n",
        " 2                                                                            \n",
        "l                                                                             \n",
        "\n",
        "                                                                              \n",
        "                   d                                    d                     \n",
        "a(t))*cos(\\phi(t))*--(r(t)*sin(\\phi(t))*sin(\\theta(t)))*--(r(t)*sin(\\theta(t))\n",
        "                   dt                                   dt                    \n",
        "------------------------------------------------------------------------------\n",
        "                              2                                               \n",
        "                          \\ell                                                \n",
        "\n",
        "                                                                              \n",
        "                        2                                               d     \n",
        "*cos(\\phi(t)))   1.0*m*r (t)*sin(\\phi(t))*sin(\\theta(t))*cos(\\theta(t))*--(r(t\n",
        "                                                                        dt    \n",
        "-------------- + -------------------------------------------------------------\n",
        "                                                                            2 \n",
        "                                                                        \\ell  \n",
        "\n",
        "                                                                              \n",
        "                  d                                             2       2     \n",
        ")*cos(\\theta(t)))*--(r(t)*sin(\\phi(t))*sin(\\theta(t)))   0.5*m*r (t)*sin (\\the\n",
        "                  dt                                                          \n",
        "------------------------------------------------------ + ---------------------\n",
        "                                                                              \n",
        "                                                                              \n",
        "\n",
        "                                                           2                  \n",
        "          2          /d                                   \\           2       \n",
        "ta(t))*cos (\\phi(t))*|--(r(t)*sin(\\theta(t))*cos(\\phi(t)))|    1.0*m*r (t)*sin\n",
        "                     \\dt                                  /                   \n",
        "------------------------------------------------------------ + ---------------\n",
        "                     2                                                        \n",
        "                 \\ell                                                         \n",
        "\n",
        "                                                                              \n",
        "                                        d                       d             \n",
        "(\\theta(t))*cos(\\phi(t))*cos(\\theta(t))*--(r(t)*cos(\\theta(t)))*--(r(t)*sin(\\t\n",
        "                                        dt                      dt            \n",
        "------------------------------------------------------------------------------\n",
        "                                            2                                 \n",
        "                                        \\ell                                  \n",
        "\n",
        "                                                                              \n",
        "                                2       2            /d                      \\\n",
        "heta(t))*cos(\\phi(t)))   0.5*m*r (t)*cos (\\theta(t))*|--(r(t)*cos(\\theta(t)))|\n",
        "                                                     \\dt                     /\n",
        "---------------------- + -----------------------------------------------------\n",
        "                                                     2                        \n",
        "                                                 \\ell                         \n",
        "\n",
        "2\n",
        " \n",
        " \n",
        " \n",
        "-\n",
        " \n",
        " "
       ]
      }
     ],
     "prompt_number": 123
    },
    {
     "cell_type": "code",
     "collapsed": false,
     "input": [
      "par_1 = diff(r(t)*sin(\u03b8(t))*cos(\u03d5(t)),t)\n",
      "par_2 = diff(r(t)*sin(\u03b8(t))*sin(\u03d5(t)),t)\n",
      "par_3 = diff(r(t)*cos(\u03b8(t)),t)"
     ],
     "language": "python",
     "metadata": {},
     "outputs": [
      {
       "latex": [
        "$$- r{\\left (t \\right )} \\sin{\\left (\\theta{\\left (t \\right )} \\right )} \\frac{d}{d t} \\theta{\\left (t \\right )} + \\cos{\\left (\\theta{\\left (t \\right )} \\right )} \\frac{d}{d t} r{\\left (t \\right )}$$"
       ],
       "metadata": {},
       "output_type": "pyout",
       "prompt_number": 125,
       "text": [
        "                      d                              d       \n",
        "- r(t)*sin(\\theta(t))*--(\\theta(t)) + cos(\\theta(t))*--(r(t))\n",
        "                      dt                             dt      "
       ]
      }
     ],
     "prompt_number": 125
    },
    {
     "cell_type": "code",
     "collapsed": false,
     "input": [],
     "language": "python",
     "metadata": {},
     "outputs": []
    },
    {
     "cell_type": "code",
     "collapsed": false,
     "input": [
      "Fr=diff(L_polar,r(t));"
     ],
     "language": "python",
     "metadata": {},
     "outputs": [],
     "prompt_number": 115
    },
    {
     "cell_type": "code",
     "collapsed": false,
     "input": [
      "F\u03b8=diff(L_polar,\u03b8(t));"
     ],
     "language": "python",
     "metadata": {},
     "outputs": [],
     "prompt_number": 116
    },
    {
     "cell_type": "code",
     "collapsed": false,
     "input": [
      "F\u03d5 = diff(L_polar,\u03d5(t));"
     ],
     "language": "python",
     "metadata": {},
     "outputs": [],
     "prompt_number": 117
    },
    {
     "cell_type": "code",
     "collapsed": false,
     "input": [
      "Pr = diff(L_polar,diff(r(t),t))"
     ],
     "language": "python",
     "metadata": {},
     "outputs": [
      {
       "latex": [
        "$$0$$"
       ],
       "metadata": {},
       "output_type": "pyout",
       "prompt_number": 118,
       "text": [
        "0"
       ]
      }
     ],
     "prompt_number": 118
    },
    {
     "cell_type": "code",
     "collapsed": false,
     "input": [
      "P\u03b8 = diff(L_polar,diff(\u03b8(t),t))"
     ],
     "language": "python",
     "metadata": {},
     "outputs": [
      {
       "latex": [
        "$$0$$"
       ],
       "metadata": {},
       "output_type": "pyout",
       "prompt_number": 119,
       "text": [
        "0"
       ]
      }
     ],
     "prompt_number": 119
    },
    {
     "cell_type": "code",
     "collapsed": false,
     "input": [
      "P\u03d5 = diff(L_polar,diff(\u03d5(t),t))"
     ],
     "language": "python",
     "metadata": {},
     "outputs": [
      {
       "latex": [
        "$$0$$"
       ],
       "metadata": {},
       "output_type": "pyout",
       "prompt_number": 120,
       "text": [
        "0"
       ]
      }
     ],
     "prompt_number": 120
    },
    {
     "cell_type": "code",
     "collapsed": false,
     "input": [
      "L_polar = subs(L_polar,diff(r(t),t,2),rpp)\n",
      "L_polar = subs(L_polar,diff(\u03b8(t),t,2),\u03b8pp)\n",
      "L_polar = subs(L_polar,diff(\u03d5(t),t,2),\u03d5pp)\n",
      "\n",
      "L_polar = subs(L_polar,diff(r(t),t,1),rp)\n",
      "L_polar = subs(L_polar,diff(\u03b8(t),t,1),\u03b8p)\n",
      "L_polar = subs(L_polar,diff(\u03d5(t),t,1),\u03d5p)"
     ],
     "language": "python",
     "metadata": {},
     "outputs": [
      {
       "metadata": {},
       "output_type": "pyout",
       "prompt_number": 100,
       "text": [
        "2000-element Array{Float32,1}:\n",
        " 5.0003 \n",
        " 5.0006 \n",
        " 5.0009 \n",
        " 5.0012 \n",
        " 5.0015 \n",
        " 5.0018 \n",
        " 5.0021 \n",
        " 5.0024 \n",
        " 5.0027 \n",
        " 5.003  \n",
        " 5.0033 \n",
        " 5.0036 \n",
        " 5.0039 \n",
        " \u22ee      \n",
        " 5.62552\n",
        " 5.62585\n",
        " 5.62618\n",
        " 5.6265 \n",
        " 5.62683\n",
        " 5.62716\n",
        " 5.62748\n",
        " 5.62781\n",
        " 5.62814\n",
        " 5.62847\n",
        " 5.62879\n",
        " 5.62912"
       ]
      }
     ],
     "prompt_number": 100
    },
    {
     "cell_type": "code",
     "collapsed": false,
     "input": [],
     "language": "python",
     "metadata": {},
     "outputs": []
    }
   ],
   "metadata": {}
  }
 ]
}