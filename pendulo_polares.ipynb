{
 "metadata": {
  "language": "Julia",
  "name": "",
  "signature": "sha256:c00e181a5eba8b4e81e23529005dd979b86c5d990a2ff4b0bc66ab3c9b354a58"
 },
 "nbformat": 3,
 "nbformat_minor": 0,
 "worksheets": [
  {
   "cells": [
    {
     "cell_type": "code",
     "collapsed": false,
     "input": [
      "using PyPlot\n",
      "using SymPy"
     ],
     "language": "python",
     "metadata": {},
     "outputs": [
      {
       "output_type": "stream",
       "stream": "stderr",
       "text": [
        "INFO: Loading help data...\n",
        "Warning: imported binding for transpose overwritten in module __anon__\n"
       ]
      }
     ],
     "prompt_number": 1
    },
    {
     "cell_type": "code",
     "collapsed": false,
     "input": [
      "\u03b8 = SymFunction(\"\\\\theta\")\n",
      "\u03b4 = SymFunction(\"\\\\delta\")\n",
      "m, \u03a9, g, \u2113,\u03b1,t = sym\"m,\\Omega,g,\\ell,\\alpha,t\"\n",
      "\u03c90=sqrt(g/\u2113)\n",
      "\u03b2=\u03a9*cos(\u03b1)"
     ],
     "language": "python",
     "metadata": {},
     "outputs": [
      {
       "latex": [
        "$$\\Omega \\cos{\\left (\\alpha \\right )}$$"
       ],
       "metadata": {},
       "output_type": "pyout",
       "prompt_number": 2,
       "text": [
        "\\Omega*cos(\\alpha)"
       ]
      }
     ],
     "prompt_number": 2
    },
    {
     "cell_type": "code",
     "collapsed": false,
     "input": [
      "\u03a9x = -\u03a9*cos(\u03b1)\n",
      "\u03a9z = \u03a9*sin(\u03b1)\n",
      "\u03a9_vector = [\u03a9x,0,\u03a9z]"
     ],
     "language": "python",
     "metadata": {},
     "outputs": [
      {
       "latex": [
        "\\begin{bmatrix}- \\Omega \\cos{\\left (\\alpha \\right )}\\\\0\\\\\\Omega \\sin{\\left (\\alpha \\right )}\\end{bmatrix}"
       ],
       "metadata": {},
       "output_type": "pyout",
       "prompt_number": 3,
       "text": [
        "3-element Array{Sym,1}:\n",
        " -\\Omega*cos(\\alpha)\n",
        " 0                  \n",
        " \\Omega*sin(\\alpha) "
       ]
      }
     ],
     "prompt_number": 3
    },
    {
     "cell_type": "code",
     "collapsed": false,
     "input": [
      "x_esf2=\u2113*sin(\u03b4(t))\n",
      "y_esf2=\u2113*sin(\u03b4(t))\n",
      "z_esf2=\u2113 - \u2113*cos(\u03b4(t))"
     ],
     "language": "python",
     "metadata": {},
     "outputs": [
      {
       "latex": [
        "$$- \\ell \\cos{\\left (\\delta{\\left (t \\right )} \\right )} + \\ell$$"
       ],
       "metadata": {},
       "output_type": "pyout",
       "prompt_number": 4,
       "text": [
        "-\\ell*cos(\\delta(t)) + \\ell"
       ]
      }
     ],
     "prompt_number": 4
    },
    {
     "cell_type": "code",
     "collapsed": false,
     "input": [
      "r_vector = [x_esf2,0,z_esf2];\n",
      "rotacion = [sin(\u03b1) 0 cos(\u03b1);0 1 0;-cos(\u03b1) 0 sin(\u03b1)];\n",
      "rp_vector = rotacion * r_vector;\n",
      "vp_vector = diff(rp_vector,t);\n",
      "#v_vector = [diff(x_esf2,t),0,diff(z_esf2,t)];\n",
      "\u03a9r = \u00d7(\u03a9_vector,r_vector);\n",
      "v_vector = vp_vector + \u03a9r;\n",
      "v_norma = ((v_vector[1]*v_vector[1]) + (v_vector[2]*v_vector[2]) + (v_vector[3]*v_vector[3]));"
     ],
     "language": "python",
     "metadata": {},
     "outputs": [],
     "prompt_number": 5
    },
    {
     "cell_type": "code",
     "collapsed": false,
     "input": [
      "#rotacion = [cos(pi/2- \u03b1) 0 sin(pi/2- \u03b1);0 1 0;-sin(pi/2 - \u03b1) 0 cos(pi/2 - \u03b1)];"
     ],
     "language": "python",
     "metadata": {},
     "outputs": [],
     "prompt_number": 41
    },
    {
     "cell_type": "code",
     "collapsed": false,
     "input": [
      "#coreolis =m*((v_vector[1]*\u03a9r[1]) + (v_vector[2]*\u03a9r[2]) + (v_vector[3]*\u03a9r[3]))\n",
      "#centrifuga = 1/2 * m * ((\u03a9r[1]*\u03a9r[1]) + (\u03a9r[2]*\u03a9r[2])+ (\u03a9r[3]*\u03a9r[3]))\n",
      "#v2 = ((v_vector[1]*v_vector[1]) + (v_vector[2]*v_vector[2]) + (v_vector[3]*v_vector[3]))"
     ],
     "language": "python",
     "metadata": {},
     "outputs": [],
     "prompt_number": 11
    },
    {
     "cell_type": "code",
     "collapsed": false,
     "input": [
      "#L_esf2 = 1/2*m* v2 + coreolis + centrifuga -m*g*z_esf2\n",
      "#L_esf2 = simplify(L_esf2);\n",
      "L = 1/2 *m *v_norma -m*g*z_esf2;"
     ],
     "language": "python",
     "metadata": {},
     "outputs": [],
     "prompt_number": 39
    },
    {
     "cell_type": "code",
     "collapsed": false,
     "input": [
      "F\u03b4 = diff(L,\u03b4(t));\n",
      "P\u03b4 = diff(L,diff(\u03b4(t)));\n",
      "Eq_\u03b4 = diff(P\u03b4,t) - F\u03b4;\n",
      "Eq_\u03b4 = simplify(Eq_\u03b4);"
     ],
     "language": "python",
     "metadata": {},
     "outputs": [],
     "prompt_number": 7
    },
    {
     "cell_type": "code",
     "collapsed": false,
     "input": [
      "\u03b4p,\u03b8p = Sym(\"\\\\dot{\\\\delta}\",\"\\\\dot{\\\\theta}\")\n",
      "\u03b4pp,\u03b8pp = Sym(\"\\\\ddot{\\\\delta}\",\"\\\\ddot{\\\\theta}\")"
     ],
     "language": "python",
     "metadata": {},
     "outputs": [
      {
       "metadata": {},
       "output_type": "pyout",
       "prompt_number": 8,
       "text": [
        "(\\ddot{\\delta},\\ddot{\\theta})"
       ]
      }
     ],
     "prompt_number": 8
    },
    {
     "cell_type": "code",
     "collapsed": false,
     "input": [
      "Eq_\u03b4 = subs(Eq_\u03b4,diff(\u03b4(t),t,2),\u03b4pp);\n",
      "Eq_\u03b4 = subs(Eq_\u03b4,diff(\u03b4(t),t,1),\u03b4p);"
     ],
     "language": "python",
     "metadata": {},
     "outputs": [],
     "prompt_number": 9
    },
    {
     "cell_type": "code",
     "collapsed": false,
     "input": [
      "#Eq_esf\u03b4 = subs(Eq_esf\u03b4,diff(\u03b4(t),t,2),\u03b4pp);\n",
      "#Eq_esf\u03b4 = subs(Eq_esf\u03b4,diff(\u03b8(t),t,2),\u03b82pp);\n",
      "#Eq_esf\u03b4 = subs(Eq_esf\u03b4,diff(\u03b4(t),t,1),\u03b4p);\n",
      "#Eq_esf\u03b4 = subs(Eq_esf\u03b4,diff(\u03b8(t),t,1),\u03b82p);"
     ],
     "language": "python",
     "metadata": {},
     "outputs": [],
     "prompt_number": 12
    },
    {
     "cell_type": "code",
     "collapsed": false,
     "input": [
      "#Eq_esf\u03b8 = subs(Eq_esf\u03b8,diff(\u03b4(t),t,2),\u03b4pp);\n",
      "#Eq_esf\u03b8 = subs(Eq_esf\u03b8,diff(\u03b8(t),t,2),\u03b82pp);\n",
      "#Eq_esf\u03b8 = subs(Eq_esf\u03b8,diff(\u03b4(t),t,1),\u03b4p);\n",
      "#Eq_esf\u03b8 = subs(Eq_esf\u03b8,diff(\u03b8(t),t,1),\u03b82p);"
     ],
     "language": "python",
     "metadata": {},
     "outputs": [],
     "prompt_number": 11
    },
    {
     "cell_type": "code",
     "collapsed": false,
     "input": [
      "sol\u03b4 = solve(Eq_\u03b4,\u03b4pp)\n",
      "sol\u03b4 = sol\u03b4[1]"
     ],
     "language": "python",
     "metadata": {},
     "outputs": [
      {
       "latex": [
        "$$\\frac{1}{\\ell} \\left(0.5 \\Omega^{2} \\ell \\left(\\sin{\\left (2.0 \\alpha + \\delta{\\left (t \\right )} \\right )} - \\sin{\\left (2.0 \\alpha + 2.0 \\delta{\\left (t \\right )} \\right )} + \\sin{\\left (\\delta{\\left (t \\right )} \\right )}\\right) - g \\sin{\\left (\\delta{\\left (t \\right )} \\right )}\\right)$$"
       ],
       "metadata": {},
       "output_type": "pyout",
       "prompt_number": 10,
       "text": [
        "          2                                                                   \n",
        "0.5*\\Omega *\\ell*(sin(2.0*\\alpha + \\delta(t)) - sin(2.0*\\alpha + 2.0*\\delta(t)\n",
        "------------------------------------------------------------------------------\n",
        "                                                        \\ell                  \n",
        "\n",
        "                                      \n",
        ") + sin(\\delta(t))) - g*sin(\\delta(t))\n",
        "--------------------------------------\n",
        "                                      "
       ]
      }
     ],
     "prompt_number": 10
    },
    {
     "cell_type": "code",
     "collapsed": false,
     "input": [
      "#sol\u03b4 = sol\u03b4[2];\n",
      "#sol\u03b8 = sol\u03b8[2];"
     ],
     "language": "python",
     "metadata": {},
     "outputs": [],
     "prompt_number": 83
    },
    {
     "cell_type": "code",
     "collapsed": false,
     "input": [
      "function sympy_to_julia(x::Sym)\n",
      "    expr = PyCall.pyeval(\"str(x)\", x=x.x)\n",
      "    expr = replace(expr, \"**\", \"^\")\n",
      "    expr = replace(expr, \"\\\\dot{y}\", \"yp\");\n",
      "    expr = replace(expr, \"\\\\dot{x}\", \"xp\");\n",
      "    expr = replace(expr, \"\\\\dot{z}\", \"zp\");\n",
      "    \n",
      "    expr = replace(expr, \"\\\\ddot{y}\", \"ypp\");\n",
      "    expr = replace(expr, \"\\\\ddot{x}\", \"xpp\");\n",
      "    expr = replace(expr, \"\\\\ddot{z}\", \"zpp\");\n",
      "    \n",
      "    expr = replace(expr, \"\\\\ddot{\\\\theta}\", \"\u03b82pp\");\n",
      "    expr = replace(expr, \"\\\\dot{\\\\theta}\", \"\u03b82p\");\n",
      "    expr = replace(expr, \"\\\\ddot{\\\\delta}\", \"\u03b4pp\");\n",
      "    expr = replace(expr, \"\\\\dot{\\\\delta}\", \"\u03b4p\");\n",
      "    expr = replace(expr, \"\\\\delta\", \"\u03b4\");\n",
      "    expr = replace(expr, \"\\\\theta\", \"\u03b8\");\n",
      "    #expr = replace(expr, \"\\\\theta\", \"\u03b8\")\n",
      "    expr = replace(expr, \"(t)\",\"\");\n",
      "end"
     ],
     "language": "python",
     "metadata": {},
     "outputs": [
      {
       "metadata": {},
       "output_type": "pyout",
       "prompt_number": 11,
       "text": [
        "sympy_to_julia (generic function with 1 method)"
       ]
      }
     ],
     "prompt_number": 11
    },
    {
     "cell_type": "code",
     "collapsed": false,
     "input": [
      "function asignar_valores(solucion,omega,acel_g,longitud,angulo)\n",
      "    solucion= subs(solucion,\u03a9,omega)\n",
      "    solucion= subs(solucion,\u03b1,angulo)\n",
      "    solucion= subs(solucion,g,acel_g)\n",
      "    solucion= subs(solucion,\u2113,longitud)    \n",
      "    return solucion\n",
      "end"
     ],
     "language": "python",
     "metadata": {},
     "outputs": [
      {
       "metadata": {},
       "output_type": "pyout",
       "prompt_number": 12,
       "text": [
        "asignar_valores (generic function with 1 method)"
       ]
      }
     ],
     "prompt_number": 12
    },
    {
     "cell_type": "code",
     "collapsed": false,
     "input": [
      "#funcion_prueba\u03b8 = asignar_valores(sol\u03b8,0.023,10,2,pi/7);\n",
      "funcion_prueba\u03b4 = asignar_valores(sol\u03b4,0.023,10,2,pi/7);"
     ],
     "language": "python",
     "metadata": {},
     "outputs": [],
     "prompt_number": 13
    },
    {
     "cell_type": "code",
     "collapsed": false,
     "input": [
      "sympy_to_julia(funcion_prueba\u03b4)"
     ],
     "language": "python",
     "metadata": {},
     "outputs": [
      {
       "metadata": {},
       "output_type": "pyout",
       "prompt_number": 14,
       "text": [
        "\"0.0002645*sin(\u03b4 + 0.897597901025655) - 0.0002645*sin(2.0*\u03b4 + 0.897597901025655) - 4.9997355*sin(\u03b4)\""
       ]
      }
     ],
     "prompt_number": 14
    },
    {
     "cell_type": "code",
     "collapsed": false,
     "input": [
      "f\u03b4(\u03b4p,\u03b4)= 0.0002645*sin(\u03b4 + 0.897597901025655) - 0.0002645*sin(2.0*\u03b4 + 0.897597901025655) - 4.9997355*sin(\u03b4)"
     ],
     "language": "python",
     "metadata": {},
     "outputs": [
      {
       "metadata": {},
       "output_type": "pyout",
       "prompt_number": 15,
       "text": [
        "f\u03b4 (generic function with 1 method)"
       ]
      }
     ],
     "prompt_number": 15
    },
    {
     "cell_type": "code",
     "collapsed": false,
     "input": [
      "fderiv(r0,v,t)=f\u03b4(v[1],r0[1])\n",
      "fposicion(r0,v,t)=v"
     ],
     "language": "python",
     "metadata": {},
     "outputs": [
      {
       "metadata": {},
       "output_type": "pyout",
       "prompt_number": 16,
       "text": [
        "fposicion (generic function with 1 method)"
       ]
      }
     ],
     "prompt_number": 16
    },
    {
     "cell_type": "code",
     "collapsed": false,
     "input": [
      "function euler_cromer(q0,v0,t0,tf,h,f_q,f_v)\n",
      "    tf=tf\n",
      "    q = Vector{Float32}[]\n",
      "    v = Vector{Float32}[]\n",
      "    t = Float32[]\n",
      "    for ti in t0:h:tf\n",
      "        v_nueva = v0 + h*f_v(q0,v0,ti)\n",
      "        q_nueva = q0 + h*f_q(q0,v_nueva,ti)\n",
      "        q0 = q_nueva\n",
      "        v0 = v_nueva\n",
      "        push!(t,ti)\n",
      "        push!(q,q0)\n",
      "        push!(v,v0)\n",
      "        \n",
      "        #if paro(ti,q0,v0) == true\n",
      "            #break\n",
      "        #end\n",
      "    end\n",
      "    t,hcat(q...)',hcat(v...)'\n",
      "end"
     ],
     "language": "python",
     "metadata": {},
     "outputs": [
      {
       "metadata": {},
       "output_type": "pyout",
       "prompt_number": 17,
       "text": [
        "euler_cromer (generic function with 1 method)"
       ]
      }
     ],
     "prompt_number": 17
    },
    {
     "cell_type": "code",
     "collapsed": false,
     "input": [
      "t_polar,pos_polar,vel_polar=euler_cromer([pi/4],[0.7],0.0,10.0,1e-4,fposicion,fderiv);"
     ],
     "language": "python",
     "metadata": {},
     "outputs": [],
     "prompt_number": 18
    },
    {
     "cell_type": "code",
     "collapsed": false,
     "input": [
      "xs = 2*sin(pos_polar)\n",
      "zs = 2 - 2*cos(pos_polar)\n",
      "plot(xs,zs)"
     ],
     "language": "python",
     "metadata": {},
     "outputs": [
      {
       "metadata": {},
       "output_type": "display_data",
       "png": "[encoded data removed]",
       "text": [
        "Figure(PyObject <matplotlib.figure.Figure object at 0xb185a64c>)"
       ]
      },
      {
       "metadata": {},
       "output_type": "pyout",
       "prompt_number": 19,
       "text": [
        "1-element Array{Any,1}:\n",
        " PyObject <matplotlib.lines.Line2D object at 0xab5cd0cc>"
       ]
      }
     ],
     "prompt_number": 19
    },
    {
     "cell_type": "code",
     "collapsed": false,
     "input": [
      "#x_s = 2* sin(pos_polar)\n",
      "#y_s = 2\n",
      "#z_s = 2-(2* sin(pos_polar));\n"
     ],
     "language": "python",
     "metadata": {},
     "outputs": [],
     "prompt_number": 25
    },
    {
     "cell_type": "heading",
     "level": 2,
     "metadata": {},
     "source": [
      "Generalizando a 3D con $\\delta$ y $\\theta$."
     ]
    },
    {
     "cell_type": "heading",
     "level": 2,
     "metadata": {},
     "source": [
      "Enfoque con L en sistema no inercial y despreciando Fcen. (ignorar esta parte)"
     ]
    },
    {
     "cell_type": "code",
     "collapsed": false,
     "input": [
      "\u03a9r3=[-\u03a9*cos(\u03b1),0,\u03a9*sin(\u03b1)];\n",
      "r3_vect=[x_esf,y_esf,z_esf]\n",
      "vp3_vect=diff(r3_vect,t);\n",
      "v3_vec=vp3_vect + \u00d7(\u03a9r3,r3_vect)\n",
      "norma_vp3_vect=(vp3_vect[1]*vp3_vect[1] + vp3_vect[2]*vp3_vect[2] + vp3_vect[3]*vp3_vect[3])\n",
      "#r_c_rp=\u00d7(r3_vect,vp3_vect)\n",
      "vp3_vect=[vp3_vect[1],vp3_vect[2],vp3_vect[3]]\n",
      "r_c_rp=\u00d7(r3_vect,vp3_vect)\n",
      "r_c_rp=[r_c_rp[1],r_c_rp[2],r_c_rp[3]]\n",
      "\u22c5(\u03a9r3,r_c_rp)\n",
      "#v3_norma=norma_vp3_vect + 2*(\u22c5(\u03a9r3,r_c_rp))"
     ],
     "language": "python",
     "metadata": {},
     "outputs": [
      {
       "latex": [
        "$$\\left(- \\ell \\left(- \\ell \\sin{\\left (\\delta{\\left (t \\right )} \\right )} \\sin{\\left (\\theta{\\left (t \\right )} \\right )} \\frac{d}{d t} \\theta{\\left (t \\right )} + \\ell \\cos{\\left (\\delta{\\left (t \\right )} \\right )} \\cos{\\left (\\theta{\\left (t \\right )} \\right )} \\frac{d}{d t} \\delta{\\left (t \\right )}\\right) \\sin{\\left (\\delta{\\left (t \\right )} \\right )} \\sin{\\left (\\theta{\\left (t \\right )} \\right )} + \\ell \\left(\\ell \\sin{\\left (\\delta{\\left (t \\right )} \\right )} \\cos{\\left (\\theta{\\left (t \\right )} \\right )} \\frac{d}{d t} \\theta{\\left (t \\right )} + \\ell \\sin{\\left (\\theta{\\left (t \\right )} \\right )} \\cos{\\left (\\delta{\\left (t \\right )} \\right )} \\frac{d}{d t} \\delta{\\left (t \\right )}\\right) \\sin{\\left (\\delta{\\left (t \\right )} \\right )} \\cos{\\left (\\theta{\\left (t \\right )} \\right )}\\right) \\sin{\\left (\\overline{\\alpha} \\right )} \\overline{\\Omega} - \\left(\\ell^{2} \\sin^{2}{\\left (\\delta{\\left (t \\right )} \\right )} \\sin{\\left (\\theta{\\left (t \\right )} \\right )} \\frac{d}{d t} \\delta{\\left (t \\right )} - \\left(- \\ell \\cos{\\left (\\delta{\\left (t \\right )} \\right )} + \\ell\\right) \\left(\\ell \\sin{\\left (\\delta{\\left (t \\right )} \\right )} \\cos{\\left (\\theta{\\left (t \\right )} \\right )} \\frac{d}{d t} \\theta{\\left (t \\right )} + \\ell \\sin{\\left (\\theta{\\left (t \\right )} \\right )} \\cos{\\left (\\delta{\\left (t \\right )} \\right )} \\frac{d}{d t} \\delta{\\left (t \\right )}\\right)\\right) \\cos{\\left (\\overline{\\alpha} \\right )} \\overline{\\Omega}$$"
       ],
       "metadata": {},
       "output_type": "pyout",
       "prompt_number": 41,
       "text": [
        "/       /                                     d                               \n",
        "|- \\ell*|- \\ell*sin(\\delta(t))*sin(\\theta(t))*--(\\theta(t)) + \\ell*cos(\\delta(\n",
        "\\       \\                                     dt                              \n",
        "\n",
        "                   d            \\                                      /      \n",
        "t))*cos(\\theta(t))*--(\\delta(t))|*sin(\\delta(t))*sin(\\theta(t)) + \\ell*|\\ell*s\n",
        "                   dt           /                                      \\      \n",
        "\n",
        "                             d                                                \n",
        "in(\\delta(t))*cos(\\theta(t))*--(\\theta(t)) + \\ell*sin(\\theta(t))*cos(\\delta(t)\n",
        "                             dt                                               \n",
        "\n",
        "  d            \\                              \\    /______\\ ______   /    2   \n",
        ")*--(\\delta(t))|*sin(\\delta(t))*cos(\\theta(t))|*sin\\\\alpha/*\\Omega - |\\ell *si\n",
        "  dt           /                              /                      \\        \n",
        "\n",
        " 2                           d                                             /  \n",
        "n (\\delta(t))*sin(\\theta(t))*--(\\delta(t)) - (-\\ell*cos(\\delta(t)) + \\ell)*|\\e\n",
        "                             dt                                            \\  \n",
        "\n",
        "                                 d                                            \n",
        "ll*sin(\\delta(t))*cos(\\theta(t))*--(\\theta(t)) + \\ell*sin(\\theta(t))*cos(\\delt\n",
        "                                 dt                                           \n",
        "\n",
        "      d            \\\\    /______\\ ______\n",
        "a(t))*--(\\delta(t))||*cos\\\\alpha/*\\Omega\n",
        "      dt           //                   "
       ]
      }
     ],
     "prompt_number": 41
    },
    {
     "cell_type": "code",
     "collapsed": false,
     "input": [
      "L4= m/2*v3_norma - m*g*z_esf;"
     ],
     "language": "python",
     "metadata": {},
     "outputs": [
      {
       "latex": [
        "$$- g m \\left(- \\ell \\cos{\\left (\\delta{\\left (t \\right )} \\right )} + \\ell\\right) + \\frac{m}{2} \\left(\\ell^{2} \\sin^{2}{\\left (\\delta{\\left (t \\right )} \\right )} \\left(\\frac{d}{d t} \\delta{\\left (t \\right )}\\right)^{2} + 2 \\left(- \\ell \\left(- \\ell \\sin{\\left (\\delta{\\left (t \\right )} \\right )} \\sin{\\left (\\theta{\\left (t \\right )} \\right )} \\frac{d}{d t} \\theta{\\left (t \\right )} + \\ell \\cos{\\left (\\delta{\\left (t \\right )} \\right )} \\cos{\\left (\\theta{\\left (t \\right )} \\right )} \\frac{d}{d t} \\delta{\\left (t \\right )}\\right) \\sin{\\left (\\delta{\\left (t \\right )} \\right )} \\sin{\\left (\\theta{\\left (t \\right )} \\right )} + \\ell \\left(\\ell \\sin{\\left (\\delta{\\left (t \\right )} \\right )} \\cos{\\left (\\theta{\\left (t \\right )} \\right )} \\frac{d}{d t} \\theta{\\left (t \\right )} + \\ell \\sin{\\left (\\theta{\\left (t \\right )} \\right )} \\cos{\\left (\\delta{\\left (t \\right )} \\right )} \\frac{d}{d t} \\delta{\\left (t \\right )}\\right) \\sin{\\left (\\delta{\\left (t \\right )} \\right )} \\cos{\\left (\\theta{\\left (t \\right )} \\right )}\\right) \\sin{\\left (\\overline{\\alpha} \\right )} \\overline{\\Omega} + \\left(- \\ell \\sin{\\left (\\delta{\\left (t \\right )} \\right )} \\sin{\\left (\\theta{\\left (t \\right )} \\right )} \\frac{d}{d t} \\theta{\\left (t \\right )} + \\ell \\cos{\\left (\\delta{\\left (t \\right )} \\right )} \\cos{\\left (\\theta{\\left (t \\right )} \\right )} \\frac{d}{d t} \\delta{\\left (t \\right )}\\right)^{2} + \\left(\\ell \\sin{\\left (\\delta{\\left (t \\right )} \\right )} \\cos{\\left (\\theta{\\left (t \\right )} \\right )} \\frac{d}{d t} \\theta{\\left (t \\right )} + \\ell \\sin{\\left (\\theta{\\left (t \\right )} \\right )} \\cos{\\left (\\delta{\\left (t \\right )} \\right )} \\frac{d}{d t} \\delta{\\left (t \\right )}\\right)^{2} - 2 \\left(\\ell^{2} \\sin^{2}{\\left (\\delta{\\left (t \\right )} \\right )} \\sin{\\left (\\theta{\\left (t \\right )} \\right )} \\frac{d}{d t} \\delta{\\left (t \\right )} - \\left(- \\ell \\cos{\\left (\\delta{\\left (t \\right )} \\right )} + \\ell\\right) \\left(\\ell \\sin{\\left (\\delta{\\left (t \\right )} \\right )} \\cos{\\left (\\theta{\\left (t \\right )} \\right )} \\frac{d}{d t} \\theta{\\left (t \\right )} + \\ell \\sin{\\left (\\theta{\\left (t \\right )} \\right )} \\cos{\\left (\\delta{\\left (t \\right )} \\right )} \\frac{d}{d t} \\delta{\\left (t \\right )}\\right)\\right) \\cos{\\left (\\overline{\\alpha} \\right )} \\overline{\\Omega}\\right)$$"
       ],
       "metadata": {},
       "output_type": "pyout",
       "prompt_number": 38,
       "text": [
        "                                       /                                     2\n",
        "                                       |    2    2            /d            \\ \n",
        "                                     m*|\\ell *sin (\\delta(t))*|--(\\delta(t))| \n",
        "                                       \\                      \\dt           / \n",
        "-g*m*(-\\ell*cos(\\delta(t)) + \\ell) + -----------------------------------------\n",
        "                                                                              \n",
        "\n",
        "                                                                              \n",
        "     /       /                                     d                          \n",
        " + 2*|- \\ell*|- \\ell*sin(\\delta(t))*sin(\\theta(t))*--(\\theta(t)) + \\ell*cos(\\d\n",
        "     \\       \\                                     dt                         \n",
        "------------------------------------------------------------------------------\n",
        "                                                                              \n",
        "\n",
        "                                                                              \n",
        "                        d            \\                                      / \n",
        "elta(t))*cos(\\theta(t))*--(\\delta(t))|*sin(\\delta(t))*sin(\\theta(t)) + \\ell*|\\\n",
        "                        dt           /                                      \\ \n",
        "------------------------------------------------------------------------------\n",
        "                                                                              \n",
        "\n",
        "                                                                              \n",
        "                                  d                                           \n",
        "ell*sin(\\delta(t))*cos(\\theta(t))*--(\\theta(t)) + \\ell*sin(\\theta(t))*cos(\\del\n",
        "                                  dt                                          \n",
        "------------------------------------------------------------------------------\n",
        "                                                                              \n",
        "\n",
        "                                                                              \n",
        "       d            \\                              \\    /______\\ ______   /   \n",
        "ta(t))*--(\\delta(t))|*sin(\\delta(t))*cos(\\theta(t))|*sin\\\\alpha/*\\Omega + |- \\\n",
        "       dt           /                              /                      \\   \n",
        "------------------------------------------------------------------------------\n",
        "                                                                              \n",
        "\n",
        "                                                                              \n",
        "                                  d                                           \n",
        "ell*sin(\\delta(t))*sin(\\theta(t))*--(\\theta(t)) + \\ell*cos(\\delta(t))*cos(\\the\n",
        "                                  dt                                          \n",
        "------------------------------------------------------------------------------\n",
        "                               2                                              \n",
        "\n",
        "                     2                                                        \n",
        "       d            \\    /                                   d                \n",
        "ta(t))*--(\\delta(t))|  + |\\ell*sin(\\delta(t))*cos(\\theta(t))*--(\\theta(t)) + \\\n",
        "       dt           /    \\                                   dt               \n",
        "------------------------------------------------------------------------------\n",
        "                                                                              \n",
        "\n",
        "                                                2                             \n",
        "                                  d            \\      /    2    2             \n",
        "ell*sin(\\theta(t))*cos(\\delta(t))*--(\\delta(t))|  - 2*|\\ell *sin (\\delta(t))*s\n",
        "                                  dt           /      \\                       \n",
        "------------------------------------------------------------------------------\n",
        "                                                                              \n",
        "\n",
        "                                                                              \n",
        "              d                                             /                 \n",
        "in(\\theta(t))*--(\\delta(t)) - (-\\ell*cos(\\delta(t)) + \\ell)*|\\ell*sin(\\delta(t\n",
        "              dt                                            \\                 \n",
        "------------------------------------------------------------------------------\n",
        "                                                                              \n",
        "\n",
        "                                                                              \n",
        "                  d                                                  d        \n",
        "))*cos(\\theta(t))*--(\\theta(t)) + \\ell*sin(\\theta(t))*cos(\\delta(t))*--(\\delta\n",
        "                  dt                                                 dt       \n",
        "------------------------------------------------------------------------------\n",
        "                                                                              \n",
        "\n",
        "                         \\\n",
        "    \\\\    /______\\ ______|\n",
        "(t))||*cos\\\\alpha/*\\Omega|\n",
        "    //                   /\n",
        "--------------------------\n",
        "                          "
       ]
      }
     ],
     "prompt_number": 38
    },
    {
     "cell_type": "code",
     "collapsed": false,
     "input": [
      "Eq3_\u03b8=diff(diff(L,diff(\u03b8(t),t)),t) - diff(L,\u03b8(t))"
     ],
     "language": "python",
     "metadata": {},
     "outputs": [
      {
       "latex": [
        "$$0$$"
       ],
       "metadata": {},
       "output_type": "pyout",
       "prompt_number": 40,
       "text": [
        "0"
       ]
      }
     ],
     "prompt_number": 40
    },
    {
     "cell_type": "heading",
     "level": 2,
     "metadata": {},
     "source": [
      "(Dejar de ignorar)"
     ]
    },
    {
     "cell_type": "code",
     "collapsed": false,
     "input": [
      "x_esf = \u2113*sin(\u03b4(t))*cos(\u03b8(t))\n",
      "y_esf = \u2113*sin(\u03b4(t))*sin(\u03b8(t))\n",
      "z_esf = \u2113 - \u2113*cos(\u03b4(t))"
     ],
     "language": "python",
     "metadata": {},
     "outputs": [
      {
       "latex": [
        "$$- \\ell \\cos{\\left (\\delta{\\left (t \\right )} \\right )} + \\ell$$"
       ],
       "metadata": {},
       "output_type": "pyout",
       "prompt_number": 20,
       "text": [
        "-\\ell*cos(\\delta(t)) + \\ell"
       ]
      }
     ],
     "prompt_number": 20
    },
    {
     "cell_type": "code",
     "collapsed": false,
     "input": [
      "rotacion * r2_vec"
     ],
     "language": "python",
     "metadata": {},
     "outputs": [
      {
       "latex": [
        "\\begin{bmatrix}\\ell \\sin{\\left (\\alpha \\right )} \\sin{\\left (\\delta{\\left (t \\right )} \\right )} \\cos{\\left (\\theta{\\left (t \\right )} \\right )} + \\left(- \\ell \\cos{\\left (\\delta{\\left (t \\right )} \\right )} + \\ell\\right) \\cos{\\left (\\alpha \\right )}\\\\\\ell \\sin{\\left (\\delta{\\left (t \\right )} \\right )} \\sin{\\left (\\theta{\\left (t \\right )} \\right )}\\\\- \\ell \\sin{\\left (\\delta{\\left (t \\right )} \\right )} \\cos{\\left (\\alpha \\right )} \\cos{\\left (\\theta{\\left (t \\right )} \\right )} + \\left(- \\ell \\cos{\\left (\\delta{\\left (t \\right )} \\right )} + \\ell\\right) \\sin{\\left (\\alpha \\right )}\\end{bmatrix}"
       ],
       "metadata": {},
       "output_type": "pyout",
       "prompt_number": 58,
       "text": [
        "3-element Array{Sym,1}:\n",
        " \\ell*sin(\\alpha)*sin(\\delta(t))*cos(\\theta(t)) + (-\\ell*cos(\\delta(t)) + \\ell)\n",
        "*cos(\\alpha) \n",
        " \\ell*sin(\\delta(t))*sin(\\theta(t))                                                          \n",
        " -\\ell*sin(\\delta(t))*cos(\\alpha)*cos(\\theta(t)) + (-\\ell*cos(\\delta(t)) + \\ell\n",
        ")*sin(\\alpha)"
       ]
      }
     ],
     "prompt_number": 58
    },
    {
     "cell_type": "code",
     "collapsed": false,
     "input": [
      "r2_vec = [x_esf,y_esf,z_esf];\n",
      "r2p_vec = rotacion * r2_vec;\n",
      "v2p_vec = diff(r2p_vec,t);\n",
      "\u03a9r2 = \u00d7(\u03a9_vector,r2_vec);\n",
      "v2_vec = v2p_vec + \u03a9r2;\n",
      "v2_norma2 = ((v2_vec[1]*v2_vec[1]) + (v2_vec[2]*v2_vec[2]) + (v2_vec[3]*v2_vec[3]));\n",
      "v2_norma2 = simplify(v2_norma2)"
     ],
     "language": "python",
     "metadata": {},
     "outputs": [
      {
       "latex": [
        "$$\\ell^{2} \\left(\\left(- \\Omega \\left(\\cos{\\left (\\delta{\\left (t \\right )} \\right )} - 1\\right) \\cos{\\left (\\alpha \\right )} + \\Omega \\sin{\\left (\\alpha \\right )} \\sin{\\left (\\delta{\\left (t \\right )} \\right )} \\cos{\\left (\\theta{\\left (t \\right )} \\right )} + \\sin{\\left (\\delta{\\left (t \\right )} \\right )} \\cos{\\left (\\theta{\\left (t \\right )} \\right )} \\frac{d}{d t} \\theta{\\left (t \\right )} + \\sin{\\left (\\theta{\\left (t \\right )} \\right )} \\cos{\\left (\\delta{\\left (t \\right )} \\right )} \\frac{d}{d t} \\delta{\\left (t \\right )}\\right)^{2} + \\left(\\Omega \\sin{\\left (\\alpha \\right )} \\sin{\\left (\\delta{\\left (t \\right )} \\right )} \\sin{\\left (\\theta{\\left (t \\right )} \\right )} + \\sin{\\left (\\alpha \\right )} \\sin{\\left (\\delta{\\left (t \\right )} \\right )} \\sin{\\left (\\theta{\\left (t \\right )} \\right )} \\frac{d}{d t} \\theta{\\left (t \\right )} - \\sin{\\left (\\alpha \\right )} \\cos{\\left (\\delta{\\left (t \\right )} \\right )} \\cos{\\left (\\theta{\\left (t \\right )} \\right )} \\frac{d}{d t} \\delta{\\left (t \\right )} - \\sin{\\left (\\delta{\\left (t \\right )} \\right )} \\cos{\\left (\\alpha \\right )} \\frac{d}{d t} \\delta{\\left (t \\right )}\\right)^{2} + \\left(\\Omega \\sin{\\left (\\delta{\\left (t \\right )} \\right )} \\sin{\\left (\\theta{\\left (t \\right )} \\right )} \\cos{\\left (\\alpha \\right )} - \\sin{\\left (\\alpha \\right )} \\sin{\\left (\\delta{\\left (t \\right )} \\right )} \\frac{d}{d t} \\delta{\\left (t \\right )} - \\sin{\\left (\\delta{\\left (t \\right )} \\right )} \\sin{\\left (\\theta{\\left (t \\right )} \\right )} \\cos{\\left (\\alpha \\right )} \\frac{d}{d t} \\theta{\\left (t \\right )} + \\cos{\\left (\\alpha \\right )} \\cos{\\left (\\delta{\\left (t \\right )} \\right )} \\cos{\\left (\\theta{\\left (t \\right )} \\right )} \\frac{d}{d t} \\delta{\\left (t \\right )}\\right)^{2}\\right)$$"
       ],
       "metadata": {},
       "output_type": "pyout",
       "prompt_number": 60,
       "text": [
        "      /                                                                       \n",
        "    2 |/                                                                      \n",
        "\\ell *||-\\Omega*(cos(\\delta(t)) - 1)*cos(\\alpha) + \\Omega*sin(\\alpha)*sin(\\del\n",
        "      \\\\                                                                      \n",
        "\n",
        "                                                                              \n",
        "                                                      d                       \n",
        "ta(t))*cos(\\theta(t)) + sin(\\delta(t))*cos(\\theta(t))*--(\\theta(t)) + sin(\\the\n",
        "                                                      dt                      \n",
        "\n",
        "                                    2                                         \n",
        "                      d            \\    /                                     \n",
        "ta(t))*cos(\\delta(t))*--(\\delta(t))|  + |\\Omega*sin(\\alpha)*sin(\\delta(t))*sin\n",
        "                      dt           /    \\                                     \n",
        "\n",
        "                                                                              \n",
        "                                                        d                     \n",
        "(\\theta(t)) + sin(\\alpha)*sin(\\delta(t))*sin(\\theta(t))*--(\\theta(t)) - sin(\\a\n",
        "                                                        dt                    \n",
        "\n",
        "                                                                              \n",
        "                                    d                                         \n",
        "lpha)*cos(\\delta(t))*cos(\\theta(t))*--(\\delta(t)) - sin(\\delta(t))*cos(\\alpha)\n",
        "                                    dt                                        \n",
        "\n",
        "               2                                                              \n",
        " d            \\    /                                                          \n",
        "*--(\\delta(t))|  + |\\Omega*sin(\\delta(t))*sin(\\theta(t))*cos(\\alpha) - sin(\\al\n",
        " dt           /    \\                                                          \n",
        "\n",
        "                                                                              \n",
        "                    d                                                         \n",
        "pha)*sin(\\delta(t))*--(\\delta(t)) - sin(\\delta(t))*sin(\\theta(t))*cos(\\alpha)*\n",
        "                    dt                                                        \n",
        "\n",
        "                                                                        2\\\n",
        "d                                                         d            \\ |\n",
        "--(\\theta(t)) + cos(\\alpha)*cos(\\delta(t))*cos(\\theta(t))*--(\\delta(t))| |\n",
        "dt                                                        dt           / /"
       ]
      }
     ],
     "prompt_number": 60
    },
    {
     "cell_type": "code",
     "collapsed": false,
     "input": [
      "L2 = 1/2 *m*v2_norma2 -(m*g*z_esf)"
     ],
     "language": "python",
     "metadata": {},
     "outputs": [
      {
       "latex": [
        "$$0.5 \\ell^{2} m \\left(\\left(- \\Omega \\left(\\cos{\\left (\\delta{\\left (t \\right )} \\right )} - 1\\right) \\cos{\\left (\\alpha \\right )} + \\Omega \\sin{\\left (\\alpha \\right )} \\sin{\\left (\\delta{\\left (t \\right )} \\right )} \\cos{\\left (\\theta{\\left (t \\right )} \\right )} + \\sin{\\left (\\delta{\\left (t \\right )} \\right )} \\cos{\\left (\\theta{\\left (t \\right )} \\right )} \\frac{d}{d t} \\theta{\\left (t \\right )} + \\sin{\\left (\\theta{\\left (t \\right )} \\right )} \\cos{\\left (\\delta{\\left (t \\right )} \\right )} \\frac{d}{d t} \\delta{\\left (t \\right )}\\right)^{2} + \\left(\\Omega \\sin{\\left (\\alpha \\right )} \\sin{\\left (\\delta{\\left (t \\right )} \\right )} \\sin{\\left (\\theta{\\left (t \\right )} \\right )} + \\sin{\\left (\\alpha \\right )} \\sin{\\left (\\delta{\\left (t \\right )} \\right )} \\sin{\\left (\\theta{\\left (t \\right )} \\right )} \\frac{d}{d t} \\theta{\\left (t \\right )} - \\sin{\\left (\\alpha \\right )} \\cos{\\left (\\delta{\\left (t \\right )} \\right )} \\cos{\\left (\\theta{\\left (t \\right )} \\right )} \\frac{d}{d t} \\delta{\\left (t \\right )} - \\sin{\\left (\\delta{\\left (t \\right )} \\right )} \\cos{\\left (\\alpha \\right )} \\frac{d}{d t} \\delta{\\left (t \\right )}\\right)^{2} + \\left(\\Omega \\sin{\\left (\\delta{\\left (t \\right )} \\right )} \\sin{\\left (\\theta{\\left (t \\right )} \\right )} \\cos{\\left (\\alpha \\right )} - \\sin{\\left (\\alpha \\right )} \\sin{\\left (\\delta{\\left (t \\right )} \\right )} \\frac{d}{d t} \\delta{\\left (t \\right )} - \\sin{\\left (\\delta{\\left (t \\right )} \\right )} \\sin{\\left (\\theta{\\left (t \\right )} \\right )} \\cos{\\left (\\alpha \\right )} \\frac{d}{d t} \\theta{\\left (t \\right )} + \\cos{\\left (\\alpha \\right )} \\cos{\\left (\\delta{\\left (t \\right )} \\right )} \\cos{\\left (\\theta{\\left (t \\right )} \\right )} \\frac{d}{d t} \\delta{\\left (t \\right )}\\right)^{2}\\right) - g m \\left(- \\ell \\cos{\\left (\\delta{\\left (t \\right )} \\right )} + \\ell\\right)$$"
       ],
       "metadata": {},
       "output_type": "pyout",
       "prompt_number": 61,
       "text": [
        "            /                                                                 \n",
        "        2   |/                                                                \n",
        "0.5*\\ell *m*||-\\Omega*(cos(\\delta(t)) - 1)*cos(\\alpha) + \\Omega*sin(\\alpha)*si\n",
        "            \\\\                                                                \n",
        "\n",
        "                                                                              \n",
        "                                                            d                 \n",
        "n(\\delta(t))*cos(\\theta(t)) + sin(\\delta(t))*cos(\\theta(t))*--(\\theta(t)) + si\n",
        "                                                            dt                \n",
        "\n",
        "                                          2                                   \n",
        "                            d            \\    /                               \n",
        "n(\\theta(t))*cos(\\delta(t))*--(\\delta(t))|  + |\\Omega*sin(\\alpha)*sin(\\delta(t\n",
        "                            dt           /    \\                               \n",
        "\n",
        "                                                                              \n",
        "                                                              d               \n",
        "))*sin(\\theta(t)) + sin(\\alpha)*sin(\\delta(t))*sin(\\theta(t))*--(\\theta(t)) - \n",
        "                                                              dt              \n",
        "\n",
        "                                                                              \n",
        "                                          d                                   \n",
        "sin(\\alpha)*cos(\\delta(t))*cos(\\theta(t))*--(\\delta(t)) - sin(\\delta(t))*cos(\\\n",
        "                                          dt                                  \n",
        "\n",
        "                     2                                                        \n",
        "       d            \\    /                                                    \n",
        "alpha)*--(\\delta(t))|  + |\\Omega*sin(\\delta(t))*sin(\\theta(t))*cos(\\alpha) - s\n",
        "       dt           /    \\                                                    \n",
        "\n",
        "                                                                              \n",
        "                          d                                                   \n",
        "in(\\alpha)*sin(\\delta(t))*--(\\delta(t)) - sin(\\delta(t))*sin(\\theta(t))*cos(\\a\n",
        "                          dt                                                  \n",
        "\n",
        "                                                                              \n",
        "      d                                                         d            \\\n",
        "lpha)*--(\\theta(t)) + cos(\\alpha)*cos(\\delta(t))*cos(\\theta(t))*--(\\delta(t))|\n",
        "      dt                                                        dt           /\n",
        "\n",
        "2\\                                    \n",
        " |                                    \n",
        " | - g*m*(-\\ell*cos(\\delta(t)) + \\ell)\n",
        " /                                    "
       ]
      }
     ],
     "prompt_number": 61
    },
    {
     "cell_type": "code",
     "collapsed": false,
     "input": [
      "#F\u03b4 = diff(L_esf2,\u03b4(t));\n",
      "#F\u03b8 = diff(L_esf2,\u03b8(t));\n",
      "#P\u03b4 = diff(L_esf2,diff(\u03b4(t),t));\n",
      "#P\u03b8 = diff(L_esf2,diff(\u03b8(t),t));\n",
      "F2\u03b4 = diff(L2,\u03b4(t));\n",
      "F\u03b8 = diff(L2,\u03b8(t));\n",
      "P2\u03b4 = diff(L2,diff(\u03b4(t)));\n",
      "P\u03b8 = diff(L2,diff(\u03b8(t),t))\n",
      "Eq2_\u03b4 = diff(P2\u03b4,t) - F2\u03b4;\n",
      "Eq2_\u03b4 = simplify(Eq_\u03b4);\n",
      "Eq_\u03b8 = diff(P\u03b8,t) - F\u03b8;\n",
      "Eq_\u03b8 = simplify(Eq_\u03b8);"
     ],
     "language": "python",
     "metadata": {},
     "outputs": [],
     "prompt_number": 62
    },
    {
     "cell_type": "code",
     "collapsed": false,
     "input": [
      "#Eq_esf\u03b4 = diff(P\u03b4,t) - F\u03b4;\n",
      "#Eq_esf\u03b8 = diff(P\u03b8,t) - F\u03b8\n",
      "Eq2_\u03b4 = subs(Eq2_\u03b4,diff(\u03b4(t),t,2),\u03b4pp);\n",
      "Eq2_\u03b4 = subs(Eq2_\u03b4,diff(\u03b4(t),t,1),\u03b4p);\n",
      "Eq2_\u03b4 = subs(Eq2_\u03b4,diff(\u03b8(t),t,2),\u03b8pp);\n",
      "Eq2_\u03b4 = subs(Eq2_\u03b4,diff(\u03b8(t),t,1),\u03b8p);\n",
      "\n",
      "Eq_\u03b8 = subs(Eq_\u03b8,diff(\u03b4(t),t,2),\u03b4pp);\n",
      "Eq_\u03b8 = subs(Eq_\u03b8,diff(\u03b4(t),t,1),\u03b4p);\n",
      "Eq_\u03b8 = subs(Eq_\u03b8,diff(\u03b8(t),t,2),\u03b8pp);\n",
      "Eq_\u03b8 = subs(Eq_\u03b8,diff(\u03b8(t),t,1),\u03b8p);"
     ],
     "language": "python",
     "metadata": {},
     "outputs": [],
     "prompt_number": 63
    },
    {
     "cell_type": "code",
     "collapsed": false,
     "input": [
      "(sol\u03b8,sol2\u03b4)=solve([Eq_\u03b8,Eq2_\u03b4],[\u03b8pp,\u03b4pp])"
     ],
     "language": "python",
     "metadata": {},
     "outputs": [
      {
       "latex": [
        "\\begin{equation*}\\begin{cases}\\ddot{\\theta} & \\text{=>} &\\frac{\\Omega^{2} \\sin{\\left (\\alpha \\right )} \\cos{\\left (\\alpha \\right )}}{\\tan{\\left (\\delta{\\left (t \\right )} \\right )}} \\sin{\\left (\\theta{\\left (t \\right )} \\right )} - \\frac{\\Omega^{2} \\sin{\\left (\\alpha \\right )} \\cos{\\left (\\alpha \\right )}}{\\sin{\\left (\\delta{\\left (t \\right )} \\right )}} \\sin{\\left (\\theta{\\left (t \\right )} \\right )} + \\Omega^{2} \\sin{\\left (\\theta{\\left (t \\right )} \\right )} \\cos^{2}{\\left (\\alpha \\right )} \\cos{\\left (\\theta{\\left (t \\right )} \\right )} - 2.0 \\Omega \\dot{\\delta} \\sin{\\left (\\alpha \\right )} \\cos{\\left (\\alpha \\right )} \\cos{\\left (\\theta{\\left (t \\right )} \\right )} - \\frac{\\Omega \\dot{\\delta} \\sin{\\left (\\alpha \\right )}}{\\tan{\\left (\\delta{\\left (t \\right )} \\right )}} + \\frac{2.0 \\Omega \\dot{\\delta} \\cos^{2}{\\left (\\alpha \\right )}}{\\tan{\\left (\\delta{\\left (t \\right )} \\right )}} - \\Omega \\dot{\\delta} \\cos{\\left (\\alpha \\right )} \\cos{\\left (\\theta{\\left (t \\right )} \\right )} - \\frac{\\Omega \\dot{\\delta}}{\\tan{\\left (\\delta{\\left (t \\right )} \\right )}} - \\frac{2.0 \\dot{\\delta} \\dot{\\theta}}{\\tan{\\left (\\delta{\\left (t \\right )} \\right )}}\\\\\\ddot{\\delta} & \\text{=>} &0.5 \\Omega^{2} \\sin{\\left (2.0 \\alpha + \\delta{\\left (t \\right )} \\right )} - 0.5 \\Omega^{2} \\sin{\\left (2.0 \\alpha + 2.0 \\delta{\\left (t \\right )} \\right )} + 0.5 \\Omega^{2} \\sin{\\left (\\delta{\\left (t \\right )} \\right )} - \\frac{g}{\\ell} \\sin{\\left (\\delta{\\left (t \\right )} \\right )}\\\\\\end{cases}\\end{equation*}"
       ],
       "metadata": {},
       "output_type": "pyout",
       "prompt_number": 64,
       "text": [
        "Dict{Any,Any} with 2 entries:\n",
        "  \"\\\\ddot{\\\\theta}\" =>       2                                                2\u2026\n",
        "  \"\\\\ddot{\\\\delta}\" =>           2                                         2   \u2026"
       ]
      }
     ],
     "prompt_number": 64
    },
    {
     "cell_type": "code",
     "collapsed": false,
     "input": [
      "#(sol\u03b8, sol\u03b4) = solve([Eq_esf\u03b4, Eq_esf\u03b8],[\u03b4pp, \u03b82pp]);\n",
      "sol\u03b8 = sol\u03b8[2]\n",
      "sol2\u03b4 = sol2\u03b4[2]"
     ],
     "language": "python",
     "metadata": {},
     "outputs": [
      {
       "latex": [
        "$$0.5 \\Omega^{2} \\sin{\\left (2.0 \\alpha + \\delta{\\left (t \\right )} \\right )} - 0.5 \\Omega^{2} \\sin{\\left (2.0 \\alpha + 2.0 \\delta{\\left (t \\right )} \\right )} + 0.5 \\Omega^{2} \\sin{\\left (\\delta{\\left (t \\right )} \\right )} - \\frac{g}{\\ell} \\sin{\\left (\\delta{\\left (t \\right )} \\right )}$$"
       ],
       "metadata": {},
       "output_type": "pyout",
       "prompt_number": 65,
       "text": [
        "          2                                         2                         \n",
        "0.5*\\Omega *sin(2.0*\\alpha + \\delta(t)) - 0.5*\\Omega *sin(2.0*\\alpha + 2.0*\\de\n",
        "                                                                              \n",
        "\n",
        "                    2                  g*sin(\\delta(t))\n",
        "lta(t)) + 0.5*\\Omega *sin(\\delta(t)) - ----------------\n",
        "                                             \\ell      "
       ]
      }
     ],
     "prompt_number": 65
    },
    {
     "cell_type": "code",
     "collapsed": false,
     "input": [
      "f_2\u03b4 = asignar_valores(sol2\u03b4,0.023,10,2,pi/7);\n",
      "f_\u03b8 = asignar_valores(sol\u03b8,0.023,10,2,pi/7);"
     ],
     "language": "python",
     "metadata": {},
     "outputs": [],
     "prompt_number": 66
    },
    {
     "cell_type": "code",
     "collapsed": false,
     "input": [
      "sympy_to_julia(f_\u03b8)"
     ],
     "language": "python",
     "metadata": {},
     "outputs": [
      {
       "metadata": {},
       "output_type": "pyout",
       "prompt_number": 67,
       "text": [
        "\"-2.0*\u03b4p*\u03b82p/tan(\u03b4) - 0.0387044080585203*\u03b4p*cos(\u03b8) + 0.00436093944304704*\u03b4p/tan(\u03b4) + 0.000429413052591635*sin(\u03b8)*cos(\u03b8) + 0.000206794427112794*sin(\u03b8)/tan(\u03b4) - 0.000206794427112794*sin(\u03b8)/sin(\u03b4)\""
       ]
      }
     ],
     "prompt_number": 67
    },
    {
     "cell_type": "code",
     "collapsed": false,
     "input": [
      "sympy_to_julia(f_2\u03b4)"
     ],
     "language": "python",
     "metadata": {},
     "outputs": [
      {
       "metadata": {},
       "output_type": "pyout",
       "prompt_number": 68,
       "text": [
        "\"0.0002645*sin(\u03b4 + 0.897597901025655) - 0.0002645*sin(2.0*\u03b4 + 0.897597901025655) - 4.9997355*sin(\u03b4)\""
       ]
      }
     ],
     "prompt_number": 68
    },
    {
     "cell_type": "code",
     "collapsed": false,
     "input": [
      "f\u03b8(\u03b4p,\u03b82p,\u03b4,\u03b8) = -2.0*\u03b4p*\u03b82p/tan(\u03b4) - 0.0387044080585203*\u03b4p*cos(\u03b8) + 0.00436093944304704*\u03b4p/tan(\u03b4) + 0.000429413052591635*sin(\u03b8)*cos(\u03b8) + 0.000206794427112794*sin(\u03b8)/tan(\u03b4) - 0.000206794427112794*sin(\u03b8)/sin(\u03b4)\n",
      "f2\u03b4(\u03b4p,\u03b82p,\u03b4,\u03b8) = 0.0002645*sin(\u03b4 + 0.897597901025655) - 0.0002645*sin(2.0*\u03b4 + 0.897597901025655) - 4.9997355*sin(\u03b4)\n",
      "#(\u03b4p,\u03b82p,\u03b4,\u03b8)=(-2*(sin(\u03b4)^2 + cos(\u03b4)^2*cos(\u03b8)^2)*(\u03b4p^2*sin(\u03b4)^2*cos(\u03b8) + 0.5*\u03b4p*\u03b82p*(cos(2.0*\u03b4 - \u03b8) - cos(2.0*\u03b4 + \u03b8)) + \u03b82p^2*sin(\u03b4)^2*cos(\u03b8) + 0.000529*sin(\u03b4 - 0.448798950512828)^2*cos(\u03b8) + 0.000459048995986376*sin(\u03b4 - 0.448798950512828)*cos(\u03b8) + 9.9586947408365e-5*cos(\u03b8)) + (2*\u03b4p^2*sin(\u03b4)*cos(\u03b4)*cos(\u03b8)^2 - 1.0*\u03b4p^2*sin(2.0*\u03b4) + 4.0*\u03b4p*\u03b82p*sin(\u03b8)*cos(\u03b4)^2*cos(\u03b8) + 2*\u03b82p^2*sin(\u03b4)*cos(\u03b4)*cos(\u03b8)^2 + 0.001058*sin(\u03b4 - 0.448798950512828)*cos(\u03b4 - 0.448798950512828)*cos(\u03b8)^2 - 10*sin(\u03b4) + 0.000459048995986376*cos(\u03b4 - 0.448798950512828)*cos(\u03b8)^2)*sin(\u03b4)*cos(\u03b4)*cos(\u03b8))/(2*sin(\u03b4)^4*sin(\u03b8))"
     ],
     "language": "python",
     "metadata": {},
     "outputs": [
      {
       "metadata": {},
       "output_type": "pyout",
       "prompt_number": 49,
       "text": [
        "f2\u03b4 (generic function with 1 method)"
       ]
      }
     ],
     "prompt_number": 49
    },
    {
     "cell_type": "code",
     "collapsed": false,
     "input": [
      "f2deriv(r0,v,t)=[f2\u03b4(v[1],v[2],r0[1],r0[2]),f\u03b8(v[1],v[2],r0[1],r0[2])]"
     ],
     "language": "python",
     "metadata": {},
     "outputs": [
      {
       "metadata": {},
       "output_type": "pyout",
       "prompt_number": 50,
       "text": [
        "f2deriv (generic function with 1 method)"
       ]
      }
     ],
     "prompt_number": 50
    },
    {
     "cell_type": "code",
     "collapsed": false,
     "input": [
      "t2_polar,p2_polar,v2_polar=euler_cromer([pi/4,pi/12],[0.7,0.3],0.0,10.0,1e-4,fposicion,f2deriv);"
     ],
     "language": "python",
     "metadata": {},
     "outputs": [],
     "prompt_number": 51
    },
    {
     "cell_type": "code",
     "collapsed": false,
     "input": [
      "\u03b4s=p2_polar[:,1];\n",
      "\u03b8s=p2_polar[:,2];"
     ],
     "language": "python",
     "metadata": {},
     "outputs": [],
     "prompt_number": 52
    },
    {
     "cell_type": "code",
     "collapsed": false,
     "input": [
      "xs2 = 2*sin(\u03b4s).*cos(\u03b8s);\n",
      "ys2 = 2*sin(\u03b4s).*sin(\u03b8s);\n",
      "zs2 = 2 - 2*cos(\u03b4s);"
     ],
     "language": "python",
     "metadata": {},
     "outputs": [],
     "prompt_number": 53
    },
    {
     "cell_type": "code",
     "collapsed": false,
     "input": [
      "plot3D(xs2,ys2,zs2)"
     ],
     "language": "python",
     "metadata": {},
     "outputs": [
      {
       "metadata": {},
       "output_type": "display_data",
       "png": "[encoded data removed]",
       "text": [
        "Figure(PyObject <matplotlib.figure.Figure object at 0xaabdeaac>)"
       ]
      },
      {
       "metadata": {},
       "output_type": "pyout",
       "prompt_number": 56,
       "text": [
        "1-element Array{Any,1}:\n",
        " PyObject <mpl_toolkits.mplot3d.art3d.Line3D object at 0xa933d0ec>"
       ]
      }
     ],
     "prompt_number": 56
    },
    {
     "cell_type": "heading",
     "level": 1,
     "metadata": {},
     "source": [
      "Otro Enfoque"
     ]
    },
    {
     "cell_type": "code",
     "collapsed": false,
     "input": [
      "r2_vec"
     ],
     "language": "python",
     "metadata": {},
     "outputs": [
      {
       "latex": [
        "\\begin{bmatrix}\\ell \\sin{\\left (\\delta{\\left (t \\right )} \\right )} \\cos{\\left (\\theta{\\left (t \\right )} \\right )}\\\\\\ell \\sin{\\left (\\delta{\\left (t \\right )} \\right )} \\sin{\\left (\\theta{\\left (t \\right )} \\right )}\\\\- \\ell \\cos{\\left (\\delta{\\left (t \\right )} \\right )} + \\ell\\end{bmatrix}"
       ],
       "metadata": {},
       "output_type": "pyout",
       "prompt_number": 69,
       "text": [
        "3-element Array{Sym,1}:\n",
        " \\ell*sin(\\delta(t))*cos(\\theta(t))\n",
        " \\ell*sin(\\delta(t))*sin(\\theta(t))\n",
        " -\\ell*cos(\\delta(t)) + \\ell       "
       ]
      }
     ],
     "prompt_number": 69
    },
    {
     "cell_type": "code",
     "collapsed": false,
     "input": [
      "v3_vec = diff(r2_vec,t)"
     ],
     "language": "python",
     "metadata": {},
     "outputs": [
      {
       "latex": [
        "\\begin{bmatrix}- \\ell \\sin{\\left (\\delta{\\left (t \\right )} \\right )} \\sin{\\left (\\theta{\\left (t \\right )} \\right )} \\frac{d}{d t} \\theta{\\left (t \\right )} + \\ell \\cos{\\left (\\delta{\\left (t \\right )} \\right )} \\cos{\\left (\\theta{\\left (t \\right )} \\right )} \\frac{d}{d t} \\delta{\\left (t \\right )}\\\\\\ell \\sin{\\left (\\delta{\\left (t \\right )} \\right )} \\cos{\\left (\\theta{\\left (t \\right )} \\right )} \\frac{d}{d t} \\theta{\\left (t \\right )} + \\ell \\sin{\\left (\\theta{\\left (t \\right )} \\right )} \\cos{\\left (\\delta{\\left (t \\right )} \\right )} \\frac{d}{d t} \\delta{\\left (t \\right )}\\\\\\ell \\sin{\\left (\\delta{\\left (t \\right )} \\right )} \\frac{d}{d t} \\delta{\\left (t \\right )}\\end{bmatrix}"
       ],
       "metadata": {},
       "output_type": "pyout",
       "prompt_number": 70,
       "text": [
        "3x1 Array{Sym,2}:\n",
        "                                      d                                        \n",
        "- \\ell*sin(\\delta(t))*sin(\\theta(t))*--(\\theta(t)) + \\ell*cos(\\delta(t))*cos(\\\n",
        "                                     dt                                       \n",
        "\n",
        "          d            \n",
        "theta(t))*--(\\delta(t))\n",
        "          dt           \n",
        "                                    d                                          \n",
        "\\ell*sin(\\delta(t))*cos(\\theta(t))*--(\\theta(t)) + \\ell*sin(\\theta(t))*cos(\\de\n",
        "                                   dt                                         \n",
        "\n",
        "        d            \n",
        "lta(t))*--(\\delta(t))\n",
        "        dt                 \n",
        "                     d            \n",
        "\\ell*sin(\\delta(t))*--(\\delta(t))\n",
        "                    dt                                                                                                                                                                                                                           "
       ]
      }
     ],
     "prompt_number": 70
    },
    {
     "cell_type": "code",
     "collapsed": false,
     "input": [
      "coreolis = (m*v3_vec[1])*\u03a9r2[1] + (m*v3_vec[2])*\u03a9r2[2] + (m*v3_vec[3])*\u03a9r2[3]"
     ],
     "language": "python",
     "metadata": {},
     "outputs": [
      {
       "latex": [
        "$$- \\Omega \\ell^{2} m \\sin^{2}{\\left (\\delta{\\left (t \\right )} \\right )} \\sin{\\left (\\theta{\\left (t \\right )} \\right )} \\cos{\\left (\\alpha \\right )} \\frac{d}{d t} \\delta{\\left (t \\right )} - \\Omega \\ell m \\left(- \\ell \\sin{\\left (\\delta{\\left (t \\right )} \\right )} \\sin{\\left (\\theta{\\left (t \\right )} \\right )} \\frac{d}{d t} \\theta{\\left (t \\right )} + \\ell \\cos{\\left (\\delta{\\left (t \\right )} \\right )} \\cos{\\left (\\theta{\\left (t \\right )} \\right )} \\frac{d}{d t} \\delta{\\left (t \\right )}\\right) \\sin{\\left (\\alpha \\right )} \\sin{\\left (\\delta{\\left (t \\right )} \\right )} \\sin{\\left (\\theta{\\left (t \\right )} \\right )} + m \\left(\\ell \\sin{\\left (\\delta{\\left (t \\right )} \\right )} \\cos{\\left (\\theta{\\left (t \\right )} \\right )} \\frac{d}{d t} \\theta{\\left (t \\right )} + \\ell \\sin{\\left (\\theta{\\left (t \\right )} \\right )} \\cos{\\left (\\delta{\\left (t \\right )} \\right )} \\frac{d}{d t} \\delta{\\left (t \\right )}\\right) \\left(\\Omega \\ell \\sin{\\left (\\alpha \\right )} \\sin{\\left (\\delta{\\left (t \\right )} \\right )} \\cos{\\left (\\theta{\\left (t \\right )} \\right )} + \\Omega \\left(- \\ell \\cos{\\left (\\delta{\\left (t \\right )} \\right )} + \\ell\\right) \\cos{\\left (\\alpha \\right )}\\right)$$"
       ],
       "metadata": {},
       "output_type": "pyout",
       "prompt_number": 77,
       "text": [
        "             2      2                                       d                 \n",
        "- \\Omega*\\ell *m*sin (\\delta(t))*sin(\\theta(t))*cos(\\alpha)*--(\\delta(t)) - \\O\n",
        "                                                            dt                \n",
        "\n",
        "            /                                     d                           \n",
        "mega*\\ell*m*|- \\ell*sin(\\delta(t))*sin(\\theta(t))*--(\\theta(t)) + \\ell*cos(\\de\n",
        "            \\                                     dt                          \n",
        "\n",
        "                       d            \\                                         \n",
        "lta(t))*cos(\\theta(t))*--(\\delta(t))|*sin(\\alpha)*sin(\\delta(t))*sin(\\theta(t)\n",
        "                       dt           /                                         \n",
        "\n",
        "      /                                   d                                   \n",
        ") + m*|\\ell*sin(\\delta(t))*cos(\\theta(t))*--(\\theta(t)) + \\ell*sin(\\theta(t))*\n",
        "      \\                                   dt                                  \n",
        "\n",
        "               d            \\                                                 \n",
        "cos(\\delta(t))*--(\\delta(t))|*(\\Omega*\\ell*sin(\\alpha)*sin(\\delta(t))*cos(\\the\n",
        "               dt           /                                                 \n",
        "\n",
        "                                                          \n",
        "ta(t)) + \\Omega*(-\\ell*cos(\\delta(t)) + \\ell)*cos(\\alpha))\n",
        "                                                          "
       ]
      }
     ],
     "prompt_number": 77
    },
    {
     "cell_type": "code",
     "collapsed": false,
     "input": [
      "centrifuga = m/2 * ((\u03a9r2[1]*\u03a9r2[1]) + (\u03a9r2[2]*\u03a9r2[2]) + (\u03a9r2[3]*\u03a9r2[3]) )"
     ],
     "language": "python",
     "metadata": {},
     "outputs": [
      {
       "latex": [
        "$$\\frac{m}{2} \\left(\\Omega^{2} \\ell^{2} \\sin^{2}{\\left (\\alpha \\right )} \\sin^{2}{\\left (\\delta{\\left (t \\right )} \\right )} \\sin^{2}{\\left (\\theta{\\left (t \\right )} \\right )} + \\Omega^{2} \\ell^{2} \\sin^{2}{\\left (\\delta{\\left (t \\right )} \\right )} \\sin^{2}{\\left (\\theta{\\left (t \\right )} \\right )} \\cos^{2}{\\left (\\alpha \\right )} + \\left(\\Omega \\ell \\sin{\\left (\\alpha \\right )} \\sin{\\left (\\delta{\\left (t \\right )} \\right )} \\cos{\\left (\\theta{\\left (t \\right )} \\right )} + \\Omega \\left(- \\ell \\cos{\\left (\\delta{\\left (t \\right )} \\right )} + \\ell\\right) \\cos{\\left (\\alpha \\right )}\\right)^{2}\\right)$$"
       ],
       "metadata": {},
       "output_type": "pyout",
       "prompt_number": 78,
       "text": [
        "  /      2     2    2            2               2                    2     2 \n",
        "m*\\\\Omega *\\ell *sin (\\alpha)*sin (\\delta(t))*sin (\\theta(t)) + \\Omega *\\ell *\n",
        "------------------------------------------------------------------------------\n",
        "                                                                              \n",
        "\n",
        "   2               2               2                                          \n",
        "sin (\\delta(t))*sin (\\theta(t))*cos (\\alpha) + (\\Omega*\\ell*sin(\\alpha)*sin(\\d\n",
        "------------------------------------------------------------------------------\n",
        "                                      2                                       \n",
        "\n",
        "                                                                           2\\\n",
        "elta(t))*cos(\\theta(t)) + \\Omega*(-\\ell*cos(\\delta(t)) + \\ell)*cos(\\alpha)) /\n",
        "-----------------------------------------------------------------------------\n",
        "                                                                             "
       ]
      }
     ],
     "prompt_number": 78
    },
    {
     "cell_type": "code",
     "collapsed": false,
     "input": [
      "L3 = m/2*(v3_vec[1]*v3_vec[1] + v3_vec[2]*v3_vec[2] + v3_vec[3]*v3_vec[3]) + coreolis + centrifuga - (m*g*z_esf);\n",
      "L3 = simplify(L3)"
     ],
     "language": "python",
     "metadata": {},
     "outputs": [
      {
       "latex": [
        "$$\\frac{\\ell m}{2} \\left(\\Omega^{2} \\ell \\left(\\left(- \\left(\\cos{\\left (\\delta{\\left (t \\right )} \\right )} - 1\\right) \\cos{\\left (\\alpha \\right )} + \\sin{\\left (\\alpha \\right )} \\sin{\\left (\\delta{\\left (t \\right )} \\right )} \\cos{\\left (\\theta{\\left (t \\right )} \\right )}\\right)^{2} + \\sin^{2}{\\left (\\alpha \\right )} \\sin^{2}{\\left (\\delta{\\left (t \\right )} \\right )} \\sin^{2}{\\left (\\theta{\\left (t \\right )} \\right )} + \\sin^{2}{\\left (\\delta{\\left (t \\right )} \\right )} \\sin^{2}{\\left (\\theta{\\left (t \\right )} \\right )} \\cos^{2}{\\left (\\alpha \\right )}\\right) + 2 \\Omega \\ell \\left(- \\left(\\cos{\\left (\\delta{\\left (t \\right )} \\right )} - 1\\right) \\cos{\\left (\\alpha \\right )} + \\sin{\\left (\\alpha \\right )} \\sin{\\left (\\delta{\\left (t \\right )} \\right )} \\cos{\\left (\\theta{\\left (t \\right )} \\right )}\\right) \\left(\\sin{\\left (\\delta{\\left (t \\right )} \\right )} \\cos{\\left (\\theta{\\left (t \\right )} \\right )} \\frac{d}{d t} \\theta{\\left (t \\right )} + \\sin{\\left (\\theta{\\left (t \\right )} \\right )} \\cos{\\left (\\delta{\\left (t \\right )} \\right )} \\frac{d}{d t} \\delta{\\left (t \\right )}\\right) + 2 \\Omega \\ell \\left(\\sin{\\left (\\delta{\\left (t \\right )} \\right )} \\sin{\\left (\\theta{\\left (t \\right )} \\right )} \\frac{d}{d t} \\theta{\\left (t \\right )} - \\cos{\\left (\\delta{\\left (t \\right )} \\right )} \\cos{\\left (\\theta{\\left (t \\right )} \\right )} \\frac{d}{d t} \\delta{\\left (t \\right )}\\right) \\sin{\\left (\\alpha \\right )} \\sin{\\left (\\delta{\\left (t \\right )} \\right )} \\sin{\\left (\\theta{\\left (t \\right )} \\right )} - 2 \\Omega \\ell \\sin^{2}{\\left (\\delta{\\left (t \\right )} \\right )} \\sin{\\left (\\theta{\\left (t \\right )} \\right )} \\cos{\\left (\\alpha \\right )} \\frac{d}{d t} \\delta{\\left (t \\right )} + \\ell \\left(\\sin^{2}{\\left (\\delta{\\left (t \\right )} \\right )} \\left(\\frac{d}{d t} \\theta{\\left (t \\right )}\\right)^{2} + \\left(\\frac{d}{d t} \\delta{\\left (t \\right )}\\right)^{2}\\right) + 2 g \\left(\\cos{\\left (\\delta{\\left (t \\right )} \\right )} - 1\\right)\\right)$$"
       ],
       "metadata": {},
       "output_type": "pyout",
       "prompt_number": 82,
       "text": [
        "       /                                                                      \n",
        "       |      2      /                                                        \n",
        "\\ell*m*|\\Omega *\\ell*\\(-(cos(\\delta(t)) - 1)*cos(\\alpha) + sin(\\alpha)*sin(\\de\n",
        "       \\                                                                      \n",
        "------------------------------------------------------------------------------\n",
        "                                                                              \n",
        "\n",
        "                                                                              \n",
        "                       2      2            2               2                 2\n",
        "lta(t))*cos(\\theta(t)))  + sin (\\alpha)*sin (\\delta(t))*sin (\\theta(t)) + sin \n",
        "                                                                              \n",
        "------------------------------------------------------------------------------\n",
        "                                                                              \n",
        "\n",
        "                                                                              \n",
        "               2               2        \\                                     \n",
        "(\\delta(t))*sin (\\theta(t))*cos (\\alpha)/ + 2*\\Omega*\\ell*(-(cos(\\delta(t)) - \n",
        "                                                                              \n",
        "------------------------------------------------------------------------------\n",
        "                                                                              \n",
        "\n",
        "                                                                              \n",
        "                                                            /                 \n",
        "1)*cos(\\alpha) + sin(\\alpha)*sin(\\delta(t))*cos(\\theta(t)))*|sin(\\delta(t))*co\n",
        "                                                            \\                 \n",
        "------------------------------------------------------------------------------\n",
        "                                                                              \n",
        "\n",
        "                                                                              \n",
        "             d                                             d            \\     \n",
        "s(\\theta(t))*--(\\theta(t)) + sin(\\theta(t))*cos(\\delta(t))*--(\\delta(t))| + 2*\n",
        "             dt                                            dt           /     \n",
        "------------------------------------------------------------------------------\n",
        "                                    2                                         \n",
        "\n",
        "                                                                              \n",
        "            /                              d                                  \n",
        "\\Omega*\\ell*|sin(\\delta(t))*sin(\\theta(t))*--(\\theta(t)) - cos(\\delta(t))*cos(\n",
        "            \\                              dt                                 \n",
        "------------------------------------------------------------------------------\n",
        "                                                                              \n",
        "\n",
        "                                                                              \n",
        "           d            \\                                                     \n",
        "\\theta(t))*--(\\delta(t))|*sin(\\alpha)*sin(\\delta(t))*sin(\\theta(t)) - 2*\\Omega\n",
        "           dt           /                                                     \n",
        "------------------------------------------------------------------------------\n",
        "                                                                              \n",
        "\n",
        "                                                                      /       \n",
        "         2                                       d                    |   2   \n",
        "*\\ell*sin (\\delta(t))*sin(\\theta(t))*cos(\\alpha)*--(\\delta(t)) + \\ell*|sin (\\d\n",
        "                                                 dt                   \\       \n",
        "------------------------------------------------------------------------------\n",
        "                                                                              \n",
        "\n",
        "                        2                  2\\                           \\\n",
        "         /d            \\    /d            \\ |                           |\n",
        "elta(t))*|--(\\theta(t))|  + |--(\\delta(t))| | + 2*g*(cos(\\delta(t)) - 1)|\n",
        "         \\dt           /    \\dt           / /                           /\n",
        "-------------------------------------------------------------------------\n",
        "                                                                         "
       ]
      }
     ],
     "prompt_number": 82
    },
    {
     "cell_type": "code",
     "collapsed": false,
     "input": [
      "F\u03b82=diff(L3,\u03b8(t))\n",
      "F\u03b43=diff(L3,\u03b4(t))\n",
      "P\u03b82=diff(L3,diff(\u03b8(t),t))\n",
      "P\u03b43=diff(L3,diff(\u03b4(t),t))"
     ],
     "language": "python",
     "metadata": {},
     "outputs": [
      {
       "latex": [
        "$$\\frac{\\ell m}{2} \\left(2 \\Omega \\ell \\left(- \\left(\\cos{\\left (\\delta{\\left (t \\right )} \\right )} - 1\\right) \\cos{\\left (\\alpha \\right )} + \\sin{\\left (\\alpha \\right )} \\sin{\\left (\\delta{\\left (t \\right )} \\right )} \\cos{\\left (\\theta{\\left (t \\right )} \\right )}\\right) \\sin{\\left (\\theta{\\left (t \\right )} \\right )} \\cos{\\left (\\delta{\\left (t \\right )} \\right )} - 2 \\Omega \\ell \\sin{\\left (\\alpha \\right )} \\sin{\\left (\\delta{\\left (t \\right )} \\right )} \\sin{\\left (\\theta{\\left (t \\right )} \\right )} \\cos{\\left (\\delta{\\left (t \\right )} \\right )} \\cos{\\left (\\theta{\\left (t \\right )} \\right )} - 2 \\Omega \\ell \\sin^{2}{\\left (\\delta{\\left (t \\right )} \\right )} \\sin{\\left (\\theta{\\left (t \\right )} \\right )} \\cos{\\left (\\alpha \\right )} + 2 \\ell \\frac{d}{d t} \\delta{\\left (t \\right )}\\right)$$"
       ],
       "metadata": {},
       "output_type": "pyout",
       "prompt_number": 87,
       "text": [
        "       /                                                                      \n",
        "\\ell*m*|2*\\Omega*\\ell*(-(cos(\\delta(t)) - 1)*cos(\\alpha) + sin(\\alpha)*sin(\\de\n",
        "       \\                                                                      \n",
        "------------------------------------------------------------------------------\n",
        "                                                                              \n",
        "\n",
        "                                                                              \n",
        "lta(t))*cos(\\theta(t)))*sin(\\theta(t))*cos(\\delta(t)) - 2*\\Omega*\\ell*sin(\\alp\n",
        "                                                                              \n",
        "------------------------------------------------------------------------------\n",
        "                                                                        2     \n",
        "\n",
        "                                                                              \n",
        "ha)*sin(\\delta(t))*sin(\\theta(t))*cos(\\delta(t))*cos(\\theta(t)) - 2*\\Omega*\\el\n",
        "                                                                              \n",
        "------------------------------------------------------------------------------\n",
        "                                                                              \n",
        "\n",
        "     2                                                d            \\\n",
        "l*sin (\\delta(t))*sin(\\theta(t))*cos(\\alpha) + 2*\\ell*--(\\delta(t))|\n",
        "                                                      dt           /\n",
        "--------------------------------------------------------------------\n",
        "                                                                    "
       ]
      }
     ],
     "prompt_number": 87
    },
    {
     "cell_type": "code",
     "collapsed": false,
     "input": [
      "Eq_\u03b43=diff(P\u03b43,t) - F\u03b43\n",
      "Eq_\u03b43=simplify(Eq_\u03b43)"
     ],
     "language": "python",
     "metadata": {},
     "outputs": [
      {
       "latex": [
        "$$\\ell m \\left(2 \\Omega^{2} \\ell \\sin{\\left (\\alpha \\right )} \\cos{\\left (\\alpha \\right )} \\cos^{2}{\\left (\\delta{\\left (t \\right )} \\right )} \\cos{\\left (\\theta{\\left (t \\right )} \\right )} - \\Omega^{2} \\ell \\sin{\\left (\\alpha \\right )} \\cos{\\left (\\alpha \\right )} \\cos{\\left (\\delta{\\left (t \\right )} \\right )} \\cos{\\left (\\theta{\\left (t \\right )} \\right )} - \\Omega^{2} \\ell \\sin{\\left (\\alpha \\right )} \\cos{\\left (\\alpha \\right )} \\cos{\\left (\\theta{\\left (t \\right )} \\right )} + \\Omega^{2} \\ell \\sin{\\left (\\delta{\\left (t \\right )} \\right )} \\cos^{2}{\\left (\\alpha \\right )} \\cos{\\left (\\delta{\\left (t \\right )} \\right )} \\cos^{2}{\\left (\\theta{\\left (t \\right )} \\right )} + \\Omega^{2} \\ell \\sin{\\left (\\delta{\\left (t \\right )} \\right )} \\cos^{2}{\\left (\\alpha \\right )} \\cos{\\left (\\delta{\\left (t \\right )} \\right )} - \\Omega^{2} \\ell \\sin{\\left (\\delta{\\left (t \\right )} \\right )} \\cos^{2}{\\left (\\alpha \\right )} - \\Omega^{2} \\ell \\sin{\\left (\\delta{\\left (t \\right )} \\right )} \\cos{\\left (\\delta{\\left (t \\right )} \\right )} - 2 \\Omega \\ell \\sin{\\left (\\alpha \\right )} \\sin{\\left (\\delta{\\left (t \\right )} \\right )} \\cos{\\left (\\delta{\\left (t \\right )} \\right )} \\frac{d}{d t} \\theta{\\left (t \\right )} + 2 \\Omega \\ell \\cos{\\left (\\alpha \\right )} \\cos^{2}{\\left (\\delta{\\left (t \\right )} \\right )} \\cos{\\left (\\theta{\\left (t \\right )} \\right )} \\frac{d}{d t} \\theta{\\left (t \\right )} - 2 \\Omega \\ell \\cos{\\left (\\alpha \\right )} \\cos{\\left (\\theta{\\left (t \\right )} \\right )} \\frac{d}{d t} \\theta{\\left (t \\right )} - \\ell \\sin{\\left (\\delta{\\left (t \\right )} \\right )} \\cos{\\left (\\delta{\\left (t \\right )} \\right )} \\left(\\frac{d}{d t} \\theta{\\left (t \\right )}\\right)^{2} + \\ell \\frac{d^{2}}{d t^{2}}  \\delta{\\left (t \\right )} + g \\sin{\\left (\\delta{\\left (t \\right )} \\right )}\\right)$$"
       ],
       "metadata": {},
       "output_type": "pyout",
       "prompt_number": 89,
       "text": [
        "       /                                                                      \n",
        "       |        2                                 2                           \n",
        "\\ell*m*|2*\\Omega *\\ell*sin(\\alpha)*cos(\\alpha)*cos (\\delta(t))*cos(\\theta(t)) \n",
        "       |                                                                      \n",
        "       \\                                                                      \n",
        "\n",
        "                                                                              \n",
        "        2                                                                    2\n",
        "- \\Omega *\\ell*sin(\\alpha)*cos(\\alpha)*cos(\\delta(t))*cos(\\theta(t)) - \\Omega \n",
        "                                                                              \n",
        "                                                                              \n",
        "\n",
        "                                                                              \n",
        "                                                     2                        \n",
        "*\\ell*sin(\\alpha)*cos(\\alpha)*cos(\\theta(t)) + \\Omega *\\ell*sin(\\delta(t))*cos\n",
        "                                                                              \n",
        "                                                                              \n",
        "\n",
        "                                                                              \n",
        "2                           2                    2                        2   \n",
        " (\\alpha)*cos(\\delta(t))*cos (\\theta(t)) + \\Omega *\\ell*sin(\\delta(t))*cos (\\a\n",
        "                                                                              \n",
        "                                                                              \n",
        "\n",
        "                                                                              \n",
        "                             2                        2                 2     \n",
        "lpha)*cos(\\delta(t)) - \\Omega *\\ell*sin(\\delta(t))*cos (\\alpha) - \\Omega *\\ell\n",
        "                                                                              \n",
        "                                                                              \n",
        "\n",
        "                                                                              \n",
        "                                                                              \n",
        "*sin(\\delta(t))*cos(\\delta(t)) - 2*\\Omega*\\ell*sin(\\alpha)*sin(\\delta(t))*cos(\n",
        "                                                                              \n",
        "                                                                              \n",
        "\n",
        "                                                                              \n",
        "           d                                            2                     \n",
        "\\delta(t))*--(\\theta(t)) + 2*\\Omega*\\ell*cos(\\alpha)*cos (\\delta(t))*cos(\\thet\n",
        "           dt                                                                 \n",
        "                                                                              \n",
        "\n",
        "                                                                              \n",
        "      d                                                        d              \n",
        "a(t))*--(\\theta(t)) - 2*\\Omega*\\ell*cos(\\alpha)*cos(\\theta(t))*--(\\theta(t)) -\n",
        "      dt                                                       dt             \n",
        "                                                                              \n",
        "\n",
        "                                                   2          2               \n",
        "                                    /d            \\          d                \n",
        " \\ell*sin(\\delta(t))*cos(\\delta(t))*|--(\\theta(t))|  + \\ell*---(\\delta(t)) + g\n",
        "                                    \\dt           /           2               \n",
        "                                                            dt                \n",
        "\n",
        "               \\\n",
        "               |\n",
        "*sin(\\delta(t))|\n",
        "               |\n",
        "               /"
       ]
      }
     ],
     "prompt_number": 89
    },
    {
     "cell_type": "code",
     "collapsed": false,
     "input": [
      "Eq_\u03b82=diff(P\u03b82,t) - F\u03b82\n",
      "Eq_\u03b82=simplify(Eq_\u03b82)"
     ],
     "language": "python",
     "metadata": {},
     "outputs": [
      {
       "latex": [
        "$$\\ell^{2} m \\left(- \\Omega^{2} \\sin{\\left (\\alpha \\right )} \\sin{\\left (\\theta{\\left (t \\right )} \\right )} \\cos{\\left (\\alpha \\right )} \\cos{\\left (\\delta{\\left (t \\right )} \\right )} + \\Omega^{2} \\sin{\\left (\\alpha \\right )} \\sin{\\left (\\theta{\\left (t \\right )} \\right )} \\cos{\\left (\\alpha \\right )} - \\Omega^{2} \\sin{\\left (\\delta{\\left (t \\right )} \\right )} \\sin{\\left (\\theta{\\left (t \\right )} \\right )} \\cos^{2}{\\left (\\alpha \\right )} \\cos{\\left (\\theta{\\left (t \\right )} \\right )} + 2 \\Omega \\sin{\\left (\\alpha \\right )} \\cos{\\left (\\delta{\\left (t \\right )} \\right )} \\frac{d}{d t} \\delta{\\left (t \\right )} + 2 \\Omega \\sin{\\left (\\delta{\\left (t \\right )} \\right )} \\cos{\\left (\\alpha \\right )} \\cos{\\left (\\theta{\\left (t \\right )} \\right )} \\frac{d}{d t} \\delta{\\left (t \\right )} + \\sin{\\left (\\delta{\\left (t \\right )} \\right )} \\frac{d^{2}}{d t^{2}}  \\theta{\\left (t \\right )} + 2 \\cos{\\left (\\delta{\\left (t \\right )} \\right )} \\frac{d}{d t} \\delta{\\left (t \\right )} \\frac{d}{d t} \\theta{\\left (t \\right )}\\right) \\sin{\\left (\\delta{\\left (t \\right )} \\right )}$$"
       ],
       "metadata": {},
       "output_type": "pyout",
       "prompt_number": 90,
       "text": [
        "        /                                                                     \n",
        "    2   |        2                                                            \n",
        "\\ell *m*|- \\Omega *sin(\\alpha)*sin(\\theta(t))*cos(\\alpha)*cos(\\delta(t)) + \\Om\n",
        "        |                                                                     \n",
        "        \\                                                                     \n",
        "\n",
        "                                                                              \n",
        "   2                                                2                         \n",
        "ega *sin(\\alpha)*sin(\\theta(t))*cos(\\alpha) - \\Omega *sin(\\delta(t))*sin(\\thet\n",
        "                                                                              \n",
        "                                                                              \n",
        "\n",
        "                                                                              \n",
        "         2                                                              d     \n",
        "a(t))*cos (\\alpha)*cos(\\theta(t)) + 2*\\Omega*sin(\\alpha)*cos(\\delta(t))*--(\\de\n",
        "                                                                        dt    \n",
        "                                                                              \n",
        "\n",
        "                                                                              \n",
        "                                                             d                \n",
        "lta(t)) + 2*\\Omega*sin(\\delta(t))*cos(\\alpha)*cos(\\theta(t))*--(\\delta(t)) + s\n",
        "                                                             dt               \n",
        "                                                                              \n",
        "\n",
        "                2                                                          \\  \n",
        "               d                                d             d            |  \n",
        "in(\\delta(t))*---(\\theta(t)) + 2*cos(\\delta(t))*--(\\delta(t))*--(\\theta(t))|*s\n",
        "                2                               dt            dt           |  \n",
        "              dt                                                           /  \n",
        "\n",
        "             \n",
        "             \n",
        "in(\\delta(t))\n",
        "             \n",
        "             "
       ]
      }
     ],
     "prompt_number": 90
    },
    {
     "cell_type": "code",
     "collapsed": false,
     "input": [
      "Eq_\u03b43 = subs(Eq_\u03b43,diff(\u03b4(t),t,2),\u03b4pp);\n",
      "Eq_\u03b43 = subs(Eq_\u03b43,diff(\u03b4(t),t,1),\u03b4p);\n",
      "Eq_\u03b43 = subs(Eq_\u03b43,diff(\u03b8(t),t,2),\u03b8pp);\n",
      "Eq_\u03b43 = subs(Eq_\u03b43,diff(\u03b8(t),t,1),\u03b8p);\n",
      "\n",
      "Eq_\u03b82 = subs(Eq_\u03b82,diff(\u03b4(t),t,2),\u03b4pp);\n",
      "Eq_\u03b82 = subs(Eq_\u03b82,diff(\u03b4(t),t,1),\u03b4p);\n",
      "Eq_\u03b82 = subs(Eq_\u03b82,diff(\u03b8(t),t,2),\u03b8pp);\n",
      "Eq_\u03b82 = subs(Eq_\u03b82,diff(\u03b8(t),t,1),\u03b8p);"
     ],
     "language": "python",
     "metadata": {},
     "outputs": [],
     "prompt_number": 91
    },
    {
     "cell_type": "code",
     "collapsed": false,
     "input": [
      "(sol\u03b82,sol\u03b43)=solve([Eq_\u03b82,Eq_\u03b43],[\u03b8pp,\u03b4pp])"
     ],
     "language": "python",
     "metadata": {},
     "outputs": [
      {
       "latex": [
        "\\begin{equation*}\\begin{cases}\\ddot{\\theta} & \\text{=>} &\\frac{\\Omega^{2} \\sin{\\left (\\alpha \\right )} \\cos{\\left (\\alpha \\right )}}{\\tan{\\left (\\delta{\\left (t \\right )} \\right )}} \\sin{\\left (\\theta{\\left (t \\right )} \\right )} - \\frac{\\Omega^{2} \\sin{\\left (\\alpha \\right )} \\cos{\\left (\\alpha \\right )}}{\\sin{\\left (\\delta{\\left (t \\right )} \\right )}} \\sin{\\left (\\theta{\\left (t \\right )} \\right )} + \\Omega^{2} \\sin{\\left (\\theta{\\left (t \\right )} \\right )} \\cos^{2}{\\left (\\alpha \\right )} \\cos{\\left (\\theta{\\left (t \\right )} \\right )} - \\frac{2 \\Omega \\dot{\\delta} \\sin{\\left (\\alpha \\right )}}{\\tan{\\left (\\delta{\\left (t \\right )} \\right )}} - 2 \\Omega \\dot{\\delta} \\cos{\\left (\\alpha \\right )} \\cos{\\left (\\theta{\\left (t \\right )} \\right )} - \\frac{2 \\dot{\\delta} \\dot{\\theta}}{\\tan{\\left (\\delta{\\left (t \\right )} \\right )}}\\\\\\ddot{\\delta} & \\text{=>} &- 2 \\Omega^{2} \\sin{\\left (\\alpha \\right )} \\cos{\\left (\\alpha \\right )} \\cos^{2}{\\left (\\delta{\\left (t \\right )} \\right )} \\cos{\\left (\\theta{\\left (t \\right )} \\right )} + \\Omega^{2} \\sin{\\left (\\alpha \\right )} \\cos{\\left (\\alpha \\right )} \\cos{\\left (\\delta{\\left (t \\right )} \\right )} \\cos{\\left (\\theta{\\left (t \\right )} \\right )} + \\frac{\\Omega^{2}}{4} \\sin{\\left (2 \\alpha - \\theta{\\left (t \\right )} \\right )} + \\frac{\\Omega^{2}}{4} \\sin{\\left (2 \\alpha + \\theta{\\left (t \\right )} \\right )} - \\Omega^{2} \\sin{\\left (\\delta{\\left (t \\right )} \\right )} \\cos^{2}{\\left (\\alpha \\right )} \\cos{\\left (\\delta{\\left (t \\right )} \\right )} \\cos^{2}{\\left (\\theta{\\left (t \\right )} \\right )} - \\Omega^{2} \\sin{\\left (\\delta{\\left (t \\right )} \\right )} \\cos^{2}{\\left (\\alpha \\right )} \\cos{\\left (\\delta{\\left (t \\right )} \\right )} + \\Omega^{2} \\sin{\\left (\\delta{\\left (t \\right )} \\right )} \\cos^{2}{\\left (\\alpha \\right )} + \\frac{\\Omega^{2}}{2} \\sin{\\left (2 \\delta{\\left (t \\right )} \\right )} - 2 \\Omega \\dot{\\theta} \\cos{\\left (\\alpha \\right )} \\cos^{2}{\\left (\\delta{\\left (t \\right )} \\right )} \\cos{\\left (\\theta{\\left (t \\right )} \\right )} + 2 \\Omega \\dot{\\theta} \\cos{\\left (\\alpha \\right )} \\cos{\\left (\\theta{\\left (t \\right )} \\right )} + \\frac{\\Omega \\dot{\\theta}}{2} \\cos{\\left (\\alpha - 2 \\delta{\\left (t \\right )} \\right )} - \\frac{\\Omega \\dot{\\theta}}{2} \\cos{\\left (\\alpha + 2 \\delta{\\left (t \\right )} \\right )} + \\frac{\\dot{\\theta}^{2}}{2} \\sin{\\left (2 \\delta{\\left (t \\right )} \\right )} - \\frac{g}{\\ell} \\sin{\\left (\\delta{\\left (t \\right )} \\right )}\\\\\\end{cases}\\end{equation*}"
       ],
       "metadata": {},
       "output_type": "pyout",
       "prompt_number": 92,
       "text": [
        "Dict{Any,Any} with 2 entries:\n",
        "  \"\\\\ddot{\\\\theta}\" =>       2                                                2\u2026\n",
        "  \"\\\\ddot{\\\\delta}\" =>                                                         \u2026"
       ]
      }
     ],
     "prompt_number": 92
    },
    {
     "cell_type": "code",
     "collapsed": false,
     "input": [
      "sol\u03b82 = sol\u03b82[2]\n",
      "sol\u03b43 = sol\u03b43[2]"
     ],
     "language": "python",
     "metadata": {},
     "outputs": [
      {
       "latex": [
        "$$- 2 \\Omega^{2} \\sin{\\left (\\alpha \\right )} \\cos{\\left (\\alpha \\right )} \\cos^{2}{\\left (\\delta{\\left (t \\right )} \\right )} \\cos{\\left (\\theta{\\left (t \\right )} \\right )} + \\Omega^{2} \\sin{\\left (\\alpha \\right )} \\cos{\\left (\\alpha \\right )} \\cos{\\left (\\delta{\\left (t \\right )} \\right )} \\cos{\\left (\\theta{\\left (t \\right )} \\right )} + \\frac{\\Omega^{2}}{4} \\sin{\\left (2 \\alpha - \\theta{\\left (t \\right )} \\right )} + \\frac{\\Omega^{2}}{4} \\sin{\\left (2 \\alpha + \\theta{\\left (t \\right )} \\right )} - \\Omega^{2} \\sin{\\left (\\delta{\\left (t \\right )} \\right )} \\cos^{2}{\\left (\\alpha \\right )} \\cos{\\left (\\delta{\\left (t \\right )} \\right )} \\cos^{2}{\\left (\\theta{\\left (t \\right )} \\right )} - \\Omega^{2} \\sin{\\left (\\delta{\\left (t \\right )} \\right )} \\cos^{2}{\\left (\\alpha \\right )} \\cos{\\left (\\delta{\\left (t \\right )} \\right )} + \\Omega^{2} \\sin{\\left (\\delta{\\left (t \\right )} \\right )} \\cos^{2}{\\left (\\alpha \\right )} + \\frac{\\Omega^{2}}{2} \\sin{\\left (2 \\delta{\\left (t \\right )} \\right )} - 2 \\Omega \\dot{\\theta} \\cos{\\left (\\alpha \\right )} \\cos^{2}{\\left (\\delta{\\left (t \\right )} \\right )} \\cos{\\left (\\theta{\\left (t \\right )} \\right )} + 2 \\Omega \\dot{\\theta} \\cos{\\left (\\alpha \\right )} \\cos{\\left (\\theta{\\left (t \\right )} \\right )} + \\frac{\\Omega \\dot{\\theta}}{2} \\cos{\\left (\\alpha - 2 \\delta{\\left (t \\right )} \\right )} - \\frac{\\Omega \\dot{\\theta}}{2} \\cos{\\left (\\alpha + 2 \\delta{\\left (t \\right )} \\right )} + \\frac{\\dot{\\theta}^{2}}{2} \\sin{\\left (2 \\delta{\\left (t \\right )} \\right )} - \\frac{g}{\\ell} \\sin{\\left (\\delta{\\left (t \\right )} \\right )}$$"
       ],
       "metadata": {},
       "output_type": "pyout",
       "prompt_number": 93,
       "text": [
        "                                                                              \n",
        "          2                            2                                   2  \n",
        "- 2*\\Omega *sin(\\alpha)*cos(\\alpha)*cos (\\delta(t))*cos(\\theta(t)) + \\Omega *s\n",
        "                                                                              \n",
        "\n",
        "                                                             2                \n",
        "                                                       \\Omega *sin(2*\\alpha - \n",
        "in(\\alpha)*cos(\\alpha)*cos(\\delta(t))*cos(\\theta(t)) + -----------------------\n",
        "                                                                       4      \n",
        "\n",
        "                   2                                                          \n",
        "\\theta(t))   \\Omega *sin(2*\\alpha + \\theta(t))         2                   2  \n",
        "---------- + --------------------------------- - \\Omega *sin(\\delta(t))*cos (\\\n",
        "                             4                                                \n",
        "\n",
        "                                                                              \n",
        "                         2                    2                   2           \n",
        "alpha)*cos(\\delta(t))*cos (\\theta(t)) - \\Omega *sin(\\delta(t))*cos (\\alpha)*co\n",
        "                                                                              \n",
        "\n",
        "                                                           2                  \n",
        "                     2                   2           \\Omega *sin(2*\\delta(t)) \n",
        "s(\\delta(t)) + \\Omega *sin(\\delta(t))*cos (\\alpha) + ------------------------ \n",
        "                                                                2             \n",
        "\n",
        "                                                                              \n",
        "                                       2                                      \n",
        "- 2*\\Omega*\\dot{\\theta}*cos(\\alpha)*cos (\\delta(t))*cos(\\theta(t)) + 2*\\Omega*\n",
        "                                                                              \n",
        "\n",
        "                                                                              \n",
        "                                          \\Omega*\\dot{\\theta}*cos(\\alpha - 2*\\\n",
        "\\dot{\\theta}*cos(\\alpha)*cos(\\theta(t)) + ------------------------------------\n",
        "                                                                2             \n",
        "\n",
        "                                                                        2     \n",
        "delta(t))   \\Omega*\\dot{\\theta}*cos(\\alpha + 2*\\delta(t))   \\dot{\\theta} *sin(\n",
        "--------- - --------------------------------------------- + ------------------\n",
        "                                  2                                       2   \n",
        "\n",
        "                               \n",
        "2*\\delta(t))   g*sin(\\delta(t))\n",
        "------------ - ----------------\n",
        "                     \\ell      "
       ]
      }
     ],
     "prompt_number": 93
    },
    {
     "cell_type": "code",
     "collapsed": false,
     "input": [
      "f_\u03b43 = asignar_valores(sol\u03b43,0.023,10,2,pi/7);\n",
      "f_\u03b82 = asignar_valores(sol\u03b82,0.023,10,2,pi/7);"
     ],
     "language": "python",
     "metadata": {},
     "outputs": [],
     "prompt_number": 94
    },
    {
     "cell_type": "code",
     "collapsed": false,
     "input": [
      "sympy_to_julia(f_\u03b82)"
     ],
     "language": "python",
     "metadata": {},
     "outputs": [
      {
       "metadata": {},
       "output_type": "pyout",
       "prompt_number": 95,
       "text": [
        "\"-2*\u03b4p*\u03b82p/tan(\u03b4) - 0.0414445679235113*\u03b4p*cos(\u03b8) - 0.0199586519994077*\u03b4p/tan(\u03b4) + 0.000429413052591635*sin(\u03b8)*cos(\u03b8) + 0.000206794427112794*sin(\u03b8)/tan(\u03b4) - 0.000206794427112794*sin(\u03b8)/sin(\u03b4)\""
       ]
      }
     ],
     "prompt_number": 95
    },
    {
     "cell_type": "code",
     "collapsed": false,
     "input": [
      "sympy_to_julia(f_\u03b43)"
     ],
     "language": "python",
     "metadata": {},
     "outputs": [
      {
       "metadata": {},
       "output_type": "pyout",
       "prompt_number": 96,
       "text": [
        "\"\u03b82p^2*sin(2*\u03b4)/2 + 0.0115*\u03b82p*cos(2*\u03b4 - 0.448798950512828) - 0.0115*\u03b82p*cos(2*\u03b4 + 0.448798950512828) - 0.0414445679235113*\u03b82p*cos(\u03b4)^2*cos(\u03b8) + 0.0414445679235113*\u03b82p*cos(\u03b8) - 0.00013225*sin(\u03b8 - 0.897597901025655) + 0.00013225*sin(\u03b8 + 0.897597901025655) - 0.000429413052591635*sin(\u03b4)*cos(\u03b4)*cos(\u03b8)^2 - 0.000429413052591635*sin(\u03b4)*cos(\u03b4) - 4.99957058694741*sin(\u03b4) + 0.0002645*sin(2*\u03b4) - 0.000413588854225588*cos(\u03b4)^2*cos(\u03b8) + 0.000206794427112794*cos(\u03b4)*cos(\u03b8)\""
       ]
      }
     ],
     "prompt_number": 96
    },
    {
     "cell_type": "code",
     "collapsed": false,
     "input": [
      "f\u03b82(\u03b4p,\u03b82p,\u03b4,\u03b8) = -2*\u03b4p*\u03b82p/tan(\u03b4) - 0.0414445679235113*\u03b4p*cos(\u03b8) - 0.0199586519994077*\u03b4p/tan(\u03b4) + 0.000429413052591635*sin(\u03b8)*cos(\u03b8) + 0.000206794427112794*sin(\u03b8)/tan(\u03b4) - 0.000206794427112794*sin(\u03b8)/sin(\u03b4)\n",
      "f\u03b43(\u03b4p,\u03b82p,\u03b4,\u03b8) = \u03b82p^2*sin(2*\u03b4)/2 + 0.0115*\u03b82p*cos(2*\u03b4 - 0.448798950512828) - 0.0115*\u03b82p*cos(2*\u03b4 + 0.448798950512828) - 0.0414445679235113*\u03b82p*cos(\u03b4)^2*cos(\u03b8) + 0.0414445679235113*\u03b82p*cos(\u03b8) - 0.00013225*sin(\u03b8 - 0.897597901025655) + 0.00013225*sin(\u03b8 + 0.897597901025655) - 0.000429413052591635*sin(\u03b4)*cos(\u03b4)*cos(\u03b8)^2 - 0.000429413052591635*sin(\u03b4)*cos(\u03b4) - 4.99957058694741*sin(\u03b4) + 0.0002645*sin(2*\u03b4) - 0.000413588854225588*cos(\u03b4)^2*cos(\u03b8) + 0.000206794427112794*cos(\u03b4)*cos(\u03b8)"
     ],
     "language": "python",
     "metadata": {},
     "outputs": [
      {
       "metadata": {},
       "output_type": "pyout",
       "prompt_number": 97,
       "text": [
        "f\u03b43 (generic function with 1 method)"
       ]
      }
     ],
     "prompt_number": 97
    },
    {
     "cell_type": "code",
     "collapsed": false,
     "input": [
      "f3deriv(r0,v,t)=[f\u03b43(v[1],v[2],r0[1],r0[2]),f\u03b82(v[1],v[2],r0[1],r0[2])]"
     ],
     "language": "python",
     "metadata": {},
     "outputs": [
      {
       "metadata": {},
       "output_type": "pyout",
       "prompt_number": 98,
       "text": [
        "f3deriv (generic function with 1 method)"
       ]
      }
     ],
     "prompt_number": 98
    },
    {
     "cell_type": "code",
     "collapsed": false,
     "input": [
      "t3_polar,p3_polar,v3_polar=euler_cromer([pi/4,pi/12],[0.9,0.3],0.0,50.0,1e-4,fposicion,f3deriv);"
     ],
     "language": "python",
     "metadata": {},
     "outputs": [],
     "prompt_number": 108
    },
    {
     "cell_type": "code",
     "collapsed": false,
     "input": [
      "\u03b4s2=p3_polar[:,1];\n",
      "\u03b8s2=p3_polar[:,2];"
     ],
     "language": "python",
     "metadata": {},
     "outputs": [],
     "prompt_number": 109
    },
    {
     "cell_type": "code",
     "collapsed": false,
     "input": [
      "xs3 = 2*sin(\u03b4s2).*cos(\u03b8s2);\n",
      "ys3 = 2*sin(\u03b4s2).*sin(\u03b8s2);\n",
      "zs3 = 2 - 2*cos(\u03b4s2);"
     ],
     "language": "python",
     "metadata": {},
     "outputs": [],
     "prompt_number": 110
    },
    {
     "cell_type": "code",
     "collapsed": false,
     "input": [
      "plot3D(xs3,ys3)"
     ],
     "language": "python",
     "metadata": {},
     "outputs": [
      {
       "metadata": {},
       "output_type": "display_data",
       "png": "[encoded data removed]",
       "text": [
        "Figure(PyObject <matplotlib.figure.Figure object at 0xa9aeebac>)"
       ]
      },
      {
       "metadata": {},
       "output_type": "pyout",
       "prompt_number": 112,
       "text": [
        "1-element Array{Any,1}:\n",
        " PyObject <mpl_toolkits.mplot3d.art3d.Line3D object at 0xa9ce4e6c>"
       ]
      }
     ],
     "prompt_number": 112
    },
    {
     "cell_type": "code",
     "collapsed": false,
     "input": [],
     "language": "python",
     "metadata": {},
     "outputs": []
    }
   ],
   "metadata": {}
  }
 ]
}